{
 "cells": [
  {
   "cell_type": "code",
   "execution_count": 1,
   "metadata": {},
   "outputs": [],
   "source": [
    "import keras\n",
    "import tensorflow as tf\n",
    "import numpy as np\n",
    "import matplotlib.pyplot as plt\n",
    "import textwrap\n",
    "from numpy import argmax\n",
    "from random import randint\n",
    "from tqdm import tqdm\n",
    "from IPython.display import Image, display\n",
    "from board_manager import BoardManager, write_model_as_c_header_file\n"
   ]
  },
  {
   "cell_type": "code",
   "execution_count": 2,
   "metadata": {},
   "outputs": [
    {
     "name": "stderr",
     "output_type": "stream",
     "text": [
      "100%|██████████| 10000/10000 [10:05<00:00, 16.51it/s]\n",
      "100%|██████████| 10000/10000 [09:52<00:00, 16.87it/s]\n"
     ]
    }
   ],
   "source": [
    "#\n",
    "# * experimental\n",
    "#\n",
    "\n",
    "stage_categorical = False\n",
    "\n",
    "tile_count = 4\n",
    "stage_round_counts = [10000, 10000]\n",
    "stage_step_count = 20\n",
    "extra_stage_step_count = 0\n",
    "\n",
    "stage_count = len(stage_round_counts)\n",
    "show_values = (stage_count == 1 and stage_round_counts[0] < 10) or (stage_count == 2 and stage_round_counts[0] < 5 and stage_round_counts[1] < 5)\n",
    "\n",
    "stage_boards = []\n",
    "stage_moves = []\n",
    "stage_total_sample_counts = []\n",
    "\n",
    "stage_board_managers = []\n",
    "board_manager = BoardManager(tile_count)\n",
    "stage_board_managers.append(board_manager.clone())\n",
    "\n",
    "for stage in range(1, stage_count):\n",
    "  random_step_count = stage_step_count\n",
    "  for _ in range(random_step_count):\n",
    "    board_manager.randomize_board_step()\n",
    "  stage_board_managers.append(board_manager.clone())\n",
    "    \n",
    "for stage in range(stage_count):\n",
    "  round_count = stage_round_counts[stage]\n",
    "\n",
    "  boards = np.empty((0, tile_count * tile_count), int)\n",
    "  moves = np.empty(0, int)\n",
    "\n",
    "  total_sample_count = 0\n",
    "  for round in tqdm(range(round_count)):\n",
    "    board_manager = stage_board_managers[stage].clone()  \n",
    "    if show_values:\n",
    "      print(f\"[{stage}.{round}]\")\n",
    "      board_manager.show_board()\n",
    "    random_step_count = stage_step_count + extra_stage_step_count\n",
    "    total_sample_count += random_step_count\n",
    "    for _ in range(random_step_count):\n",
    "      move = board_manager.randomize_board_step()\n",
    "      if show_values:\n",
    "        print(f\"[{stage}.{round}] move: {move}\")\n",
    "        board_manager.show_board()\n",
    "      boards = np.append(boards, [board_manager.board_tiles], axis=0)\n",
    "      moves = np.append(moves, move)\n",
    "  stage_boards.append(boards)\n",
    "  stage_moves.append(moves)  \n",
    "  stage_total_sample_counts.append(total_sample_count)\n"
   ]
  },
  {
   "cell_type": "code",
   "execution_count": 3,
   "metadata": {},
   "outputs": [
    {
     "name": "stdout",
     "output_type": "stream",
     "text": [
      "[0] * x_values shape: (200000, 16)\n",
      "[0] * y_values shape: (200000, 8)\n",
      "[1] * x_values shape: (200000, 16)\n",
      "[1] * y_values shape: (200000, 8)\n"
     ]
    }
   ],
   "source": [
    "stage_x_values = []\n",
    "stage_y_values = []\n",
    "for stage in range(stage_count):\n",
    "  \n",
    "  boards = stage_boards[stage] \n",
    "  moves = stage_moves[stage]\n",
    "  x_values = boards.astype('float32') / (tile_count * tile_count)\n",
    "  moves = [move + 4 * stage for move in stage_moves[stage]]\n",
    "  y_values = keras.utils.to_categorical(moves, 4 * stage_count)\n",
    "\n",
    "  print(f\"[{stage}] * x_values shape: {x_values.shape}\")\n",
    "  if show_values:\n",
    "    print(f\"[{stage}] * x_values:\")\n",
    "    print(textwrap.indent(str(x_values), \"    \"))\n",
    "\n",
    "  print(f\"[{stage}] * y_values shape: {y_values.shape}\")\n",
    "  if show_values:\n",
    "    print(f\"[{stage}] * y_values:\")\n",
    "    print(textwrap.indent(str(y_values), \"    \"))\n",
    "\n",
    "  stage_x_values.append(x_values)\n",
    "  stage_y_values.append(y_values)  "
   ]
  },
  {
   "cell_type": "code",
   "execution_count": 4,
   "metadata": {},
   "outputs": [
    {
     "name": "stdout",
     "output_type": "stream",
     "text": [
      "[0] * x_train shape: (120000, 16)\n",
      "[0] * x_validate shape: (40000, 16)\n",
      "[0] * x_test shape: (40000, 16)\n",
      "[0] * y_train shape: (120000, 8)\n",
      "[0] * y_validate shape: (40000, 8)\n",
      "[0] * y_text shape: (40000, 8)\n",
      "[1] * x_train shape: (120000, 16)\n",
      "[1] * x_validate shape: (40000, 16)\n",
      "[1] * x_test shape: (40000, 16)\n",
      "[1] * y_train shape: (120000, 8)\n",
      "[1] * y_validate shape: (40000, 8)\n",
      "[1] * y_text shape: (40000, 8)\n"
     ]
    }
   ],
   "source": [
    "stage_x_dps = []\n",
    "stage_y_dps = []\n",
    "for stage in range(stage_count):\n",
    "  x_values = stage_x_values[stage]\n",
    "  y_values = stage_y_values[stage]\n",
    "  total_sample_count = stage_total_sample_counts[stage]\n",
    "\n",
    "  indices = np.random.permutation(x_values.shape[0])\n",
    "  x_values = x_values[indices]\n",
    "  y_values = y_values[indices]\n",
    "\n",
    "  TRAIN_SPLIT = int(0.6 * total_sample_count)\n",
    "  TEST_SPLIT = int(0.2 * total_sample_count + TRAIN_SPLIT)\n",
    "\n",
    "  x_train, x_validate, x_test = np.split(x_values, [TRAIN_SPLIT, TEST_SPLIT])\n",
    "  y_train, y_validate, y_test = np.split(y_values, [TRAIN_SPLIT, TEST_SPLIT])\n",
    "\n",
    "  print(f\"[{stage}] * x_train shape: {x_train.shape}\")\n",
    "  print(f\"[{stage}] * x_validate shape: {x_validate.shape}\")\n",
    "  print(f\"[{stage}] * x_test shape: {x_test.shape}\")\n",
    "\n",
    "  print(f\"[{stage}] * y_train shape: {y_train.shape}\")\n",
    "  print(f\"[{stage}] * y_validate shape: {y_validate.shape}\")\n",
    "  print(f\"[{stage}] * y_text shape: {y_test.shape}\")\n",
    "\n",
    "  x_dps = (x_train, x_validate, x_test)\n",
    "  y_dps = (y_train, y_validate, y_test)\n",
    "  stage_x_dps.append(x_dps)\n",
    "  stage_y_dps.append(y_dps)"
   ]
  },
  {
   "cell_type": "code",
   "execution_count": 5,
   "metadata": {},
   "outputs": [
    {
     "name": "stderr",
     "output_type": "stream",
     "text": [
      "c:\\Users\\trevorlee\\Documents\\MyProjects\\Git\\ESP32SlidingPuzzle\\.venv\\lib\\site-packages\\keras\\src\\layers\\core\\dense.py:87: UserWarning: Do not pass an `input_shape`/`input_dim` argument to a layer. When using Sequential models, prefer using an `Input(shape)` object as the first layer in the model instead.\n",
      "  super().__init__(activity_regularizer=activity_regularizer, **kwargs)\n"
     ]
    },
    {
     "data": {
      "text/html": [
       "<pre style=\"white-space:pre;overflow-x:auto;line-height:normal;font-family:Menlo,'DejaVu Sans Mono',consolas,'Courier New',monospace\"><span style=\"font-weight: bold\">Model: \"sequential\"</span>\n",
       "</pre>\n"
      ],
      "text/plain": [
       "\u001b[1mModel: \"sequential\"\u001b[0m\n"
      ]
     },
     "metadata": {},
     "output_type": "display_data"
    },
    {
     "data": {
      "text/html": [
       "<pre style=\"white-space:pre;overflow-x:auto;line-height:normal;font-family:Menlo,'DejaVu Sans Mono',consolas,'Courier New',monospace\">┏━━━━━━━━━━━━━━━━━━━━━━━━━━━━━━━━━┳━━━━━━━━━━━━━━━━━━━━━━━━┳━━━━━━━━━━━━━━━┓\n",
       "┃<span style=\"font-weight: bold\"> Layer (type)                    </span>┃<span style=\"font-weight: bold\"> Output Shape           </span>┃<span style=\"font-weight: bold\">       Param # </span>┃\n",
       "┡━━━━━━━━━━━━━━━━━━━━━━━━━━━━━━━━━╇━━━━━━━━━━━━━━━━━━━━━━━━╇━━━━━━━━━━━━━━━┩\n",
       "│ dense (<span style=\"color: #0087ff; text-decoration-color: #0087ff\">Dense</span>)                   │ (<span style=\"color: #00d7ff; text-decoration-color: #00d7ff\">None</span>, <span style=\"color: #00af00; text-decoration-color: #00af00\">256</span>)            │         <span style=\"color: #00af00; text-decoration-color: #00af00\">4,352</span> │\n",
       "├─────────────────────────────────┼────────────────────────┼───────────────┤\n",
       "│ dropout (<span style=\"color: #0087ff; text-decoration-color: #0087ff\">Dropout</span>)               │ (<span style=\"color: #00d7ff; text-decoration-color: #00d7ff\">None</span>, <span style=\"color: #00af00; text-decoration-color: #00af00\">256</span>)            │             <span style=\"color: #00af00; text-decoration-color: #00af00\">0</span> │\n",
       "├─────────────────────────────────┼────────────────────────┼───────────────┤\n",
       "│ dense_1 (<span style=\"color: #0087ff; text-decoration-color: #0087ff\">Dense</span>)                 │ (<span style=\"color: #00d7ff; text-decoration-color: #00d7ff\">None</span>, <span style=\"color: #00af00; text-decoration-color: #00af00\">256</span>)            │        <span style=\"color: #00af00; text-decoration-color: #00af00\">65,792</span> │\n",
       "├─────────────────────────────────┼────────────────────────┼───────────────┤\n",
       "│ dense_2 (<span style=\"color: #0087ff; text-decoration-color: #0087ff\">Dense</span>)                 │ (<span style=\"color: #00d7ff; text-decoration-color: #00d7ff\">None</span>, <span style=\"color: #00af00; text-decoration-color: #00af00\">8</span>)              │         <span style=\"color: #00af00; text-decoration-color: #00af00\">2,056</span> │\n",
       "└─────────────────────────────────┴────────────────────────┴───────────────┘\n",
       "</pre>\n"
      ],
      "text/plain": [
       "┏━━━━━━━━━━━━━━━━━━━━━━━━━━━━━━━━━┳━━━━━━━━━━━━━━━━━━━━━━━━┳━━━━━━━━━━━━━━━┓\n",
       "┃\u001b[1m \u001b[0m\u001b[1mLayer (type)                   \u001b[0m\u001b[1m \u001b[0m┃\u001b[1m \u001b[0m\u001b[1mOutput Shape          \u001b[0m\u001b[1m \u001b[0m┃\u001b[1m \u001b[0m\u001b[1m      Param #\u001b[0m\u001b[1m \u001b[0m┃\n",
       "┡━━━━━━━━━━━━━━━━━━━━━━━━━━━━━━━━━╇━━━━━━━━━━━━━━━━━━━━━━━━╇━━━━━━━━━━━━━━━┩\n",
       "│ dense (\u001b[38;5;33mDense\u001b[0m)                   │ (\u001b[38;5;45mNone\u001b[0m, \u001b[38;5;34m256\u001b[0m)            │         \u001b[38;5;34m4,352\u001b[0m │\n",
       "├─────────────────────────────────┼────────────────────────┼───────────────┤\n",
       "│ dropout (\u001b[38;5;33mDropout\u001b[0m)               │ (\u001b[38;5;45mNone\u001b[0m, \u001b[38;5;34m256\u001b[0m)            │             \u001b[38;5;34m0\u001b[0m │\n",
       "├─────────────────────────────────┼────────────────────────┼───────────────┤\n",
       "│ dense_1 (\u001b[38;5;33mDense\u001b[0m)                 │ (\u001b[38;5;45mNone\u001b[0m, \u001b[38;5;34m256\u001b[0m)            │        \u001b[38;5;34m65,792\u001b[0m │\n",
       "├─────────────────────────────────┼────────────────────────┼───────────────┤\n",
       "│ dense_2 (\u001b[38;5;33mDense\u001b[0m)                 │ (\u001b[38;5;45mNone\u001b[0m, \u001b[38;5;34m8\u001b[0m)              │         \u001b[38;5;34m2,056\u001b[0m │\n",
       "└─────────────────────────────────┴────────────────────────┴───────────────┘\n"
      ]
     },
     "metadata": {},
     "output_type": "display_data"
    },
    {
     "data": {
      "text/html": [
       "<pre style=\"white-space:pre;overflow-x:auto;line-height:normal;font-family:Menlo,'DejaVu Sans Mono',consolas,'Courier New',monospace\"><span style=\"font-weight: bold\"> Total params: </span><span style=\"color: #00af00; text-decoration-color: #00af00\">72,200</span> (282.03 KB)\n",
       "</pre>\n"
      ],
      "text/plain": [
       "\u001b[1m Total params: \u001b[0m\u001b[38;5;34m72,200\u001b[0m (282.03 KB)\n"
      ]
     },
     "metadata": {},
     "output_type": "display_data"
    },
    {
     "data": {
      "text/html": [
       "<pre style=\"white-space:pre;overflow-x:auto;line-height:normal;font-family:Menlo,'DejaVu Sans Mono',consolas,'Courier New',monospace\"><span style=\"font-weight: bold\"> Trainable params: </span><span style=\"color: #00af00; text-decoration-color: #00af00\">72,200</span> (282.03 KB)\n",
       "</pre>\n"
      ],
      "text/plain": [
       "\u001b[1m Trainable params: \u001b[0m\u001b[38;5;34m72,200\u001b[0m (282.03 KB)\n"
      ]
     },
     "metadata": {},
     "output_type": "display_data"
    },
    {
     "data": {
      "text/html": [
       "<pre style=\"white-space:pre;overflow-x:auto;line-height:normal;font-family:Menlo,'DejaVu Sans Mono',consolas,'Courier New',monospace\"><span style=\"font-weight: bold\"> Non-trainable params: </span><span style=\"color: #00af00; text-decoration-color: #00af00\">0</span> (0.00 B)\n",
       "</pre>\n"
      ],
      "text/plain": [
       "\u001b[1m Non-trainable params: \u001b[0m\u001b[38;5;34m0\u001b[0m (0.00 B)\n"
      ]
     },
     "metadata": {},
     "output_type": "display_data"
    }
   ],
   "source": [
    "batch_size = 128\n",
    "epoch_count = 125\n",
    "\n",
    "model = keras.models.Sequential()\n",
    "model.add(keras.layers.Dense(256, activation='relu', input_shape=(tile_count * tile_count,)))\n",
    "model.add(keras.layers.Dropout(0.3))\n",
    "model.add(keras.layers.Dense(256, activation='relu'))\n",
    "model.add(keras.layers.Dense(4 * stage_count, activation='softmax'))\n",
    "\n",
    "model.summary()\n",
    "\n",
    "#keras.utils.plot_model(model, \"output/model.png\", show_shapes=True)\n",
    "#display(Image(filename= \"output/model.png\"))\n",
    "\n",
    "model.compile(loss='categorical_crossentropy', optimizer=keras.optimizers.RMSprop(), metrics=['accuracy'])\n"
   ]
  },
  {
   "cell_type": "code",
   "execution_count": 6,
   "metadata": {},
   "outputs": [
    {
     "name": "stdout",
     "output_type": "stream",
     "text": [
      "Epoch 1/125\n",
      "\u001b[1m1875/1875\u001b[0m \u001b[32m━━━━━━━━━━━━━━━━━━━━\u001b[0m\u001b[37m\u001b[0m \u001b[1m5s\u001b[0m 2ms/step - accuracy: 0.3972 - loss: 1.5730 - val_accuracy: 0.6087 - val_loss: 1.1107\n",
      "Epoch 2/125\n",
      "\u001b[1m1875/1875\u001b[0m \u001b[32m━━━━━━━━━━━━━━━━━━━━\u001b[0m\u001b[37m\u001b[0m \u001b[1m4s\u001b[0m 2ms/step - accuracy: 0.5959 - loss: 1.1316 - val_accuracy: 0.6577 - val_loss: 0.9533\n",
      "Epoch 3/125\n",
      "\u001b[1m1875/1875\u001b[0m \u001b[32m━━━━━━━━━━━━━━━━━━━━\u001b[0m\u001b[37m\u001b[0m \u001b[1m4s\u001b[0m 2ms/step - accuracy: 0.6536 - loss: 0.9855 - val_accuracy: 0.7093 - val_loss: 0.8315\n",
      "Epoch 4/125\n",
      "\u001b[1m1875/1875\u001b[0m \u001b[32m━━━━━━━━━━━━━━━━━━━━\u001b[0m\u001b[37m\u001b[0m \u001b[1m5s\u001b[0m 3ms/step - accuracy: 0.6889 - loss: 0.8923 - val_accuracy: 0.7399 - val_loss: 0.7560\n",
      "Epoch 5/125\n",
      "\u001b[1m1875/1875\u001b[0m \u001b[32m━━━━━━━━━━━━━━━━━━━━\u001b[0m\u001b[37m\u001b[0m \u001b[1m6s\u001b[0m 3ms/step - accuracy: 0.7144 - loss: 0.8239 - val_accuracy: 0.7542 - val_loss: 0.7112\n",
      "Epoch 6/125\n",
      "\u001b[1m1875/1875\u001b[0m \u001b[32m━━━━━━━━━━━━━━━━━━━━\u001b[0m\u001b[37m\u001b[0m \u001b[1m5s\u001b[0m 3ms/step - accuracy: 0.7299 - loss: 0.7874 - val_accuracy: 0.7662 - val_loss: 0.6786\n",
      "Epoch 7/125\n",
      "\u001b[1m1875/1875\u001b[0m \u001b[32m━━━━━━━━━━━━━━━━━━━━\u001b[0m\u001b[37m\u001b[0m \u001b[1m5s\u001b[0m 3ms/step - accuracy: 0.7388 - loss: 0.7571 - val_accuracy: 0.7721 - val_loss: 0.6572\n",
      "Epoch 8/125\n",
      "\u001b[1m1875/1875\u001b[0m \u001b[32m━━━━━━━━━━━━━━━━━━━━\u001b[0m\u001b[37m\u001b[0m \u001b[1m5s\u001b[0m 2ms/step - accuracy: 0.7494 - loss: 0.7294 - val_accuracy: 0.7799 - val_loss: 0.6371\n",
      "Epoch 9/125\n",
      "\u001b[1m1875/1875\u001b[0m \u001b[32m━━━━━━━━━━━━━━━━━━━━\u001b[0m\u001b[37m\u001b[0m \u001b[1m5s\u001b[0m 3ms/step - accuracy: 0.7530 - loss: 0.7149 - val_accuracy: 0.7857 - val_loss: 0.6249\n",
      "Epoch 10/125\n",
      "\u001b[1m1875/1875\u001b[0m \u001b[32m━━━━━━━━━━━━━━━━━━━━\u001b[0m\u001b[37m\u001b[0m \u001b[1m5s\u001b[0m 3ms/step - accuracy: 0.7590 - loss: 0.6996 - val_accuracy: 0.7890 - val_loss: 0.6147\n",
      "Epoch 11/125\n",
      "\u001b[1m1875/1875\u001b[0m \u001b[32m━━━━━━━━━━━━━━━━━━━━\u001b[0m\u001b[37m\u001b[0m \u001b[1m5s\u001b[0m 2ms/step - accuracy: 0.7650 - loss: 0.6867 - val_accuracy: 0.7895 - val_loss: 0.6087\n",
      "Epoch 12/125\n",
      "\u001b[1m1875/1875\u001b[0m \u001b[32m━━━━━━━━━━━━━━━━━━━━\u001b[0m\u001b[37m\u001b[0m \u001b[1m5s\u001b[0m 3ms/step - accuracy: 0.7664 - loss: 0.6818 - val_accuracy: 0.7918 - val_loss: 0.6065\n",
      "Epoch 13/125\n",
      "\u001b[1m1875/1875\u001b[0m \u001b[32m━━━━━━━━━━━━━━━━━━━━\u001b[0m\u001b[37m\u001b[0m \u001b[1m5s\u001b[0m 3ms/step - accuracy: 0.7705 - loss: 0.6681 - val_accuracy: 0.7915 - val_loss: 0.5973\n",
      "Epoch 14/125\n",
      "\u001b[1m1875/1875\u001b[0m \u001b[32m━━━━━━━━━━━━━━━━━━━━\u001b[0m\u001b[37m\u001b[0m \u001b[1m5s\u001b[0m 3ms/step - accuracy: 0.7721 - loss: 0.6646 - val_accuracy: 0.7971 - val_loss: 0.5891\n",
      "Epoch 15/125\n",
      "\u001b[1m1875/1875\u001b[0m \u001b[32m━━━━━━━━━━━━━━━━━━━━\u001b[0m\u001b[37m\u001b[0m \u001b[1m5s\u001b[0m 3ms/step - accuracy: 0.7751 - loss: 0.6565 - val_accuracy: 0.7955 - val_loss: 0.5872\n",
      "Epoch 16/125\n",
      "\u001b[1m1875/1875\u001b[0m \u001b[32m━━━━━━━━━━━━━━━━━━━━\u001b[0m\u001b[37m\u001b[0m \u001b[1m5s\u001b[0m 3ms/step - accuracy: 0.7775 - loss: 0.6509 - val_accuracy: 0.8005 - val_loss: 0.5784\n",
      "Epoch 17/125\n",
      "\u001b[1m1875/1875\u001b[0m \u001b[32m━━━━━━━━━━━━━━━━━━━━\u001b[0m\u001b[37m\u001b[0m \u001b[1m5s\u001b[0m 3ms/step - accuracy: 0.7786 - loss: 0.6468 - val_accuracy: 0.8017 - val_loss: 0.5758\n",
      "Epoch 18/125\n",
      "\u001b[1m1875/1875\u001b[0m \u001b[32m━━━━━━━━━━━━━━━━━━━━\u001b[0m\u001b[37m\u001b[0m \u001b[1m5s\u001b[0m 3ms/step - accuracy: 0.7814 - loss: 0.6390 - val_accuracy: 0.8029 - val_loss: 0.5729\n",
      "Epoch 19/125\n",
      "\u001b[1m1875/1875\u001b[0m \u001b[32m━━━━━━━━━━━━━━━━━━━━\u001b[0m\u001b[37m\u001b[0m \u001b[1m5s\u001b[0m 3ms/step - accuracy: 0.7828 - loss: 0.6362 - val_accuracy: 0.8040 - val_loss: 0.5643\n",
      "Epoch 20/125\n",
      "\u001b[1m1875/1875\u001b[0m \u001b[32m━━━━━━━━━━━━━━━━━━━━\u001b[0m\u001b[37m\u001b[0m \u001b[1m5s\u001b[0m 3ms/step - accuracy: 0.7837 - loss: 0.6333 - val_accuracy: 0.8054 - val_loss: 0.5658\n",
      "Epoch 21/125\n",
      "\u001b[1m1875/1875\u001b[0m \u001b[32m━━━━━━━━━━━━━━━━━━━━\u001b[0m\u001b[37m\u001b[0m \u001b[1m5s\u001b[0m 3ms/step - accuracy: 0.7844 - loss: 0.6294 - val_accuracy: 0.8096 - val_loss: 0.5579\n",
      "Epoch 22/125\n",
      "\u001b[1m1875/1875\u001b[0m \u001b[32m━━━━━━━━━━━━━━━━━━━━\u001b[0m\u001b[37m\u001b[0m \u001b[1m5s\u001b[0m 2ms/step - accuracy: 0.7865 - loss: 0.6282 - val_accuracy: 0.8081 - val_loss: 0.5544\n",
      "Epoch 23/125\n",
      "\u001b[1m1875/1875\u001b[0m \u001b[32m━━━━━━━━━━━━━━━━━━━━\u001b[0m\u001b[37m\u001b[0m \u001b[1m5s\u001b[0m 2ms/step - accuracy: 0.7881 - loss: 0.6227 - val_accuracy: 0.8098 - val_loss: 0.5530\n",
      "Epoch 24/125\n",
      "\u001b[1m1875/1875\u001b[0m \u001b[32m━━━━━━━━━━━━━━━━━━━━\u001b[0m\u001b[37m\u001b[0m \u001b[1m5s\u001b[0m 2ms/step - accuracy: 0.7902 - loss: 0.6178 - val_accuracy: 0.8094 - val_loss: 0.5562\n",
      "Epoch 25/125\n",
      "\u001b[1m1875/1875\u001b[0m \u001b[32m━━━━━━━━━━━━━━━━━━━━\u001b[0m\u001b[37m\u001b[0m \u001b[1m5s\u001b[0m 2ms/step - accuracy: 0.7894 - loss: 0.6132 - val_accuracy: 0.8087 - val_loss: 0.5528\n",
      "Epoch 26/125\n",
      "\u001b[1m1875/1875\u001b[0m \u001b[32m━━━━━━━━━━━━━━━━━━━━\u001b[0m\u001b[37m\u001b[0m \u001b[1m5s\u001b[0m 3ms/step - accuracy: 0.7896 - loss: 0.6155 - val_accuracy: 0.8104 - val_loss: 0.5476\n",
      "Epoch 27/125\n",
      "\u001b[1m1875/1875\u001b[0m \u001b[32m━━━━━━━━━━━━━━━━━━━━\u001b[0m\u001b[37m\u001b[0m \u001b[1m5s\u001b[0m 2ms/step - accuracy: 0.7921 - loss: 0.6116 - val_accuracy: 0.8139 - val_loss: 0.5402\n",
      "Epoch 28/125\n",
      "\u001b[1m1875/1875\u001b[0m \u001b[32m━━━━━━━━━━━━━━━━━━━━\u001b[0m\u001b[37m\u001b[0m \u001b[1m5s\u001b[0m 2ms/step - accuracy: 0.7936 - loss: 0.6103 - val_accuracy: 0.8144 - val_loss: 0.5403\n",
      "Epoch 29/125\n",
      "\u001b[1m1875/1875\u001b[0m \u001b[32m━━━━━━━━━━━━━━━━━━━━\u001b[0m\u001b[37m\u001b[0m \u001b[1m5s\u001b[0m 2ms/step - accuracy: 0.7923 - loss: 0.6095 - val_accuracy: 0.8138 - val_loss: 0.5421\n",
      "Epoch 30/125\n",
      "\u001b[1m1875/1875\u001b[0m \u001b[32m━━━━━━━━━━━━━━━━━━━━\u001b[0m\u001b[37m\u001b[0m \u001b[1m5s\u001b[0m 3ms/step - accuracy: 0.7957 - loss: 0.6004 - val_accuracy: 0.8170 - val_loss: 0.5329\n",
      "Epoch 31/125\n",
      "\u001b[1m1875/1875\u001b[0m \u001b[32m━━━━━━━━━━━━━━━━━━━━\u001b[0m\u001b[37m\u001b[0m \u001b[1m5s\u001b[0m 3ms/step - accuracy: 0.7949 - loss: 0.6019 - val_accuracy: 0.8143 - val_loss: 0.5382\n",
      "Epoch 32/125\n",
      "\u001b[1m1875/1875\u001b[0m \u001b[32m━━━━━━━━━━━━━━━━━━━━\u001b[0m\u001b[37m\u001b[0m \u001b[1m5s\u001b[0m 3ms/step - accuracy: 0.7945 - loss: 0.6032 - val_accuracy: 0.8157 - val_loss: 0.5335\n",
      "Epoch 33/125\n",
      "\u001b[1m1875/1875\u001b[0m \u001b[32m━━━━━━━━━━━━━━━━━━━━\u001b[0m\u001b[37m\u001b[0m \u001b[1m5s\u001b[0m 3ms/step - accuracy: 0.7975 - loss: 0.5950 - val_accuracy: 0.8153 - val_loss: 0.5374\n",
      "Epoch 34/125\n",
      "\u001b[1m1875/1875\u001b[0m \u001b[32m━━━━━━━━━━━━━━━━━━━━\u001b[0m\u001b[37m\u001b[0m \u001b[1m8s\u001b[0m 4ms/step - accuracy: 0.7971 - loss: 0.5966 - val_accuracy: 0.8171 - val_loss: 0.5320\n",
      "Epoch 35/125\n",
      "\u001b[1m1875/1875\u001b[0m \u001b[32m━━━━━━━━━━━━━━━━━━━━\u001b[0m\u001b[37m\u001b[0m \u001b[1m6s\u001b[0m 3ms/step - accuracy: 0.7980 - loss: 0.5959 - val_accuracy: 0.8175 - val_loss: 0.5306\n",
      "Epoch 36/125\n",
      "\u001b[1m1875/1875\u001b[0m \u001b[32m━━━━━━━━━━━━━━━━━━━━\u001b[0m\u001b[37m\u001b[0m \u001b[1m5s\u001b[0m 3ms/step - accuracy: 0.7974 - loss: 0.5936 - val_accuracy: 0.8155 - val_loss: 0.5337\n",
      "Epoch 37/125\n",
      "\u001b[1m1875/1875\u001b[0m \u001b[32m━━━━━━━━━━━━━━━━━━━━\u001b[0m\u001b[37m\u001b[0m \u001b[1m5s\u001b[0m 3ms/step - accuracy: 0.7971 - loss: 0.5992 - val_accuracy: 0.8199 - val_loss: 0.5248\n",
      "Epoch 38/125\n",
      "\u001b[1m1875/1875\u001b[0m \u001b[32m━━━━━━━━━━━━━━━━━━━━\u001b[0m\u001b[37m\u001b[0m \u001b[1m5s\u001b[0m 3ms/step - accuracy: 0.7984 - loss: 0.5929 - val_accuracy: 0.8170 - val_loss: 0.5278\n",
      "Epoch 39/125\n",
      "\u001b[1m1875/1875\u001b[0m \u001b[32m━━━━━━━━━━━━━━━━━━━━\u001b[0m\u001b[37m\u001b[0m \u001b[1m6s\u001b[0m 3ms/step - accuracy: 0.7996 - loss: 0.5908 - val_accuracy: 0.8171 - val_loss: 0.5279\n",
      "Epoch 40/125\n",
      "\u001b[1m1875/1875\u001b[0m \u001b[32m━━━━━━━━━━━━━━━━━━━━\u001b[0m\u001b[37m\u001b[0m \u001b[1m6s\u001b[0m 3ms/step - accuracy: 0.8000 - loss: 0.5878 - val_accuracy: 0.8178 - val_loss: 0.5268\n",
      "Epoch 41/125\n",
      "\u001b[1m1875/1875\u001b[0m \u001b[32m━━━━━━━━━━━━━━━━━━━━\u001b[0m\u001b[37m\u001b[0m \u001b[1m6s\u001b[0m 3ms/step - accuracy: 0.8009 - loss: 0.5898 - val_accuracy: 0.8196 - val_loss: 0.5255\n",
      "Epoch 42/125\n",
      "\u001b[1m1875/1875\u001b[0m \u001b[32m━━━━━━━━━━━━━━━━━━━━\u001b[0m\u001b[37m\u001b[0m \u001b[1m6s\u001b[0m 3ms/step - accuracy: 0.8020 - loss: 0.5875 - val_accuracy: 0.8182 - val_loss: 0.5305\n",
      "Epoch 43/125\n",
      "\u001b[1m1875/1875\u001b[0m \u001b[32m━━━━━━━━━━━━━━━━━━━━\u001b[0m\u001b[37m\u001b[0m \u001b[1m6s\u001b[0m 3ms/step - accuracy: 0.8025 - loss: 0.5857 - val_accuracy: 0.8203 - val_loss: 0.5201\n",
      "Epoch 44/125\n",
      "\u001b[1m1875/1875\u001b[0m \u001b[32m━━━━━━━━━━━━━━━━━━━━\u001b[0m\u001b[37m\u001b[0m \u001b[1m6s\u001b[0m 3ms/step - accuracy: 0.8010 - loss: 0.5860 - val_accuracy: 0.8194 - val_loss: 0.5253\n",
      "Epoch 45/125\n",
      "\u001b[1m1875/1875\u001b[0m \u001b[32m━━━━━━━━━━━━━━━━━━━━\u001b[0m\u001b[37m\u001b[0m \u001b[1m6s\u001b[0m 3ms/step - accuracy: 0.8012 - loss: 0.5853 - val_accuracy: 0.8212 - val_loss: 0.5212\n",
      "Epoch 46/125\n",
      "\u001b[1m1875/1875\u001b[0m \u001b[32m━━━━━━━━━━━━━━━━━━━━\u001b[0m\u001b[37m\u001b[0m \u001b[1m5s\u001b[0m 3ms/step - accuracy: 0.8032 - loss: 0.5831 - val_accuracy: 0.8206 - val_loss: 0.5207\n",
      "Epoch 47/125\n",
      "\u001b[1m1875/1875\u001b[0m \u001b[32m━━━━━━━━━━━━━━━━━━━━\u001b[0m\u001b[37m\u001b[0m \u001b[1m5s\u001b[0m 3ms/step - accuracy: 0.8019 - loss: 0.5837 - val_accuracy: 0.8203 - val_loss: 0.5213\n",
      "Epoch 48/125\n",
      "\u001b[1m1875/1875\u001b[0m \u001b[32m━━━━━━━━━━━━━━━━━━━━\u001b[0m\u001b[37m\u001b[0m \u001b[1m6s\u001b[0m 3ms/step - accuracy: 0.8016 - loss: 0.5843 - val_accuracy: 0.8237 - val_loss: 0.5172\n",
      "Epoch 49/125\n",
      "\u001b[1m1875/1875\u001b[0m \u001b[32m━━━━━━━━━━━━━━━━━━━━\u001b[0m\u001b[37m\u001b[0m \u001b[1m5s\u001b[0m 3ms/step - accuracy: 0.8036 - loss: 0.5830 - val_accuracy: 0.8227 - val_loss: 0.5187\n",
      "Epoch 50/125\n",
      "\u001b[1m1875/1875\u001b[0m \u001b[32m━━━━━━━━━━━━━━━━━━━━\u001b[0m\u001b[37m\u001b[0m \u001b[1m5s\u001b[0m 3ms/step - accuracy: 0.8032 - loss: 0.5814 - val_accuracy: 0.8203 - val_loss: 0.5215\n",
      "Epoch 51/125\n",
      "\u001b[1m1875/1875\u001b[0m \u001b[32m━━━━━━━━━━━━━━━━━━━━\u001b[0m\u001b[37m\u001b[0m \u001b[1m5s\u001b[0m 3ms/step - accuracy: 0.8027 - loss: 0.5825 - val_accuracy: 0.8223 - val_loss: 0.5213\n",
      "Epoch 52/125\n",
      "\u001b[1m1875/1875\u001b[0m \u001b[32m━━━━━━━━━━━━━━━━━━━━\u001b[0m\u001b[37m\u001b[0m \u001b[1m5s\u001b[0m 3ms/step - accuracy: 0.8023 - loss: 0.5812 - val_accuracy: 0.8222 - val_loss: 0.5205\n",
      "Epoch 53/125\n",
      "\u001b[1m1875/1875\u001b[0m \u001b[32m━━━━━━━━━━━━━━━━━━━━\u001b[0m\u001b[37m\u001b[0m \u001b[1m5s\u001b[0m 3ms/step - accuracy: 0.8030 - loss: 0.5783 - val_accuracy: 0.8220 - val_loss: 0.5207\n",
      "Epoch 54/125\n",
      "\u001b[1m1875/1875\u001b[0m \u001b[32m━━━━━━━━━━━━━━━━━━━━\u001b[0m\u001b[37m\u001b[0m \u001b[1m5s\u001b[0m 3ms/step - accuracy: 0.8033 - loss: 0.5790 - val_accuracy: 0.8231 - val_loss: 0.5158\n",
      "Epoch 55/125\n",
      "\u001b[1m1875/1875\u001b[0m \u001b[32m━━━━━━━━━━━━━━━━━━━━\u001b[0m\u001b[37m\u001b[0m \u001b[1m5s\u001b[0m 3ms/step - accuracy: 0.8051 - loss: 0.5785 - val_accuracy: 0.8247 - val_loss: 0.5129\n",
      "Epoch 56/125\n",
      "\u001b[1m1875/1875\u001b[0m \u001b[32m━━━━━━━━━━━━━━━━━━━━\u001b[0m\u001b[37m\u001b[0m \u001b[1m6s\u001b[0m 3ms/step - accuracy: 0.8021 - loss: 0.5810 - val_accuracy: 0.8239 - val_loss: 0.5152\n",
      "Epoch 57/125\n",
      "\u001b[1m1875/1875\u001b[0m \u001b[32m━━━━━━━━━━━━━━━━━━━━\u001b[0m\u001b[37m\u001b[0m \u001b[1m5s\u001b[0m 3ms/step - accuracy: 0.8028 - loss: 0.5809 - val_accuracy: 0.8223 - val_loss: 0.5194\n",
      "Epoch 58/125\n",
      "\u001b[1m1875/1875\u001b[0m \u001b[32m━━━━━━━━━━━━━━━━━━━━\u001b[0m\u001b[37m\u001b[0m \u001b[1m6s\u001b[0m 3ms/step - accuracy: 0.8055 - loss: 0.5755 - val_accuracy: 0.8229 - val_loss: 0.5178\n",
      "Epoch 59/125\n",
      "\u001b[1m1875/1875\u001b[0m \u001b[32m━━━━━━━━━━━━━━━━━━━━\u001b[0m\u001b[37m\u001b[0m \u001b[1m6s\u001b[0m 3ms/step - accuracy: 0.8062 - loss: 0.5748 - val_accuracy: 0.8232 - val_loss: 0.5164\n",
      "Epoch 60/125\n",
      "\u001b[1m1875/1875\u001b[0m \u001b[32m━━━━━━━━━━━━━━━━━━━━\u001b[0m\u001b[37m\u001b[0m \u001b[1m6s\u001b[0m 3ms/step - accuracy: 0.8024 - loss: 0.5789 - val_accuracy: 0.8215 - val_loss: 0.5228\n",
      "Epoch 61/125\n",
      "\u001b[1m1875/1875\u001b[0m \u001b[32m━━━━━━━━━━━━━━━━━━━━\u001b[0m\u001b[37m\u001b[0m \u001b[1m12s\u001b[0m 6ms/step - accuracy: 0.8054 - loss: 0.5758 - val_accuracy: 0.8262 - val_loss: 0.5103\n",
      "Epoch 62/125\n",
      "\u001b[1m1875/1875\u001b[0m \u001b[32m━━━━━━━━━━━━━━━━━━━━\u001b[0m\u001b[37m\u001b[0m \u001b[1m8s\u001b[0m 4ms/step - accuracy: 0.8062 - loss: 0.5743 - val_accuracy: 0.8259 - val_loss: 0.5089\n",
      "Epoch 63/125\n",
      "\u001b[1m1875/1875\u001b[0m \u001b[32m━━━━━━━━━━━━━━━━━━━━\u001b[0m\u001b[37m\u001b[0m \u001b[1m7s\u001b[0m 4ms/step - accuracy: 0.8043 - loss: 0.5777 - val_accuracy: 0.8235 - val_loss: 0.5116\n",
      "Epoch 64/125\n",
      "\u001b[1m1875/1875\u001b[0m \u001b[32m━━━━━━━━━━━━━━━━━━━━\u001b[0m\u001b[37m\u001b[0m \u001b[1m7s\u001b[0m 4ms/step - accuracy: 0.8066 - loss: 0.5740 - val_accuracy: 0.8261 - val_loss: 0.5084\n",
      "Epoch 65/125\n",
      "\u001b[1m1875/1875\u001b[0m \u001b[32m━━━━━━━━━━━━━━━━━━━━\u001b[0m\u001b[37m\u001b[0m \u001b[1m9s\u001b[0m 5ms/step - accuracy: 0.8045 - loss: 0.5781 - val_accuracy: 0.8257 - val_loss: 0.5113\n",
      "Epoch 66/125\n",
      "\u001b[1m1875/1875\u001b[0m \u001b[32m━━━━━━━━━━━━━━━━━━━━\u001b[0m\u001b[37m\u001b[0m \u001b[1m7s\u001b[0m 4ms/step - accuracy: 0.8057 - loss: 0.5757 - val_accuracy: 0.8253 - val_loss: 0.5128\n",
      "Epoch 67/125\n",
      "\u001b[1m1875/1875\u001b[0m \u001b[32m━━━━━━━━━━━━━━━━━━━━\u001b[0m\u001b[37m\u001b[0m \u001b[1m7s\u001b[0m 4ms/step - accuracy: 0.8061 - loss: 0.5748 - val_accuracy: 0.8253 - val_loss: 0.5128\n",
      "Epoch 68/125\n",
      "\u001b[1m1875/1875\u001b[0m \u001b[32m━━━━━━━━━━━━━━━━━━━━\u001b[0m\u001b[37m\u001b[0m \u001b[1m8s\u001b[0m 4ms/step - accuracy: 0.8073 - loss: 0.5725 - val_accuracy: 0.8245 - val_loss: 0.5144\n",
      "Epoch 69/125\n",
      "\u001b[1m1875/1875\u001b[0m \u001b[32m━━━━━━━━━━━━━━━━━━━━\u001b[0m\u001b[37m\u001b[0m \u001b[1m7s\u001b[0m 4ms/step - accuracy: 0.8060 - loss: 0.5717 - val_accuracy: 0.8247 - val_loss: 0.5148\n",
      "Epoch 70/125\n",
      "\u001b[1m1875/1875\u001b[0m \u001b[32m━━━━━━━━━━━━━━━━━━━━\u001b[0m\u001b[37m\u001b[0m \u001b[1m7s\u001b[0m 3ms/step - accuracy: 0.8048 - loss: 0.5752 - val_accuracy: 0.8266 - val_loss: 0.5055\n",
      "Epoch 71/125\n",
      "\u001b[1m1875/1875\u001b[0m \u001b[32m━━━━━━━━━━━━━━━━━━━━\u001b[0m\u001b[37m\u001b[0m \u001b[1m6s\u001b[0m 3ms/step - accuracy: 0.8043 - loss: 0.5757 - val_accuracy: 0.8272 - val_loss: 0.5136\n",
      "Epoch 72/125\n",
      "\u001b[1m1875/1875\u001b[0m \u001b[32m━━━━━━━━━━━━━━━━━━━━\u001b[0m\u001b[37m\u001b[0m \u001b[1m8s\u001b[0m 4ms/step - accuracy: 0.8079 - loss: 0.5724 - val_accuracy: 0.8272 - val_loss: 0.5063\n",
      "Epoch 73/125\n",
      "\u001b[1m1875/1875\u001b[0m \u001b[32m━━━━━━━━━━━━━━━━━━━━\u001b[0m\u001b[37m\u001b[0m \u001b[1m9s\u001b[0m 5ms/step - accuracy: 0.8065 - loss: 0.5741 - val_accuracy: 0.8267 - val_loss: 0.5044\n",
      "Epoch 74/125\n",
      "\u001b[1m1875/1875\u001b[0m \u001b[32m━━━━━━━━━━━━━━━━━━━━\u001b[0m\u001b[37m\u001b[0m \u001b[1m6s\u001b[0m 3ms/step - accuracy: 0.8065 - loss: 0.5733 - val_accuracy: 0.8254 - val_loss: 0.5094\n",
      "Epoch 75/125\n",
      "\u001b[1m1875/1875\u001b[0m \u001b[32m━━━━━━━━━━━━━━━━━━━━\u001b[0m\u001b[37m\u001b[0m \u001b[1m6s\u001b[0m 3ms/step - accuracy: 0.8074 - loss: 0.5688 - val_accuracy: 0.8269 - val_loss: 0.5085\n",
      "Epoch 76/125\n",
      "\u001b[1m1875/1875\u001b[0m \u001b[32m━━━━━━━━━━━━━━━━━━━━\u001b[0m\u001b[37m\u001b[0m \u001b[1m6s\u001b[0m 3ms/step - accuracy: 0.8067 - loss: 0.5723 - val_accuracy: 0.8268 - val_loss: 0.5073\n",
      "Epoch 77/125\n",
      "\u001b[1m1875/1875\u001b[0m \u001b[32m━━━━━━━━━━━━━━━━━━━━\u001b[0m\u001b[37m\u001b[0m \u001b[1m5s\u001b[0m 3ms/step - accuracy: 0.8066 - loss: 0.5730 - val_accuracy: 0.8250 - val_loss: 0.5087\n",
      "Epoch 78/125\n",
      "\u001b[1m1875/1875\u001b[0m \u001b[32m━━━━━━━━━━━━━━━━━━━━\u001b[0m\u001b[37m\u001b[0m \u001b[1m5s\u001b[0m 3ms/step - accuracy: 0.8076 - loss: 0.5695 - val_accuracy: 0.8256 - val_loss: 0.5134\n",
      "Epoch 79/125\n",
      "\u001b[1m1875/1875\u001b[0m \u001b[32m━━━━━━━━━━━━━━━━━━━━\u001b[0m\u001b[37m\u001b[0m \u001b[1m5s\u001b[0m 3ms/step - accuracy: 0.8080 - loss: 0.5700 - val_accuracy: 0.8280 - val_loss: 0.5092\n",
      "Epoch 80/125\n",
      "\u001b[1m1875/1875\u001b[0m \u001b[32m━━━━━━━━━━━━━━━━━━━━\u001b[0m\u001b[37m\u001b[0m \u001b[1m5s\u001b[0m 3ms/step - accuracy: 0.8078 - loss: 0.5685 - val_accuracy: 0.8258 - val_loss: 0.5109\n",
      "Epoch 81/125\n",
      "\u001b[1m1875/1875\u001b[0m \u001b[32m━━━━━━━━━━━━━━━━━━━━\u001b[0m\u001b[37m\u001b[0m \u001b[1m5s\u001b[0m 3ms/step - accuracy: 0.8068 - loss: 0.5712 - val_accuracy: 0.8270 - val_loss: 0.5056\n",
      "Epoch 82/125\n",
      "\u001b[1m1875/1875\u001b[0m \u001b[32m━━━━━━━━━━━━━━━━━━━━\u001b[0m\u001b[37m\u001b[0m \u001b[1m5s\u001b[0m 3ms/step - accuracy: 0.8066 - loss: 0.5716 - val_accuracy: 0.8262 - val_loss: 0.5104\n",
      "Epoch 83/125\n",
      "\u001b[1m1875/1875\u001b[0m \u001b[32m━━━━━━━━━━━━━━━━━━━━\u001b[0m\u001b[37m\u001b[0m \u001b[1m5s\u001b[0m 3ms/step - accuracy: 0.8086 - loss: 0.5662 - val_accuracy: 0.8273 - val_loss: 0.5034\n",
      "Epoch 84/125\n",
      "\u001b[1m1875/1875\u001b[0m \u001b[32m━━━━━━━━━━━━━━━━━━━━\u001b[0m\u001b[37m\u001b[0m \u001b[1m5s\u001b[0m 3ms/step - accuracy: 0.8073 - loss: 0.5717 - val_accuracy: 0.8273 - val_loss: 0.5051\n",
      "Epoch 85/125\n",
      "\u001b[1m1875/1875\u001b[0m \u001b[32m━━━━━━━━━━━━━━━━━━━━\u001b[0m\u001b[37m\u001b[0m \u001b[1m6s\u001b[0m 3ms/step - accuracy: 0.8091 - loss: 0.5685 - val_accuracy: 0.8277 - val_loss: 0.5033\n",
      "Epoch 86/125\n",
      "\u001b[1m1875/1875\u001b[0m \u001b[32m━━━━━━━━━━━━━━━━━━━━\u001b[0m\u001b[37m\u001b[0m \u001b[1m5s\u001b[0m 3ms/step - accuracy: 0.8060 - loss: 0.5746 - val_accuracy: 0.8266 - val_loss: 0.5116\n",
      "Epoch 87/125\n",
      "\u001b[1m1875/1875\u001b[0m \u001b[32m━━━━━━━━━━━━━━━━━━━━\u001b[0m\u001b[37m\u001b[0m \u001b[1m5s\u001b[0m 3ms/step - accuracy: 0.8085 - loss: 0.5682 - val_accuracy: 0.8259 - val_loss: 0.5071\n",
      "Epoch 88/125\n",
      "\u001b[1m1875/1875\u001b[0m \u001b[32m━━━━━━━━━━━━━━━━━━━━\u001b[0m\u001b[37m\u001b[0m \u001b[1m5s\u001b[0m 3ms/step - accuracy: 0.8076 - loss: 0.5670 - val_accuracy: 0.8258 - val_loss: 0.5137\n",
      "Epoch 89/125\n",
      "\u001b[1m1875/1875\u001b[0m \u001b[32m━━━━━━━━━━━━━━━━━━━━\u001b[0m\u001b[37m\u001b[0m \u001b[1m5s\u001b[0m 3ms/step - accuracy: 0.8079 - loss: 0.5712 - val_accuracy: 0.8266 - val_loss: 0.5059\n",
      "Epoch 90/125\n",
      "\u001b[1m1875/1875\u001b[0m \u001b[32m━━━━━━━━━━━━━━━━━━━━\u001b[0m\u001b[37m\u001b[0m \u001b[1m5s\u001b[0m 3ms/step - accuracy: 0.8090 - loss: 0.5674 - val_accuracy: 0.8285 - val_loss: 0.5034\n",
      "Epoch 91/125\n",
      "\u001b[1m1875/1875\u001b[0m \u001b[32m━━━━━━━━━━━━━━━━━━━━\u001b[0m\u001b[37m\u001b[0m \u001b[1m5s\u001b[0m 3ms/step - accuracy: 0.8098 - loss: 0.5653 - val_accuracy: 0.8275 - val_loss: 0.5078\n",
      "Epoch 92/125\n",
      "\u001b[1m1875/1875\u001b[0m \u001b[32m━━━━━━━━━━━━━━━━━━━━\u001b[0m\u001b[37m\u001b[0m \u001b[1m5s\u001b[0m 3ms/step - accuracy: 0.8076 - loss: 0.5685 - val_accuracy: 0.8286 - val_loss: 0.5048\n",
      "Epoch 93/125\n",
      "\u001b[1m1875/1875\u001b[0m \u001b[32m━━━━━━━━━━━━━━━━━━━━\u001b[0m\u001b[37m\u001b[0m \u001b[1m5s\u001b[0m 3ms/step - accuracy: 0.8082 - loss: 0.5696 - val_accuracy: 0.8280 - val_loss: 0.5048\n",
      "Epoch 94/125\n",
      "\u001b[1m1875/1875\u001b[0m \u001b[32m━━━━━━━━━━━━━━━━━━━━\u001b[0m\u001b[37m\u001b[0m \u001b[1m5s\u001b[0m 3ms/step - accuracy: 0.8080 - loss: 0.5664 - val_accuracy: 0.8255 - val_loss: 0.5153\n",
      "Epoch 95/125\n",
      "\u001b[1m1875/1875\u001b[0m \u001b[32m━━━━━━━━━━━━━━━━━━━━\u001b[0m\u001b[37m\u001b[0m \u001b[1m5s\u001b[0m 3ms/step - accuracy: 0.8067 - loss: 0.5702 - val_accuracy: 0.8277 - val_loss: 0.5075\n",
      "Epoch 96/125\n",
      "\u001b[1m1875/1875\u001b[0m \u001b[32m━━━━━━━━━━━━━━━━━━━━\u001b[0m\u001b[37m\u001b[0m \u001b[1m5s\u001b[0m 3ms/step - accuracy: 0.8075 - loss: 0.5701 - val_accuracy: 0.8279 - val_loss: 0.5096\n",
      "Epoch 97/125\n",
      "\u001b[1m1875/1875\u001b[0m \u001b[32m━━━━━━━━━━━━━━━━━━━━\u001b[0m\u001b[37m\u001b[0m \u001b[1m5s\u001b[0m 3ms/step - accuracy: 0.8089 - loss: 0.5661 - val_accuracy: 0.8297 - val_loss: 0.5001\n",
      "Epoch 98/125\n",
      "\u001b[1m1875/1875\u001b[0m \u001b[32m━━━━━━━━━━━━━━━━━━━━\u001b[0m\u001b[37m\u001b[0m \u001b[1m5s\u001b[0m 3ms/step - accuracy: 0.8073 - loss: 0.5702 - val_accuracy: 0.8282 - val_loss: 0.5044\n",
      "Epoch 99/125\n",
      "\u001b[1m1875/1875\u001b[0m \u001b[32m━━━━━━━━━━━━━━━━━━━━\u001b[0m\u001b[37m\u001b[0m \u001b[1m5s\u001b[0m 3ms/step - accuracy: 0.8083 - loss: 0.5690 - val_accuracy: 0.8272 - val_loss: 0.5069\n",
      "Epoch 100/125\n",
      "\u001b[1m1875/1875\u001b[0m \u001b[32m━━━━━━━━━━━━━━━━━━━━\u001b[0m\u001b[37m\u001b[0m \u001b[1m5s\u001b[0m 3ms/step - accuracy: 0.8072 - loss: 0.5706 - val_accuracy: 0.8285 - val_loss: 0.5061\n",
      "Epoch 101/125\n",
      "\u001b[1m1875/1875\u001b[0m \u001b[32m━━━━━━━━━━━━━━━━━━━━\u001b[0m\u001b[37m\u001b[0m \u001b[1m5s\u001b[0m 3ms/step - accuracy: 0.8081 - loss: 0.5688 - val_accuracy: 0.8281 - val_loss: 0.5059\n",
      "Epoch 102/125\n",
      "\u001b[1m1875/1875\u001b[0m \u001b[32m━━━━━━━━━━━━━━━━━━━━\u001b[0m\u001b[37m\u001b[0m \u001b[1m5s\u001b[0m 3ms/step - accuracy: 0.8091 - loss: 0.5661 - val_accuracy: 0.8296 - val_loss: 0.5039\n",
      "Epoch 103/125\n",
      "\u001b[1m1875/1875\u001b[0m \u001b[32m━━━━━━━━━━━━━━━━━━━━\u001b[0m\u001b[37m\u001b[0m \u001b[1m5s\u001b[0m 3ms/step - accuracy: 0.8097 - loss: 0.5657 - val_accuracy: 0.8295 - val_loss: 0.5050\n",
      "Epoch 104/125\n",
      "\u001b[1m1875/1875\u001b[0m \u001b[32m━━━━━━━━━━━━━━━━━━━━\u001b[0m\u001b[37m\u001b[0m \u001b[1m5s\u001b[0m 3ms/step - accuracy: 0.8073 - loss: 0.5697 - val_accuracy: 0.8278 - val_loss: 0.5101\n",
      "Epoch 105/125\n",
      "\u001b[1m1875/1875\u001b[0m \u001b[32m━━━━━━━━━━━━━━━━━━━━\u001b[0m\u001b[37m\u001b[0m \u001b[1m5s\u001b[0m 3ms/step - accuracy: 0.8087 - loss: 0.5676 - val_accuracy: 0.8282 - val_loss: 0.5044\n",
      "Epoch 106/125\n",
      "\u001b[1m1875/1875\u001b[0m \u001b[32m━━━━━━━━━━━━━━━━━━━━\u001b[0m\u001b[37m\u001b[0m \u001b[1m5s\u001b[0m 3ms/step - accuracy: 0.8096 - loss: 0.5659 - val_accuracy: 0.8278 - val_loss: 0.5066\n",
      "Epoch 107/125\n",
      "\u001b[1m1875/1875\u001b[0m \u001b[32m━━━━━━━━━━━━━━━━━━━━\u001b[0m\u001b[37m\u001b[0m \u001b[1m5s\u001b[0m 3ms/step - accuracy: 0.8087 - loss: 0.5689 - val_accuracy: 0.8279 - val_loss: 0.5061\n",
      "Epoch 108/125\n",
      "\u001b[1m1875/1875\u001b[0m \u001b[32m━━━━━━━━━━━━━━━━━━━━\u001b[0m\u001b[37m\u001b[0m \u001b[1m5s\u001b[0m 3ms/step - accuracy: 0.8092 - loss: 0.5671 - val_accuracy: 0.8281 - val_loss: 0.5052\n",
      "Epoch 109/125\n",
      "\u001b[1m1875/1875\u001b[0m \u001b[32m━━━━━━━━━━━━━━━━━━━━\u001b[0m\u001b[37m\u001b[0m \u001b[1m5s\u001b[0m 3ms/step - accuracy: 0.8088 - loss: 0.5682 - val_accuracy: 0.8294 - val_loss: 0.5015\n",
      "Epoch 110/125\n",
      "\u001b[1m1875/1875\u001b[0m \u001b[32m━━━━━━━━━━━━━━━━━━━━\u001b[0m\u001b[37m\u001b[0m \u001b[1m5s\u001b[0m 3ms/step - accuracy: 0.8100 - loss: 0.5635 - val_accuracy: 0.8291 - val_loss: 0.5012\n",
      "Epoch 111/125\n",
      "\u001b[1m1875/1875\u001b[0m \u001b[32m━━━━━━━━━━━━━━━━━━━━\u001b[0m\u001b[37m\u001b[0m \u001b[1m5s\u001b[0m 3ms/step - accuracy: 0.8103 - loss: 0.5660 - val_accuracy: 0.8290 - val_loss: 0.5047\n",
      "Epoch 112/125\n",
      "\u001b[1m1875/1875\u001b[0m \u001b[32m━━━━━━━━━━━━━━━━━━━━\u001b[0m\u001b[37m\u001b[0m \u001b[1m5s\u001b[0m 3ms/step - accuracy: 0.8077 - loss: 0.5716 - val_accuracy: 0.8292 - val_loss: 0.5041\n",
      "Epoch 113/125\n",
      "\u001b[1m1875/1875\u001b[0m \u001b[32m━━━━━━━━━━━━━━━━━━━━\u001b[0m\u001b[37m\u001b[0m \u001b[1m5s\u001b[0m 3ms/step - accuracy: 0.8091 - loss: 0.5672 - val_accuracy: 0.8295 - val_loss: 0.5044\n",
      "Epoch 114/125\n",
      "\u001b[1m1875/1875\u001b[0m \u001b[32m━━━━━━━━━━━━━━━━━━━━\u001b[0m\u001b[37m\u001b[0m \u001b[1m5s\u001b[0m 3ms/step - accuracy: 0.8098 - loss: 0.5660 - val_accuracy: 0.8295 - val_loss: 0.5035\n",
      "Epoch 115/125\n",
      "\u001b[1m1875/1875\u001b[0m \u001b[32m━━━━━━━━━━━━━━━━━━━━\u001b[0m\u001b[37m\u001b[0m \u001b[1m5s\u001b[0m 3ms/step - accuracy: 0.8090 - loss: 0.5661 - val_accuracy: 0.8298 - val_loss: 0.5035\n",
      "Epoch 116/125\n",
      "\u001b[1m1875/1875\u001b[0m \u001b[32m━━━━━━━━━━━━━━━━━━━━\u001b[0m\u001b[37m\u001b[0m \u001b[1m5s\u001b[0m 3ms/step - accuracy: 0.8098 - loss: 0.5649 - val_accuracy: 0.8309 - val_loss: 0.5000\n",
      "Epoch 117/125\n",
      "\u001b[1m1875/1875\u001b[0m \u001b[32m━━━━━━━━━━━━━━━━━━━━\u001b[0m\u001b[37m\u001b[0m \u001b[1m5s\u001b[0m 3ms/step - accuracy: 0.8089 - loss: 0.5690 - val_accuracy: 0.8269 - val_loss: 0.5104\n",
      "Epoch 118/125\n",
      "\u001b[1m1875/1875\u001b[0m \u001b[32m━━━━━━━━━━━━━━━━━━━━\u001b[0m\u001b[37m\u001b[0m \u001b[1m5s\u001b[0m 3ms/step - accuracy: 0.8087 - loss: 0.5662 - val_accuracy: 0.8289 - val_loss: 0.5014\n",
      "Epoch 119/125\n",
      "\u001b[1m1875/1875\u001b[0m \u001b[32m━━━━━━━━━━━━━━━━━━━━\u001b[0m\u001b[37m\u001b[0m \u001b[1m5s\u001b[0m 3ms/step - accuracy: 0.8090 - loss: 0.5675 - val_accuracy: 0.8272 - val_loss: 0.5068\n",
      "Epoch 120/125\n",
      "\u001b[1m1875/1875\u001b[0m \u001b[32m━━━━━━━━━━━━━━━━━━━━\u001b[0m\u001b[37m\u001b[0m \u001b[1m5s\u001b[0m 3ms/step - accuracy: 0.8094 - loss: 0.5662 - val_accuracy: 0.8262 - val_loss: 0.5081\n",
      "Epoch 121/125\n",
      "\u001b[1m1875/1875\u001b[0m \u001b[32m━━━━━━━━━━━━━━━━━━━━\u001b[0m\u001b[37m\u001b[0m \u001b[1m5s\u001b[0m 3ms/step - accuracy: 0.8113 - loss: 0.5620 - val_accuracy: 0.8301 - val_loss: 0.5001\n",
      "Epoch 122/125\n",
      "\u001b[1m1875/1875\u001b[0m \u001b[32m━━━━━━━━━━━━━━━━━━━━\u001b[0m\u001b[37m\u001b[0m \u001b[1m5s\u001b[0m 3ms/step - accuracy: 0.8084 - loss: 0.5660 - val_accuracy: 0.8286 - val_loss: 0.5023\n",
      "Epoch 123/125\n",
      "\u001b[1m1875/1875\u001b[0m \u001b[32m━━━━━━━━━━━━━━━━━━━━\u001b[0m\u001b[37m\u001b[0m \u001b[1m5s\u001b[0m 3ms/step - accuracy: 0.8087 - loss: 0.5664 - val_accuracy: 0.8302 - val_loss: 0.5024\n",
      "Epoch 124/125\n",
      "\u001b[1m1875/1875\u001b[0m \u001b[32m━━━━━━━━━━━━━━━━━━━━\u001b[0m\u001b[37m\u001b[0m \u001b[1m5s\u001b[0m 3ms/step - accuracy: 0.8086 - loss: 0.5654 - val_accuracy: 0.8300 - val_loss: 0.5035\n",
      "Epoch 125/125\n",
      "\u001b[1m1875/1875\u001b[0m \u001b[32m━━━━━━━━━━━━━━━━━━━━\u001b[0m\u001b[37m\u001b[0m \u001b[1m5s\u001b[0m 3ms/step - accuracy: 0.8095 - loss: 0.5646 - val_accuracy: 0.8280 - val_loss: 0.5041\n",
      "[1] ====================\n",
      "\u001b[1m2500/2500\u001b[0m \u001b[32m━━━━━━━━━━━━━━━━━━━━\u001b[0m\u001b[37m\u001b[0m \u001b[1m3s\u001b[0m 1ms/step - accuracy: 0.8282 - loss: 0.4966\n",
      "[1] * evaluation [10000, 10000]:10000-20/125 -- [0.5005261898040771, 0.8260999917984009]\n",
      "[1] ====================\n"
     ]
    },
    {
     "data": {
      "image/png": "[encoded data removed]",
      "text/plain": [
       "<Figure size 640x480 with 1 Axes>"
      ]
     },
     "metadata": {},
     "output_type": "display_data"
    },
    {
     "data": {
      "image/png": "[encoded data removed]",
      "text/plain": [
       "<Figure size 640x480 with 1 Axes>"
      ]
     },
     "metadata": {},
     "output_type": "display_data"
    }
   ],
   "source": [
    "x_train = None\n",
    "y_train = None\n",
    "x_validate = None\n",
    "y_validate = None\n",
    "x_test = None\n",
    "y_test = None\n",
    "for stage in range(stage_count):\n",
    "  (s_x_train, s_x_validate, s_x_test) = stage_x_dps[stage]\n",
    "  (s_y_train, s_y_validate, s_y_test) = stage_y_dps[stage]\n",
    "  if stage == 0:\n",
    "    x_train = s_x_train\n",
    "    y_train = s_y_train\n",
    "    x_validate = s_x_validate\n",
    "    y_validate = s_y_validate\n",
    "    x_test = s_x_test\n",
    "    y_test = s_y_test\n",
    "  else:\n",
    "    x_train = np.concatenate((x_train, s_x_train), axis=0)\n",
    "    y_train = np.concatenate((y_train, s_y_train), axis=0)\n",
    "    x_validate = np.concatenate((x_validate, s_x_validate), axis=0)     \n",
    "    y_validate = np.concatenate((y_validate, s_y_validate), axis=0)\n",
    "    x_test = np.concatenate((x_test, s_x_test), axis=0)\n",
    "    y_test = np.concatenate((y_test, s_y_test), axis=0)\n",
    "\n",
    "history = model.fit(x_train, y_train, batch_size=batch_size, epochs=epoch_count, verbose=1, validation_data=(x_validate, y_validate))\n",
    "\n",
    "print(f\"[{stage}] ====================\")\n",
    "evaluation = model.evaluate(x_test, y_test)\n",
    "print(f\"[{stage}] * evaluation {stage_round_counts}:{round_count}-{stage_step_count}/{epoch_count} -- {evaluation}\")\n",
    "print(f\"[{stage}] ====================\")\n",
    "\n",
    "loss = history.history['loss']\n",
    "val_loss = history.history['val_loss']\n",
    "\n",
    "epochs = range(1, len(loss) + 1)\n",
    "\n",
    "plt.plot(epochs, loss, 'r.', label='Training loss')\n",
    "plt.plot(epochs, val_loss, 'b', label='Validation loss')\n",
    "plt.title(f'[{stage}] Training and validation loss')\n",
    "plt.xlabel('Epochs')\n",
    "plt.ylabel('Loss')\n",
    "plt.legend()\n",
    "plt.show()\n",
    "\n",
    "accuracy = history.history['accuracy']\n",
    "val_accuracy = history.history['val_accuracy']\n",
    "epochs = range(1, len(accuracy) + 1)\n",
    "plt.plot(epochs, accuracy, 'r.', label='Training accuracy')\n",
    "plt.plot(epochs, val_accuracy, 'b', label='Validation accuracy')\n",
    "plt.title(f'[{stage}] Training and validation accuracy')\n",
    "plt.xlabel('Epochs')\n",
    "plt.ylabel('Accuracy')\n",
    "plt.legend()\n",
    "plt.show()\n"
   ]
  },
  {
   "cell_type": "code",
   "execution_count": 7,
   "metadata": {},
   "outputs": [
    {
     "name": "stdout",
     "output_type": "stream",
     "text": [
      "[0] $$$$$$$$$$$$$$$$$$$$\n",
      "\u001b[1m1250/1250\u001b[0m \u001b[32m━━━━━━━━━━━━━━━━━━━━\u001b[0m\u001b[37m\u001b[0m \u001b[1m1s\u001b[0m 981us/step - accuracy: 0.8295 - loss: 0.4936\n",
      "[0] * evaluation [10000, 10000]:10000-20/125 -- [0.49449780583381653, 0.829675018787384]\n",
      "[0] $$$$$$$$$$$$$$$$$$$$\n",
      "[1] $$$$$$$$$$$$$$$$$$$$\n",
      "\u001b[1m1250/1250\u001b[0m \u001b[32m━━━━━━━━━━━━━━━━━━━━\u001b[0m\u001b[37m\u001b[0m \u001b[1m1s\u001b[0m 966us/step - accuracy: 0.8183 - loss: 0.5168\n",
      "[1] * evaluation [10000, 10000]:10000-20/125 -- [0.5065551400184631, 0.8225250244140625]\n",
      "[1] $$$$$$$$$$$$$$$$$$$$\n"
     ]
    }
   ],
   "source": [
    "for stage in range(stage_count):\n",
    "  round_count = stage_round_counts[stage]\n",
    "  (x_train, x_validate, x_test) = stage_x_dps[stage]\n",
    "  (y_train, y_validate, y_test) = stage_y_dps[stage]\n",
    "  print(f\"[{stage}] $$$$$$$$$$$$$$$$$$$$\")\n",
    "  evaluation = model.evaluate(x_test, y_test)\n",
    "  print(f\"[{stage}] * evaluation {stage_round_counts}:{round_count}-{stage_step_count}/{epoch_count} -- {evaluation}\")\n",
    "  print(f\"[{stage}] $$$$$$$$$$$$$$$$$$$$\")\n"
   ]
  },
  {
   "cell_type": "code",
   "execution_count": 8,
   "metadata": {},
   "outputs": [
    {
     "name": "stdout",
     "output_type": "stream",
     "text": [
      "---------------------\n",
      "|  4 |  1 |  2 |  3 |\n",
      "|  0 |  5 |  6 |  7 |\n",
      "|  8 |  9 | 10 | 11 |\n",
      "| 12 | 13 | 14 | 15 |\n",
      "---------------------\n",
      "\u001b[1m1/1\u001b[0m \u001b[32m━━━━━━━━━━━━━━━━━━━━\u001b[0m\u001b[37m\u001b[0m \u001b[1m0s\u001b[0m 48ms/step\n",
      "[0] * move [2] -- [2.0455613e-05 2.2273771e-03 9.9664801e-01 8.2171953e-04 1.0453627e-08\n",
      " 1.7435779e-05 1.4392985e-04 1.2114656e-04]\n",
      "---------------------\n",
      "|  4 |  1 |  2 |  3 |\n",
      "|  0 |  5 |  6 |  7 |\n",
      "|  8 |  9 | 10 | 11 |\n",
      "| 12 | 13 | 14 | 15 |\n",
      "---------------------\n",
      "\u001b[1m1/1\u001b[0m \u001b[32m━━━━━━━━━━━━━━━━━━━━\u001b[0m\u001b[37m\u001b[0m \u001b[1m0s\u001b[0m 27ms/step\n",
      "[1] * move [2] -- [2.0455613e-05 2.2273771e-03 9.9664801e-01 8.2171953e-04 1.0453627e-08\n",
      " 1.7435779e-05 1.4392985e-04 1.2114656e-04]\n"
     ]
    }
   ],
   "source": [
    "for stage in range(stage_count):\n",
    "  board_manager = BoardManager(tile_count)\n",
    "  board_manager.randomize_board_step()\n",
    "  board_manager.show_board()\n",
    "  x = np.array([board_manager.board_tiles]).astype('float32') / (tile_count * tile_count)\n",
    "  prediction = model.predict(x)[0]\n",
    "  ans = argmax(prediction)\n",
    "  print(f\"[{stage}] * move [{ans}] -- {prediction}\")"
   ]
  },
  {
   "cell_type": "code",
   "execution_count": 9,
   "metadata": {},
   "outputs": [
    {
     "name": "stderr",
     "output_type": "stream",
     "text": [
      "A subdirectory or file output already exists.\n"
     ]
    },
    {
     "name": "stdout",
     "output_type": "stream",
     "text": [
      "INFO:tensorflow:Assets written to: C:\\Users\\TREVOR~1\\AppData\\Local\\Temp\\tmpavtcefxl\\assets\n"
     ]
    },
    {
     "name": "stderr",
     "output_type": "stream",
     "text": [
      "INFO:tensorflow:Assets written to: C:\\Users\\TREVOR~1\\AppData\\Local\\Temp\\tmpavtcefxl\\assets\n"
     ]
    },
    {
     "name": "stdout",
     "output_type": "stream",
     "text": [
      "Saved artifact at 'C:\\Users\\TREVOR~1\\AppData\\Local\\Temp\\tmpavtcefxl'. The following endpoints are available:\n",
      "\n",
      "* Endpoint 'serve'\n",
      "  args_0 (POSITIONAL_ONLY): TensorSpec(shape=(None, 16), dtype=tf.float32, name='keras_tensor')\n",
      "Output Type:\n",
      "  TensorSpec(shape=(None, 8), dtype=tf.float32, name=None)\n",
      "Captures:\n",
      "  2599357769504: TensorSpec(shape=(), dtype=tf.resource, name=None)\n",
      "  2599357842352: TensorSpec(shape=(), dtype=tf.resource, name=None)\n",
      "  2599358040720: TensorSpec(shape=(), dtype=tf.resource, name=None)\n",
      "  2599358040368: TensorSpec(shape=(), dtype=tf.resource, name=None)\n",
      "  2599358093440: TensorSpec(shape=(), dtype=tf.resource, name=None)\n",
      "  2599358093264: TensorSpec(shape=(), dtype=tf.resource, name=None)\n",
      "\n",
      "***** sp_staged_model_4_2.h is generated *****\n"
     ]
    }
   ],
   "source": [
    "!mkdir output\n",
    "converter = tf.lite.TFLiteConverter.from_keras_model(model)\n",
    "tflite_model = converter.convert()\n",
    "\n",
    "header_name = f\"sp_staged_model_{tile_count}_{stage_count}\"\n",
    "write_model_as_c_header_file(tflite_model, f\"src/esp32_sliding_puzzle/{header_name}.h\", \"sp_model\")\n",
    "\n",
    "print()\n",
    "print(f\"***** {header_name}.h is generated *****\")\n"
   ]
  }
 ],
 "metadata": {
  "kernelspec": {
   "display_name": ".venv",
   "language": "python",
   "name": "python3"
  },
  "language_info": {
   "codemirror_mode": {
    "name": "ipython",
    "version": 3
   },
   "file_extension": ".py",
   "mimetype": "text/x-python",
   "name": "python",
   "nbconvert_exporter": "python",
   "pygments_lexer": "ipython3",
   "version": "3.9.10"
  }
 },
 "nbformat": 4,
 "nbformat_minor": 2
}
