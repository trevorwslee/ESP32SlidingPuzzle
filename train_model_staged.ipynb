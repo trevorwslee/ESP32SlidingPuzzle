{
 "cells": [
  {
   "cell_type": "code",
   "execution_count": 1,
   "metadata": {},
   "outputs": [],
   "source": [
    "import keras\n",
    "import tensorflow as tf\n",
    "import numpy as np\n",
    "import matplotlib.pyplot as plt\n",
    "import textwrap\n",
    "from numpy import argmax\n",
    "from random import randint\n",
    "from tqdm import tqdm\n",
    "from IPython.display import Image, display\n",
    "from board_manager import BoardManager, write_model_as_c_header_file\n"
   ]
  },
  {
   "cell_type": "code",
   "execution_count": 2,
   "metadata": {},
   "outputs": [
    {
     "name": "stderr",
     "output_type": "stream",
     "text": [
      "100%|██████████| 10000/10000 [10:04<00:00, 16.53it/s]\n",
      "100%|██████████| 20000/20000 [40:11<00:00,  8.29it/s]\n"
     ]
    }
   ],
   "source": [
    "#\n",
    "# * experimental\n",
    "#\n",
    "\n",
    "stage_categorical = False\n",
    "\n",
    "tile_count = 4\n",
    "stage_round_counts = [10000, 20000]\n",
    "stage_step_count = 20\n",
    "extra_stage_step_count = 0\n",
    "\n",
    "stage_count = len(stage_round_counts)\n",
    "show_values = (stage_count == 1 and stage_round_counts[0] < 10) or (stage_count == 2 and stage_round_counts[0] < 5 and stage_round_counts[1] < 5)\n",
    "\n",
    "stage_boards = []\n",
    "stage_moves = []\n",
    "stage_total_sample_counts = []\n",
    "\n",
    "stage_board_managers = []\n",
    "board_manager = BoardManager(tile_count)\n",
    "stage_board_managers.append(board_manager.clone())\n",
    "\n",
    "for stage in range(1, stage_count):\n",
    "  random_step_count = stage_step_count\n",
    "  for _ in range(random_step_count):\n",
    "    board_manager.randomize_board_step()\n",
    "  stage_board_managers.append(board_manager.clone())\n",
    "    \n",
    "for stage in range(stage_count):\n",
    "  round_count = stage_round_counts[stage]\n",
    "\n",
    "  boards = np.empty((0, tile_count * tile_count), int)\n",
    "  moves = np.empty(0, int)\n",
    "\n",
    "  total_sample_count = 0\n",
    "  for round in tqdm(range(round_count)):\n",
    "    board_manager = stage_board_managers[stage].clone()  \n",
    "    if show_values:\n",
    "      print(f\"[{stage}.{round}]\")\n",
    "      board_manager.show_board()\n",
    "    random_step_count = stage_step_count + extra_stage_step_count\n",
    "    total_sample_count += random_step_count\n",
    "    for _ in range(random_step_count):\n",
    "      move = board_manager.randomize_board_step()\n",
    "      if show_values:\n",
    "        print(f\"[{stage}.{round}] move: {move}\")\n",
    "        board_manager.show_board()\n",
    "      boards = np.append(boards, [board_manager.board_tiles], axis=0)\n",
    "      moves = np.append(moves, move)\n",
    "  stage_boards.append(boards)\n",
    "  stage_moves.append(moves)  \n",
    "  stage_total_sample_counts.append(total_sample_count)\n"
   ]
  },
  {
   "cell_type": "code",
   "execution_count": 3,
   "metadata": {},
   "outputs": [
    {
     "name": "stdout",
     "output_type": "stream",
     "text": [
      "[0] * x_values shape: (200000, 16)\n",
      "[0] * y_values shape: (200000, 8)\n",
      "[1] * x_values shape: (400000, 16)\n",
      "[1] * y_values shape: (400000, 8)\n"
     ]
    }
   ],
   "source": [
    "stage_x_values = []\n",
    "stage_y_values = []\n",
    "for stage in range(stage_count):\n",
    "  \n",
    "  boards = stage_boards[stage] \n",
    "  moves = stage_moves[stage]\n",
    "  x_values = boards.astype('float32') / (tile_count * tile_count)\n",
    "  moves = [move + 4 * stage for move in stage_moves[stage]]\n",
    "  y_values = keras.utils.to_categorical(moves, 4 * stage_count)\n",
    "\n",
    "  print(f\"[{stage}] * x_values shape: {x_values.shape}\")\n",
    "  if show_values:\n",
    "    print(f\"[{stage}] * x_values:\")\n",
    "    print(textwrap.indent(str(x_values), \"    \"))\n",
    "\n",
    "  print(f\"[{stage}] * y_values shape: {y_values.shape}\")\n",
    "  if show_values:\n",
    "    print(f\"[{stage}] * y_values:\")\n",
    "    print(textwrap.indent(str(y_values), \"    \"))\n",
    "\n",
    "  stage_x_values.append(x_values)\n",
    "  stage_y_values.append(y_values)  "
   ]
  },
  {
   "cell_type": "code",
   "execution_count": 4,
   "metadata": {},
   "outputs": [
    {
     "name": "stdout",
     "output_type": "stream",
     "text": [
      "[0] * x_train shape: (120000, 16)\n",
      "[0] * x_validate shape: (40000, 16)\n",
      "[0] * x_test shape: (40000, 16)\n",
      "[0] * y_train shape: (120000, 8)\n",
      "[0] * y_validate shape: (40000, 8)\n",
      "[0] * y_text shape: (40000, 8)\n",
      "[1] * x_train shape: (240000, 16)\n",
      "[1] * x_validate shape: (80000, 16)\n",
      "[1] * x_test shape: (80000, 16)\n",
      "[1] * y_train shape: (240000, 8)\n",
      "[1] * y_validate shape: (80000, 8)\n",
      "[1] * y_text shape: (80000, 8)\n"
     ]
    }
   ],
   "source": [
    "stage_x_dps = []\n",
    "stage_y_dps = []\n",
    "for stage in range(stage_count):\n",
    "  x_values = stage_x_values[stage]\n",
    "  y_values = stage_y_values[stage]\n",
    "  total_sample_count = stage_total_sample_counts[stage]\n",
    "\n",
    "  indices = np.random.permutation(x_values.shape[0])\n",
    "  x_values = x_values[indices]\n",
    "  y_values = y_values[indices]\n",
    "\n",
    "  TRAIN_SPLIT = int(0.6 * total_sample_count)\n",
    "  TEST_SPLIT = int(0.2 * total_sample_count + TRAIN_SPLIT)\n",
    "\n",
    "  x_train, x_validate, x_test = np.split(x_values, [TRAIN_SPLIT, TEST_SPLIT])\n",
    "  y_train, y_validate, y_test = np.split(y_values, [TRAIN_SPLIT, TEST_SPLIT])\n",
    "\n",
    "  print(f\"[{stage}] * x_train shape: {x_train.shape}\")\n",
    "  print(f\"[{stage}] * x_validate shape: {x_validate.shape}\")\n",
    "  print(f\"[{stage}] * x_test shape: {x_test.shape}\")\n",
    "\n",
    "  print(f\"[{stage}] * y_train shape: {y_train.shape}\")\n",
    "  print(f\"[{stage}] * y_validate shape: {y_validate.shape}\")\n",
    "  print(f\"[{stage}] * y_text shape: {y_test.shape}\")\n",
    "\n",
    "  x_dps = (x_train, x_validate, x_test)\n",
    "  y_dps = (y_train, y_validate, y_test)\n",
    "  stage_x_dps.append(x_dps)\n",
    "  stage_y_dps.append(y_dps)"
   ]
  },
  {
   "cell_type": "code",
   "execution_count": 5,
   "metadata": {},
   "outputs": [
    {
     "name": "stderr",
     "output_type": "stream",
     "text": [
      "c:\\Users\\trevorlee\\Documents\\MyProjects\\Git\\ESP32SlidingPuzzle\\.venv\\lib\\site-packages\\keras\\src\\layers\\core\\dense.py:87: UserWarning: Do not pass an `input_shape`/`input_dim` argument to a layer. When using Sequential models, prefer using an `Input(shape)` object as the first layer in the model instead.\n",
      "  super().__init__(activity_regularizer=activity_regularizer, **kwargs)\n"
     ]
    },
    {
     "data": {
      "text/html": [
       "<pre style=\"white-space:pre;overflow-x:auto;line-height:normal;font-family:Menlo,'DejaVu Sans Mono',consolas,'Courier New',monospace\"><span style=\"font-weight: bold\">Model: \"sequential\"</span>\n",
       "</pre>\n"
      ],
      "text/plain": [
       "\u001b[1mModel: \"sequential\"\u001b[0m\n"
      ]
     },
     "metadata": {},
     "output_type": "display_data"
    },
    {
     "data": {
      "text/html": [
       "<pre style=\"white-space:pre;overflow-x:auto;line-height:normal;font-family:Menlo,'DejaVu Sans Mono',consolas,'Courier New',monospace\">┏━━━━━━━━━━━━━━━━━━━━━━━━━━━━━━━━━┳━━━━━━━━━━━━━━━━━━━━━━━━┳━━━━━━━━━━━━━━━┓\n",
       "┃<span style=\"font-weight: bold\"> Layer (type)                    </span>┃<span style=\"font-weight: bold\"> Output Shape           </span>┃<span style=\"font-weight: bold\">       Param # </span>┃\n",
       "┡━━━━━━━━━━━━━━━━━━━━━━━━━━━━━━━━━╇━━━━━━━━━━━━━━━━━━━━━━━━╇━━━━━━━━━━━━━━━┩\n",
       "│ dense (<span style=\"color: #0087ff; text-decoration-color: #0087ff\">Dense</span>)                   │ (<span style=\"color: #00d7ff; text-decoration-color: #00d7ff\">None</span>, <span style=\"color: #00af00; text-decoration-color: #00af00\">256</span>)            │         <span style=\"color: #00af00; text-decoration-color: #00af00\">4,352</span> │\n",
       "├─────────────────────────────────┼────────────────────────┼───────────────┤\n",
       "│ dropout (<span style=\"color: #0087ff; text-decoration-color: #0087ff\">Dropout</span>)               │ (<span style=\"color: #00d7ff; text-decoration-color: #00d7ff\">None</span>, <span style=\"color: #00af00; text-decoration-color: #00af00\">256</span>)            │             <span style=\"color: #00af00; text-decoration-color: #00af00\">0</span> │\n",
       "├─────────────────────────────────┼────────────────────────┼───────────────┤\n",
       "│ dense_1 (<span style=\"color: #0087ff; text-decoration-color: #0087ff\">Dense</span>)                 │ (<span style=\"color: #00d7ff; text-decoration-color: #00d7ff\">None</span>, <span style=\"color: #00af00; text-decoration-color: #00af00\">256</span>)            │        <span style=\"color: #00af00; text-decoration-color: #00af00\">65,792</span> │\n",
       "├─────────────────────────────────┼────────────────────────┼───────────────┤\n",
       "│ dense_2 (<span style=\"color: #0087ff; text-decoration-color: #0087ff\">Dense</span>)                 │ (<span style=\"color: #00d7ff; text-decoration-color: #00d7ff\">None</span>, <span style=\"color: #00af00; text-decoration-color: #00af00\">8</span>)              │         <span style=\"color: #00af00; text-decoration-color: #00af00\">2,056</span> │\n",
       "└─────────────────────────────────┴────────────────────────┴───────────────┘\n",
       "</pre>\n"
      ],
      "text/plain": [
       "┏━━━━━━━━━━━━━━━━━━━━━━━━━━━━━━━━━┳━━━━━━━━━━━━━━━━━━━━━━━━┳━━━━━━━━━━━━━━━┓\n",
       "┃\u001b[1m \u001b[0m\u001b[1mLayer (type)                   \u001b[0m\u001b[1m \u001b[0m┃\u001b[1m \u001b[0m\u001b[1mOutput Shape          \u001b[0m\u001b[1m \u001b[0m┃\u001b[1m \u001b[0m\u001b[1m      Param #\u001b[0m\u001b[1m \u001b[0m┃\n",
       "┡━━━━━━━━━━━━━━━━━━━━━━━━━━━━━━━━━╇━━━━━━━━━━━━━━━━━━━━━━━━╇━━━━━━━━━━━━━━━┩\n",
       "│ dense (\u001b[38;5;33mDense\u001b[0m)                   │ (\u001b[38;5;45mNone\u001b[0m, \u001b[38;5;34m256\u001b[0m)            │         \u001b[38;5;34m4,352\u001b[0m │\n",
       "├─────────────────────────────────┼────────────────────────┼───────────────┤\n",
       "│ dropout (\u001b[38;5;33mDropout\u001b[0m)               │ (\u001b[38;5;45mNone\u001b[0m, \u001b[38;5;34m256\u001b[0m)            │             \u001b[38;5;34m0\u001b[0m │\n",
       "├─────────────────────────────────┼────────────────────────┼───────────────┤\n",
       "│ dense_1 (\u001b[38;5;33mDense\u001b[0m)                 │ (\u001b[38;5;45mNone\u001b[0m, \u001b[38;5;34m256\u001b[0m)            │        \u001b[38;5;34m65,792\u001b[0m │\n",
       "├─────────────────────────────────┼────────────────────────┼───────────────┤\n",
       "│ dense_2 (\u001b[38;5;33mDense\u001b[0m)                 │ (\u001b[38;5;45mNone\u001b[0m, \u001b[38;5;34m8\u001b[0m)              │         \u001b[38;5;34m2,056\u001b[0m │\n",
       "└─────────────────────────────────┴────────────────────────┴───────────────┘\n"
      ]
     },
     "metadata": {},
     "output_type": "display_data"
    },
    {
     "data": {
      "text/html": [
       "<pre style=\"white-space:pre;overflow-x:auto;line-height:normal;font-family:Menlo,'DejaVu Sans Mono',consolas,'Courier New',monospace\"><span style=\"font-weight: bold\"> Total params: </span><span style=\"color: #00af00; text-decoration-color: #00af00\">72,200</span> (282.03 KB)\n",
       "</pre>\n"
      ],
      "text/plain": [
       "\u001b[1m Total params: \u001b[0m\u001b[38;5;34m72,200\u001b[0m (282.03 KB)\n"
      ]
     },
     "metadata": {},
     "output_type": "display_data"
    },
    {
     "data": {
      "text/html": [
       "<pre style=\"white-space:pre;overflow-x:auto;line-height:normal;font-family:Menlo,'DejaVu Sans Mono',consolas,'Courier New',monospace\"><span style=\"font-weight: bold\"> Trainable params: </span><span style=\"color: #00af00; text-decoration-color: #00af00\">72,200</span> (282.03 KB)\n",
       "</pre>\n"
      ],
      "text/plain": [
       "\u001b[1m Trainable params: \u001b[0m\u001b[38;5;34m72,200\u001b[0m (282.03 KB)\n"
      ]
     },
     "metadata": {},
     "output_type": "display_data"
    },
    {
     "data": {
      "text/html": [
       "<pre style=\"white-space:pre;overflow-x:auto;line-height:normal;font-family:Menlo,'DejaVu Sans Mono',consolas,'Courier New',monospace\"><span style=\"font-weight: bold\"> Non-trainable params: </span><span style=\"color: #00af00; text-decoration-color: #00af00\">0</span> (0.00 B)\n",
       "</pre>\n"
      ],
      "text/plain": [
       "\u001b[1m Non-trainable params: \u001b[0m\u001b[38;5;34m0\u001b[0m (0.00 B)\n"
      ]
     },
     "metadata": {},
     "output_type": "display_data"
    }
   ],
   "source": [
    "batch_size = 128\n",
    "epoch_count = 125\n",
    "\n",
    "model = keras.models.Sequential()\n",
    "model.add(keras.layers.Dense(256, activation='relu', input_shape=(tile_count * tile_count,)))\n",
    "model.add(keras.layers.Dropout(0.3))\n",
    "model.add(keras.layers.Dense(256, activation='relu'))\n",
    "model.add(keras.layers.Dense(4 * stage_count, activation='softmax'))\n",
    "\n",
    "model.summary()\n",
    "\n",
    "#keras.utils.plot_model(model, \"output/model.png\", show_shapes=True)\n",
    "#display(Image(filename= \"output/model.png\"))\n",
    "\n",
    "model.compile(loss='categorical_crossentropy', optimizer=keras.optimizers.RMSprop(), metrics=['accuracy'])\n"
   ]
  },
  {
   "cell_type": "code",
   "execution_count": 6,
   "metadata": {},
   "outputs": [
    {
     "name": "stdout",
     "output_type": "stream",
     "text": [
      "Epoch 1/125\n",
      "\u001b[1m2813/2813\u001b[0m \u001b[32m━━━━━━━━━━━━━━━━━━━━\u001b[0m\u001b[37m\u001b[0m \u001b[1m7s\u001b[0m 2ms/step - accuracy: 0.4486 - loss: 1.3767 - val_accuracy: 0.6601 - val_loss: 0.9010\n",
      "Epoch 2/125\n",
      "\u001b[1m2813/2813\u001b[0m \u001b[32m━━━━━━━━━━━━━━━━━━━━\u001b[0m\u001b[37m\u001b[0m \u001b[1m7s\u001b[0m 2ms/step - accuracy: 0.6552 - loss: 0.9071 - val_accuracy: 0.7259 - val_loss: 0.7322\n",
      "Epoch 3/125\n",
      "\u001b[1m2813/2813\u001b[0m \u001b[32m━━━━━━━━━━━━━━━━━━━━\u001b[0m\u001b[37m\u001b[0m \u001b[1m7s\u001b[0m 2ms/step - accuracy: 0.7089 - loss: 0.7850 - val_accuracy: 0.7611 - val_loss: 0.6492\n",
      "Epoch 4/125\n",
      "\u001b[1m2813/2813\u001b[0m \u001b[32m━━━━━━━━━━━━━━━━━━━━\u001b[0m\u001b[37m\u001b[0m \u001b[1m7s\u001b[0m 2ms/step - accuracy: 0.7362 - loss: 0.7193 - val_accuracy: 0.7810 - val_loss: 0.6029\n",
      "Epoch 5/125\n",
      "\u001b[1m2813/2813\u001b[0m \u001b[32m━━━━━━━━━━━━━━━━━━━━\u001b[0m\u001b[37m\u001b[0m \u001b[1m7s\u001b[0m 2ms/step - accuracy: 0.7515 - loss: 0.6795 - val_accuracy: 0.7903 - val_loss: 0.5763\n",
      "Epoch 6/125\n",
      "\u001b[1m2813/2813\u001b[0m \u001b[32m━━━━━━━━━━━━━━━━━━━━\u001b[0m\u001b[37m\u001b[0m \u001b[1m7s\u001b[0m 2ms/step - accuracy: 0.7634 - loss: 0.6517 - val_accuracy: 0.7995 - val_loss: 0.5565\n",
      "Epoch 7/125\n",
      "\u001b[1m2813/2813\u001b[0m \u001b[32m━━━━━━━━━━━━━━━━━━━━\u001b[0m\u001b[37m\u001b[0m \u001b[1m7s\u001b[0m 2ms/step - accuracy: 0.7700 - loss: 0.6342 - val_accuracy: 0.8041 - val_loss: 0.5428\n",
      "Epoch 8/125\n",
      "\u001b[1m2813/2813\u001b[0m \u001b[32m━━━━━━━━━━━━━━━━━━━━\u001b[0m\u001b[37m\u001b[0m \u001b[1m7s\u001b[0m 2ms/step - accuracy: 0.7787 - loss: 0.6165 - val_accuracy: 0.8101 - val_loss: 0.5287\n",
      "Epoch 9/125\n",
      "\u001b[1m2813/2813\u001b[0m \u001b[32m━━━━━━━━━━━━━━━━━━━━\u001b[0m\u001b[37m\u001b[0m \u001b[1m7s\u001b[0m 2ms/step - accuracy: 0.7817 - loss: 0.6073 - val_accuracy: 0.8113 - val_loss: 0.5259\n",
      "Epoch 10/125\n",
      "\u001b[1m2813/2813\u001b[0m \u001b[32m━━━━━━━━━━━━━━━━━━━━\u001b[0m\u001b[37m\u001b[0m \u001b[1m7s\u001b[0m 2ms/step - accuracy: 0.7855 - loss: 0.5971 - val_accuracy: 0.8166 - val_loss: 0.5116\n",
      "Epoch 11/125\n",
      "\u001b[1m2813/2813\u001b[0m \u001b[32m━━━━━━━━━━━━━━━━━━━━\u001b[0m\u001b[37m\u001b[0m \u001b[1m7s\u001b[0m 2ms/step - accuracy: 0.7884 - loss: 0.5901 - val_accuracy: 0.8187 - val_loss: 0.5058\n",
      "Epoch 12/125\n",
      "\u001b[1m2813/2813\u001b[0m \u001b[32m━━━━━━━━━━━━━━━━━━━━\u001b[0m\u001b[37m\u001b[0m \u001b[1m7s\u001b[0m 2ms/step - accuracy: 0.7918 - loss: 0.5823 - val_accuracy: 0.8214 - val_loss: 0.5003\n",
      "Epoch 13/125\n",
      "\u001b[1m2813/2813\u001b[0m \u001b[32m━━━━━━━━━━━━━━━━━━━━\u001b[0m\u001b[37m\u001b[0m \u001b[1m7s\u001b[0m 2ms/step - accuracy: 0.7944 - loss: 0.5761 - val_accuracy: 0.8236 - val_loss: 0.4935\n",
      "Epoch 14/125\n",
      "\u001b[1m2813/2813\u001b[0m \u001b[32m━━━━━━━━━━━━━━━━━━━━\u001b[0m\u001b[37m\u001b[0m \u001b[1m7s\u001b[0m 2ms/step - accuracy: 0.7966 - loss: 0.5705 - val_accuracy: 0.8258 - val_loss: 0.4908\n",
      "Epoch 15/125\n",
      "\u001b[1m2813/2813\u001b[0m \u001b[32m━━━━━━━━━━━━━━━━━━━━\u001b[0m\u001b[37m\u001b[0m \u001b[1m7s\u001b[0m 2ms/step - accuracy: 0.7966 - loss: 0.5709 - val_accuracy: 0.8245 - val_loss: 0.4942\n",
      "Epoch 16/125\n",
      "\u001b[1m2813/2813\u001b[0m \u001b[32m━━━━━━━━━━━━━━━━━━━━\u001b[0m\u001b[37m\u001b[0m \u001b[1m7s\u001b[0m 2ms/step - accuracy: 0.8005 - loss: 0.5624 - val_accuracy: 0.8273 - val_loss: 0.4864\n",
      "Epoch 17/125\n",
      "\u001b[1m2813/2813\u001b[0m \u001b[32m━━━━━━━━━━━━━━━━━━━━\u001b[0m\u001b[37m\u001b[0m \u001b[1m7s\u001b[0m 2ms/step - accuracy: 0.8002 - loss: 0.5599 - val_accuracy: 0.8264 - val_loss: 0.4875\n",
      "Epoch 18/125\n",
      "\u001b[1m2813/2813\u001b[0m \u001b[32m━━━━━━━━━━━━━━━━━━━━\u001b[0m\u001b[37m\u001b[0m \u001b[1m7s\u001b[0m 2ms/step - accuracy: 0.8016 - loss: 0.5587 - val_accuracy: 0.8301 - val_loss: 0.4788\n",
      "Epoch 19/125\n",
      "\u001b[1m2813/2813\u001b[0m \u001b[32m━━━━━━━━━━━━━━━━━━━━\u001b[0m\u001b[37m\u001b[0m \u001b[1m7s\u001b[0m 2ms/step - accuracy: 0.8014 - loss: 0.5565 - val_accuracy: 0.8289 - val_loss: 0.4837\n",
      "Epoch 20/125\n",
      "\u001b[1m2813/2813\u001b[0m \u001b[32m━━━━━━━━━━━━━━━━━━━━\u001b[0m\u001b[37m\u001b[0m \u001b[1m7s\u001b[0m 2ms/step - accuracy: 0.8049 - loss: 0.5505 - val_accuracy: 0.8323 - val_loss: 0.4731\n",
      "Epoch 21/125\n",
      "\u001b[1m2813/2813\u001b[0m \u001b[32m━━━━━━━━━━━━━━━━━━━━\u001b[0m\u001b[37m\u001b[0m \u001b[1m7s\u001b[0m 2ms/step - accuracy: 0.8053 - loss: 0.5498 - val_accuracy: 0.8328 - val_loss: 0.4692\n",
      "Epoch 22/125\n",
      "\u001b[1m2813/2813\u001b[0m \u001b[32m━━━━━━━━━━━━━━━━━━━━\u001b[0m\u001b[37m\u001b[0m \u001b[1m7s\u001b[0m 2ms/step - accuracy: 0.8056 - loss: 0.5470 - val_accuracy: 0.8342 - val_loss: 0.4683\n",
      "Epoch 23/125\n",
      "\u001b[1m2813/2813\u001b[0m \u001b[32m━━━━━━━━━━━━━━━━━━━━\u001b[0m\u001b[37m\u001b[0m \u001b[1m7s\u001b[0m 2ms/step - accuracy: 0.8065 - loss: 0.5431 - val_accuracy: 0.8341 - val_loss: 0.4707\n",
      "Epoch 24/125\n",
      "\u001b[1m2813/2813\u001b[0m \u001b[32m━━━━━━━━━━━━━━━━━━━━\u001b[0m\u001b[37m\u001b[0m \u001b[1m7s\u001b[0m 2ms/step - accuracy: 0.8079 - loss: 0.5399 - val_accuracy: 0.8340 - val_loss: 0.4680\n",
      "Epoch 25/125\n",
      "\u001b[1m2813/2813\u001b[0m \u001b[32m━━━━━━━━━━━━━━━━━━━━\u001b[0m\u001b[37m\u001b[0m \u001b[1m8s\u001b[0m 3ms/step - accuracy: 0.8083 - loss: 0.5385 - val_accuracy: 0.8349 - val_loss: 0.4644\n",
      "Epoch 26/125\n",
      "\u001b[1m2813/2813\u001b[0m \u001b[32m━━━━━━━━━━━━━━━━━━━━\u001b[0m\u001b[37m\u001b[0m \u001b[1m9s\u001b[0m 3ms/step - accuracy: 0.8094 - loss: 0.5376 - val_accuracy: 0.8339 - val_loss: 0.4659\n",
      "Epoch 27/125\n",
      "\u001b[1m2813/2813\u001b[0m \u001b[32m━━━━━━━━━━━━━━━━━━━━\u001b[0m\u001b[37m\u001b[0m \u001b[1m8s\u001b[0m 3ms/step - accuracy: 0.8100 - loss: 0.5350 - val_accuracy: 0.8369 - val_loss: 0.4599\n",
      "Epoch 28/125\n",
      "\u001b[1m2813/2813\u001b[0m \u001b[32m━━━━━━━━━━━━━━━━━━━━\u001b[0m\u001b[37m\u001b[0m \u001b[1m8s\u001b[0m 3ms/step - accuracy: 0.8110 - loss: 0.5343 - val_accuracy: 0.8353 - val_loss: 0.4649\n",
      "Epoch 29/125\n",
      "\u001b[1m2813/2813\u001b[0m \u001b[32m━━━━━━━━━━━━━━━━━━━━\u001b[0m\u001b[37m\u001b[0m \u001b[1m8s\u001b[0m 3ms/step - accuracy: 0.8119 - loss: 0.5319 - val_accuracy: 0.8376 - val_loss: 0.4560\n",
      "Epoch 30/125\n",
      "\u001b[1m2813/2813\u001b[0m \u001b[32m━━━━━━━━━━━━━━━━━━━━\u001b[0m\u001b[37m\u001b[0m \u001b[1m7s\u001b[0m 3ms/step - accuracy: 0.8118 - loss: 0.5310 - val_accuracy: 0.8374 - val_loss: 0.4585\n",
      "Epoch 31/125\n",
      "\u001b[1m2813/2813\u001b[0m \u001b[32m━━━━━━━━━━━━━━━━━━━━\u001b[0m\u001b[37m\u001b[0m \u001b[1m7s\u001b[0m 3ms/step - accuracy: 0.8121 - loss: 0.5302 - val_accuracy: 0.8383 - val_loss: 0.4551\n",
      "Epoch 32/125\n",
      "\u001b[1m2813/2813\u001b[0m \u001b[32m━━━━━━━━━━━━━━━━━━━━\u001b[0m\u001b[37m\u001b[0m \u001b[1m7s\u001b[0m 3ms/step - accuracy: 0.8116 - loss: 0.5302 - val_accuracy: 0.8370 - val_loss: 0.4582\n",
      "Epoch 33/125\n",
      "\u001b[1m2813/2813\u001b[0m \u001b[32m━━━━━━━━━━━━━━━━━━━━\u001b[0m\u001b[37m\u001b[0m \u001b[1m7s\u001b[0m 3ms/step - accuracy: 0.8135 - loss: 0.5269 - val_accuracy: 0.8408 - val_loss: 0.4533\n",
      "Epoch 34/125\n",
      "\u001b[1m2813/2813\u001b[0m \u001b[32m━━━━━━━━━━━━━━━━━━━━\u001b[0m\u001b[37m\u001b[0m \u001b[1m7s\u001b[0m 3ms/step - accuracy: 0.8132 - loss: 0.5277 - val_accuracy: 0.8399 - val_loss: 0.4525\n",
      "Epoch 35/125\n",
      "\u001b[1m2813/2813\u001b[0m \u001b[32m━━━━━━━━━━━━━━━━━━━━\u001b[0m\u001b[37m\u001b[0m \u001b[1m7s\u001b[0m 3ms/step - accuracy: 0.8126 - loss: 0.5263 - val_accuracy: 0.8396 - val_loss: 0.4527\n",
      "Epoch 36/125\n",
      "\u001b[1m2813/2813\u001b[0m \u001b[32m━━━━━━━━━━━━━━━━━━━━\u001b[0m\u001b[37m\u001b[0m \u001b[1m8s\u001b[0m 3ms/step - accuracy: 0.8140 - loss: 0.5243 - val_accuracy: 0.8406 - val_loss: 0.4498\n",
      "Epoch 37/125\n",
      "\u001b[1m2813/2813\u001b[0m \u001b[32m━━━━━━━━━━━━━━━━━━━━\u001b[0m\u001b[37m\u001b[0m \u001b[1m8s\u001b[0m 3ms/step - accuracy: 0.8154 - loss: 0.5219 - val_accuracy: 0.8417 - val_loss: 0.4514\n",
      "Epoch 38/125\n",
      "\u001b[1m2813/2813\u001b[0m \u001b[32m━━━━━━━━━━━━━━━━━━━━\u001b[0m\u001b[37m\u001b[0m \u001b[1m8s\u001b[0m 3ms/step - accuracy: 0.8141 - loss: 0.5228 - val_accuracy: 0.8420 - val_loss: 0.4480\n",
      "Epoch 39/125\n",
      "\u001b[1m2813/2813\u001b[0m \u001b[32m━━━━━━━━━━━━━━━━━━━━\u001b[0m\u001b[37m\u001b[0m \u001b[1m8s\u001b[0m 3ms/step - accuracy: 0.8147 - loss: 0.5238 - val_accuracy: 0.8412 - val_loss: 0.4527\n",
      "Epoch 40/125\n",
      "\u001b[1m2813/2813\u001b[0m \u001b[32m━━━━━━━━━━━━━━━━━━━━\u001b[0m\u001b[37m\u001b[0m \u001b[1m7s\u001b[0m 3ms/step - accuracy: 0.8154 - loss: 0.5200 - val_accuracy: 0.8413 - val_loss: 0.4519\n",
      "Epoch 41/125\n",
      "\u001b[1m2813/2813\u001b[0m \u001b[32m━━━━━━━━━━━━━━━━━━━━\u001b[0m\u001b[37m\u001b[0m \u001b[1m8s\u001b[0m 3ms/step - accuracy: 0.8164 - loss: 0.5217 - val_accuracy: 0.8414 - val_loss: 0.4495\n",
      "Epoch 42/125\n",
      "\u001b[1m2813/2813\u001b[0m \u001b[32m━━━━━━━━━━━━━━━━━━━━\u001b[0m\u001b[37m\u001b[0m \u001b[1m7s\u001b[0m 3ms/step - accuracy: 0.8161 - loss: 0.5201 - val_accuracy: 0.8419 - val_loss: 0.4482\n",
      "Epoch 43/125\n",
      "\u001b[1m2813/2813\u001b[0m \u001b[32m━━━━━━━━━━━━━━━━━━━━\u001b[0m\u001b[37m\u001b[0m \u001b[1m7s\u001b[0m 3ms/step - accuracy: 0.8177 - loss: 0.5171 - val_accuracy: 0.8437 - val_loss: 0.4460\n",
      "Epoch 44/125\n",
      "\u001b[1m2813/2813\u001b[0m \u001b[32m━━━━━━━━━━━━━━━━━━━━\u001b[0m\u001b[37m\u001b[0m \u001b[1m8s\u001b[0m 3ms/step - accuracy: 0.8160 - loss: 0.5175 - val_accuracy: 0.8433 - val_loss: 0.4442\n",
      "Epoch 45/125\n",
      "\u001b[1m2813/2813\u001b[0m \u001b[32m━━━━━━━━━━━━━━━━━━━━\u001b[0m\u001b[37m\u001b[0m \u001b[1m7s\u001b[0m 3ms/step - accuracy: 0.8179 - loss: 0.5153 - val_accuracy: 0.8416 - val_loss: 0.4490\n",
      "Epoch 46/125\n",
      "\u001b[1m2813/2813\u001b[0m \u001b[32m━━━━━━━━━━━━━━━━━━━━\u001b[0m\u001b[37m\u001b[0m \u001b[1m8s\u001b[0m 3ms/step - accuracy: 0.8178 - loss: 0.5160 - val_accuracy: 0.8427 - val_loss: 0.4475\n",
      "Epoch 47/125\n",
      "\u001b[1m2813/2813\u001b[0m \u001b[32m━━━━━━━━━━━━━━━━━━━━\u001b[0m\u001b[37m\u001b[0m \u001b[1m7s\u001b[0m 3ms/step - accuracy: 0.8178 - loss: 0.5175 - val_accuracy: 0.8414 - val_loss: 0.4476\n",
      "Epoch 48/125\n",
      "\u001b[1m2813/2813\u001b[0m \u001b[32m━━━━━━━━━━━━━━━━━━━━\u001b[0m\u001b[37m\u001b[0m \u001b[1m7s\u001b[0m 3ms/step - accuracy: 0.8178 - loss: 0.5163 - val_accuracy: 0.8425 - val_loss: 0.4450\n",
      "Epoch 49/125\n",
      "\u001b[1m2813/2813\u001b[0m \u001b[32m━━━━━━━━━━━━━━━━━━━━\u001b[0m\u001b[37m\u001b[0m \u001b[1m7s\u001b[0m 3ms/step - accuracy: 0.8193 - loss: 0.5126 - val_accuracy: 0.8422 - val_loss: 0.4469\n",
      "Epoch 50/125\n",
      "\u001b[1m2813/2813\u001b[0m \u001b[32m━━━━━━━━━━━━━━━━━━━━\u001b[0m\u001b[37m\u001b[0m \u001b[1m7s\u001b[0m 3ms/step - accuracy: 0.8194 - loss: 0.5129 - val_accuracy: 0.8436 - val_loss: 0.4450\n",
      "Epoch 51/125\n",
      "\u001b[1m2813/2813\u001b[0m \u001b[32m━━━━━━━━━━━━━━━━━━━━\u001b[0m\u001b[37m\u001b[0m \u001b[1m7s\u001b[0m 3ms/step - accuracy: 0.8183 - loss: 0.5161 - val_accuracy: 0.8439 - val_loss: 0.4415\n",
      "Epoch 52/125\n",
      "\u001b[1m2813/2813\u001b[0m \u001b[32m━━━━━━━━━━━━━━━━━━━━\u001b[0m\u001b[37m\u001b[0m \u001b[1m7s\u001b[0m 3ms/step - accuracy: 0.8199 - loss: 0.5117 - val_accuracy: 0.8455 - val_loss: 0.4399\n",
      "Epoch 53/125\n",
      "\u001b[1m2813/2813\u001b[0m \u001b[32m━━━━━━━━━━━━━━━━━━━━\u001b[0m\u001b[37m\u001b[0m \u001b[1m7s\u001b[0m 3ms/step - accuracy: 0.8192 - loss: 0.5144 - val_accuracy: 0.8450 - val_loss: 0.4391\n",
      "Epoch 54/125\n",
      "\u001b[1m2813/2813\u001b[0m \u001b[32m━━━━━━━━━━━━━━━━━━━━\u001b[0m\u001b[37m\u001b[0m \u001b[1m7s\u001b[0m 3ms/step - accuracy: 0.8202 - loss: 0.5107 - val_accuracy: 0.8460 - val_loss: 0.4344\n",
      "Epoch 55/125\n",
      "\u001b[1m2813/2813\u001b[0m \u001b[32m━━━━━━━━━━━━━━━━━━━━\u001b[0m\u001b[37m\u001b[0m \u001b[1m7s\u001b[0m 3ms/step - accuracy: 0.8207 - loss: 0.5080 - val_accuracy: 0.8436 - val_loss: 0.4399\n",
      "Epoch 56/125\n",
      "\u001b[1m2813/2813\u001b[0m \u001b[32m━━━━━━━━━━━━━━━━━━━━\u001b[0m\u001b[37m\u001b[0m \u001b[1m7s\u001b[0m 3ms/step - accuracy: 0.8202 - loss: 0.5125 - val_accuracy: 0.8445 - val_loss: 0.4430\n",
      "Epoch 57/125\n",
      "\u001b[1m2813/2813\u001b[0m \u001b[32m━━━━━━━━━━━━━━━━━━━━\u001b[0m\u001b[37m\u001b[0m \u001b[1m7s\u001b[0m 3ms/step - accuracy: 0.8193 - loss: 0.5117 - val_accuracy: 0.8429 - val_loss: 0.4465\n",
      "Epoch 58/125\n",
      "\u001b[1m2813/2813\u001b[0m \u001b[32m━━━━━━━━━━━━━━━━━━━━\u001b[0m\u001b[37m\u001b[0m \u001b[1m7s\u001b[0m 3ms/step - accuracy: 0.8189 - loss: 0.5117 - val_accuracy: 0.8476 - val_loss: 0.4361\n",
      "Epoch 59/125\n",
      "\u001b[1m2813/2813\u001b[0m \u001b[32m━━━━━━━━━━━━━━━━━━━━\u001b[0m\u001b[37m\u001b[0m \u001b[1m7s\u001b[0m 3ms/step - accuracy: 0.8209 - loss: 0.5099 - val_accuracy: 0.8420 - val_loss: 0.4447\n",
      "Epoch 60/125\n",
      "\u001b[1m2813/2813\u001b[0m \u001b[32m━━━━━━━━━━━━━━━━━━━━\u001b[0m\u001b[37m\u001b[0m \u001b[1m8s\u001b[0m 3ms/step - accuracy: 0.8219 - loss: 0.5077 - val_accuracy: 0.8446 - val_loss: 0.4390\n",
      "Epoch 61/125\n",
      "\u001b[1m2813/2813\u001b[0m \u001b[32m━━━━━━━━━━━━━━━━━━━━\u001b[0m\u001b[37m\u001b[0m \u001b[1m7s\u001b[0m 3ms/step - accuracy: 0.8205 - loss: 0.5095 - val_accuracy: 0.8424 - val_loss: 0.4460\n",
      "Epoch 62/125\n",
      "\u001b[1m2813/2813\u001b[0m \u001b[32m━━━━━━━━━━━━━━━━━━━━\u001b[0m\u001b[37m\u001b[0m \u001b[1m7s\u001b[0m 3ms/step - accuracy: 0.8213 - loss: 0.5095 - val_accuracy: 0.8452 - val_loss: 0.4376\n",
      "Epoch 63/125\n",
      "\u001b[1m2813/2813\u001b[0m \u001b[32m━━━━━━━━━━━━━━━━━━━━\u001b[0m\u001b[37m\u001b[0m \u001b[1m7s\u001b[0m 3ms/step - accuracy: 0.8212 - loss: 0.5070 - val_accuracy: 0.8436 - val_loss: 0.4441\n",
      "Epoch 64/125\n",
      "\u001b[1m2813/2813\u001b[0m \u001b[32m━━━━━━━━━━━━━━━━━━━━\u001b[0m\u001b[37m\u001b[0m \u001b[1m7s\u001b[0m 3ms/step - accuracy: 0.8190 - loss: 0.5127 - val_accuracy: 0.8439 - val_loss: 0.4393\n",
      "Epoch 65/125\n",
      "\u001b[1m2813/2813\u001b[0m \u001b[32m━━━━━━━━━━━━━━━━━━━━\u001b[0m\u001b[37m\u001b[0m \u001b[1m8s\u001b[0m 3ms/step - accuracy: 0.8211 - loss: 0.5075 - val_accuracy: 0.8446 - val_loss: 0.4398\n",
      "Epoch 66/125\n",
      "\u001b[1m2813/2813\u001b[0m \u001b[32m━━━━━━━━━━━━━━━━━━━━\u001b[0m\u001b[37m\u001b[0m \u001b[1m8s\u001b[0m 3ms/step - accuracy: 0.8222 - loss: 0.5086 - val_accuracy: 0.8443 - val_loss: 0.4412\n",
      "Epoch 67/125\n",
      "\u001b[1m2813/2813\u001b[0m \u001b[32m━━━━━━━━━━━━━━━━━━━━\u001b[0m\u001b[37m\u001b[0m \u001b[1m9s\u001b[0m 3ms/step - accuracy: 0.8219 - loss: 0.5055 - val_accuracy: 0.8437 - val_loss: 0.4437\n",
      "Epoch 68/125\n",
      "\u001b[1m2813/2813\u001b[0m \u001b[32m━━━━━━━━━━━━━━━━━━━━\u001b[0m\u001b[37m\u001b[0m \u001b[1m8s\u001b[0m 3ms/step - accuracy: 0.8196 - loss: 0.5097 - val_accuracy: 0.8401 - val_loss: 0.4560\n",
      "Epoch 69/125\n",
      "\u001b[1m2813/2813\u001b[0m \u001b[32m━━━━━━━━━━━━━━━━━━━━\u001b[0m\u001b[37m\u001b[0m \u001b[1m8s\u001b[0m 3ms/step - accuracy: 0.8211 - loss: 0.5093 - val_accuracy: 0.8458 - val_loss: 0.4358\n",
      "Epoch 70/125\n",
      "\u001b[1m2813/2813\u001b[0m \u001b[32m━━━━━━━━━━━━━━━━━━━━\u001b[0m\u001b[37m\u001b[0m \u001b[1m8s\u001b[0m 3ms/step - accuracy: 0.8223 - loss: 0.5065 - val_accuracy: 0.8432 - val_loss: 0.4454\n",
      "Epoch 71/125\n",
      "\u001b[1m2813/2813\u001b[0m \u001b[32m━━━━━━━━━━━━━━━━━━━━\u001b[0m\u001b[37m\u001b[0m \u001b[1m8s\u001b[0m 3ms/step - accuracy: 0.8219 - loss: 0.5092 - val_accuracy: 0.8422 - val_loss: 0.4439\n",
      "Epoch 72/125\n",
      "\u001b[1m2813/2813\u001b[0m \u001b[32m━━━━━━━━━━━━━━━━━━━━\u001b[0m\u001b[37m\u001b[0m \u001b[1m9s\u001b[0m 3ms/step - accuracy: 0.8216 - loss: 0.5084 - val_accuracy: 0.8445 - val_loss: 0.4391\n",
      "Epoch 73/125\n",
      "\u001b[1m2813/2813\u001b[0m \u001b[32m━━━━━━━━━━━━━━━━━━━━\u001b[0m\u001b[37m\u001b[0m \u001b[1m7s\u001b[0m 3ms/step - accuracy: 0.8222 - loss: 0.5082 - val_accuracy: 0.8463 - val_loss: 0.4388\n",
      "Epoch 74/125\n",
      "\u001b[1m2813/2813\u001b[0m \u001b[32m━━━━━━━━━━━━━━━━━━━━\u001b[0m\u001b[37m\u001b[0m \u001b[1m7s\u001b[0m 3ms/step - accuracy: 0.8217 - loss: 0.5087 - val_accuracy: 0.8428 - val_loss: 0.4434\n",
      "Epoch 75/125\n",
      "\u001b[1m2813/2813\u001b[0m \u001b[32m━━━━━━━━━━━━━━━━━━━━\u001b[0m\u001b[37m\u001b[0m \u001b[1m7s\u001b[0m 3ms/step - accuracy: 0.8210 - loss: 0.5055 - val_accuracy: 0.8435 - val_loss: 0.4438\n",
      "Epoch 76/125\n",
      "\u001b[1m2813/2813\u001b[0m \u001b[32m━━━━━━━━━━━━━━━━━━━━\u001b[0m\u001b[37m\u001b[0m \u001b[1m7s\u001b[0m 3ms/step - accuracy: 0.8231 - loss: 0.5049 - val_accuracy: 0.8433 - val_loss: 0.4411\n",
      "Epoch 77/125\n",
      "\u001b[1m2813/2813\u001b[0m \u001b[32m━━━━━━━━━━━━━━━━━━━━\u001b[0m\u001b[37m\u001b[0m \u001b[1m7s\u001b[0m 3ms/step - accuracy: 0.8218 - loss: 0.5068 - val_accuracy: 0.8446 - val_loss: 0.4389\n",
      "Epoch 78/125\n",
      "\u001b[1m2813/2813\u001b[0m \u001b[32m━━━━━━━━━━━━━━━━━━━━\u001b[0m\u001b[37m\u001b[0m \u001b[1m7s\u001b[0m 3ms/step - accuracy: 0.8225 - loss: 0.5068 - val_accuracy: 0.8467 - val_loss: 0.4352\n",
      "Epoch 79/125\n",
      "\u001b[1m2813/2813\u001b[0m \u001b[32m━━━━━━━━━━━━━━━━━━━━\u001b[0m\u001b[37m\u001b[0m \u001b[1m7s\u001b[0m 3ms/step - accuracy: 0.8230 - loss: 0.5051 - val_accuracy: 0.8440 - val_loss: 0.4415\n",
      "Epoch 80/125\n",
      "\u001b[1m2813/2813\u001b[0m \u001b[32m━━━━━━━━━━━━━━━━━━━━\u001b[0m\u001b[37m\u001b[0m \u001b[1m7s\u001b[0m 3ms/step - accuracy: 0.8228 - loss: 0.5073 - val_accuracy: 0.8450 - val_loss: 0.4399\n",
      "Epoch 81/125\n",
      "\u001b[1m2813/2813\u001b[0m \u001b[32m━━━━━━━━━━━━━━━━━━━━\u001b[0m\u001b[37m\u001b[0m \u001b[1m7s\u001b[0m 3ms/step - accuracy: 0.8229 - loss: 0.5053 - val_accuracy: 0.8452 - val_loss: 0.4351\n",
      "Epoch 82/125\n",
      "\u001b[1m2813/2813\u001b[0m \u001b[32m━━━━━━━━━━━━━━━━━━━━\u001b[0m\u001b[37m\u001b[0m \u001b[1m7s\u001b[0m 3ms/step - accuracy: 0.8227 - loss: 0.5058 - val_accuracy: 0.8426 - val_loss: 0.4431\n",
      "Epoch 83/125\n",
      "\u001b[1m2813/2813\u001b[0m \u001b[32m━━━━━━━━━━━━━━━━━━━━\u001b[0m\u001b[37m\u001b[0m \u001b[1m7s\u001b[0m 3ms/step - accuracy: 0.8219 - loss: 0.5058 - val_accuracy: 0.8439 - val_loss: 0.4413\n",
      "Epoch 84/125\n",
      "\u001b[1m2813/2813\u001b[0m \u001b[32m━━━━━━━━━━━━━━━━━━━━\u001b[0m\u001b[37m\u001b[0m \u001b[1m8s\u001b[0m 3ms/step - accuracy: 0.8231 - loss: 0.5050 - val_accuracy: 0.8452 - val_loss: 0.4355\n",
      "Epoch 85/125\n",
      "\u001b[1m2813/2813\u001b[0m \u001b[32m━━━━━━━━━━━━━━━━━━━━\u001b[0m\u001b[37m\u001b[0m \u001b[1m8s\u001b[0m 3ms/step - accuracy: 0.8227 - loss: 0.5046 - val_accuracy: 0.8469 - val_loss: 0.4310\n",
      "Epoch 86/125\n",
      "\u001b[1m2813/2813\u001b[0m \u001b[32m━━━━━━━━━━━━━━━━━━━━\u001b[0m\u001b[37m\u001b[0m \u001b[1m8s\u001b[0m 3ms/step - accuracy: 0.8232 - loss: 0.5055 - val_accuracy: 0.8451 - val_loss: 0.4385\n",
      "Epoch 87/125\n",
      "\u001b[1m2813/2813\u001b[0m \u001b[32m━━━━━━━━━━━━━━━━━━━━\u001b[0m\u001b[37m\u001b[0m \u001b[1m8s\u001b[0m 3ms/step - accuracy: 0.8230 - loss: 0.5051 - val_accuracy: 0.8443 - val_loss: 0.4404\n",
      "Epoch 88/125\n",
      "\u001b[1m2813/2813\u001b[0m \u001b[32m━━━━━━━━━━━━━━━━━━━━\u001b[0m\u001b[37m\u001b[0m \u001b[1m8s\u001b[0m 3ms/step - accuracy: 0.8228 - loss: 0.5068 - val_accuracy: 0.8432 - val_loss: 0.4421\n",
      "Epoch 89/125\n",
      "\u001b[1m2813/2813\u001b[0m \u001b[32m━━━━━━━━━━━━━━━━━━━━\u001b[0m\u001b[37m\u001b[0m \u001b[1m7s\u001b[0m 3ms/step - accuracy: 0.8227 - loss: 0.5032 - val_accuracy: 0.8447 - val_loss: 0.4386\n",
      "Epoch 90/125\n",
      "\u001b[1m2813/2813\u001b[0m \u001b[32m━━━━━━━━━━━━━━━━━━━━\u001b[0m\u001b[37m\u001b[0m \u001b[1m8s\u001b[0m 3ms/step - accuracy: 0.8232 - loss: 0.5032 - val_accuracy: 0.8470 - val_loss: 0.4330\n",
      "Epoch 91/125\n",
      "\u001b[1m2813/2813\u001b[0m \u001b[32m━━━━━━━━━━━━━━━━━━━━\u001b[0m\u001b[37m\u001b[0m \u001b[1m8s\u001b[0m 3ms/step - accuracy: 0.8239 - loss: 0.5047 - val_accuracy: 0.8440 - val_loss: 0.4406\n",
      "Epoch 92/125\n",
      "\u001b[1m2813/2813\u001b[0m \u001b[32m━━━━━━━━━━━━━━━━━━━━\u001b[0m\u001b[37m\u001b[0m \u001b[1m8s\u001b[0m 3ms/step - accuracy: 0.8249 - loss: 0.5014 - val_accuracy: 0.8412 - val_loss: 0.4437\n",
      "Epoch 93/125\n",
      "\u001b[1m2813/2813\u001b[0m \u001b[32m━━━━━━━━━━━━━━━━━━━━\u001b[0m\u001b[37m\u001b[0m \u001b[1m8s\u001b[0m 3ms/step - accuracy: 0.8235 - loss: 0.5043 - val_accuracy: 0.8426 - val_loss: 0.4419\n",
      "Epoch 94/125\n",
      "\u001b[1m2813/2813\u001b[0m \u001b[32m━━━━━━━━━━━━━━━━━━━━\u001b[0m\u001b[37m\u001b[0m \u001b[1m8s\u001b[0m 3ms/step - accuracy: 0.8236 - loss: 0.5042 - val_accuracy: 0.8452 - val_loss: 0.4403\n",
      "Epoch 95/125\n",
      "\u001b[1m2813/2813\u001b[0m \u001b[32m━━━━━━━━━━━━━━━━━━━━\u001b[0m\u001b[37m\u001b[0m \u001b[1m8s\u001b[0m 3ms/step - accuracy: 0.8242 - loss: 0.5013 - val_accuracy: 0.8455 - val_loss: 0.4415\n",
      "Epoch 96/125\n",
      "\u001b[1m2813/2813\u001b[0m \u001b[32m━━━━━━━━━━━━━━━━━━━━\u001b[0m\u001b[37m\u001b[0m \u001b[1m8s\u001b[0m 3ms/step - accuracy: 0.8241 - loss: 0.5023 - val_accuracy: 0.8436 - val_loss: 0.4450\n",
      "Epoch 97/125\n",
      "\u001b[1m2813/2813\u001b[0m \u001b[32m━━━━━━━━━━━━━━━━━━━━\u001b[0m\u001b[37m\u001b[0m \u001b[1m8s\u001b[0m 3ms/step - accuracy: 0.8235 - loss: 0.5051 - val_accuracy: 0.8431 - val_loss: 0.4442\n",
      "Epoch 98/125\n",
      "\u001b[1m2813/2813\u001b[0m \u001b[32m━━━━━━━━━━━━━━━━━━━━\u001b[0m\u001b[37m\u001b[0m \u001b[1m7s\u001b[0m 2ms/step - accuracy: 0.8231 - loss: 0.5049 - val_accuracy: 0.8422 - val_loss: 0.4378\n",
      "Epoch 99/125\n",
      "\u001b[1m2813/2813\u001b[0m \u001b[32m━━━━━━━━━━━━━━━━━━━━\u001b[0m\u001b[37m\u001b[0m \u001b[1m8s\u001b[0m 3ms/step - accuracy: 0.8236 - loss: 0.5057 - val_accuracy: 0.8393 - val_loss: 0.4483\n",
      "Epoch 100/125\n",
      "\u001b[1m2813/2813\u001b[0m \u001b[32m━━━━━━━━━━━━━━━━━━━━\u001b[0m\u001b[37m\u001b[0m \u001b[1m8s\u001b[0m 3ms/step - accuracy: 0.8228 - loss: 0.5059 - val_accuracy: 0.8435 - val_loss: 0.4424\n",
      "Epoch 101/125\n",
      "\u001b[1m2813/2813\u001b[0m \u001b[32m━━━━━━━━━━━━━━━━━━━━\u001b[0m\u001b[37m\u001b[0m \u001b[1m8s\u001b[0m 3ms/step - accuracy: 0.8243 - loss: 0.5047 - val_accuracy: 0.8447 - val_loss: 0.4385\n",
      "Epoch 102/125\n",
      "\u001b[1m2813/2813\u001b[0m \u001b[32m━━━━━━━━━━━━━━━━━━━━\u001b[0m\u001b[37m\u001b[0m \u001b[1m8s\u001b[0m 3ms/step - accuracy: 0.8245 - loss: 0.5017 - val_accuracy: 0.8420 - val_loss: 0.4439\n",
      "Epoch 103/125\n",
      "\u001b[1m2813/2813\u001b[0m \u001b[32m━━━━━━━━━━━━━━━━━━━━\u001b[0m\u001b[37m\u001b[0m \u001b[1m8s\u001b[0m 3ms/step - accuracy: 0.8232 - loss: 0.5027 - val_accuracy: 0.8404 - val_loss: 0.4505\n",
      "Epoch 104/125\n",
      "\u001b[1m2813/2813\u001b[0m \u001b[32m━━━━━━━━━━━━━━━━━━━━\u001b[0m\u001b[37m\u001b[0m \u001b[1m8s\u001b[0m 3ms/step - accuracy: 0.8227 - loss: 0.5081 - val_accuracy: 0.8445 - val_loss: 0.4402\n",
      "Epoch 105/125\n",
      "\u001b[1m2813/2813\u001b[0m \u001b[32m━━━━━━━━━━━━━━━━━━━━\u001b[0m\u001b[37m\u001b[0m \u001b[1m8s\u001b[0m 3ms/step - accuracy: 0.8234 - loss: 0.5078 - val_accuracy: 0.8449 - val_loss: 0.4382\n",
      "Epoch 106/125\n",
      "\u001b[1m2813/2813\u001b[0m \u001b[32m━━━━━━━━━━━━━━━━━━━━\u001b[0m\u001b[37m\u001b[0m \u001b[1m8s\u001b[0m 3ms/step - accuracy: 0.8230 - loss: 0.5063 - val_accuracy: 0.8413 - val_loss: 0.4480\n",
      "Epoch 107/125\n",
      "\u001b[1m2813/2813\u001b[0m \u001b[32m━━━━━━━━━━━━━━━━━━━━\u001b[0m\u001b[37m\u001b[0m \u001b[1m8s\u001b[0m 3ms/step - accuracy: 0.8245 - loss: 0.5037 - val_accuracy: 0.8447 - val_loss: 0.4394\n",
      "Epoch 108/125\n",
      "\u001b[1m2813/2813\u001b[0m \u001b[32m━━━━━━━━━━━━━━━━━━━━\u001b[0m\u001b[37m\u001b[0m \u001b[1m8s\u001b[0m 3ms/step - accuracy: 0.8233 - loss: 0.5039 - val_accuracy: 0.8454 - val_loss: 0.4391\n",
      "Epoch 109/125\n",
      "\u001b[1m2813/2813\u001b[0m \u001b[32m━━━━━━━━━━━━━━━━━━━━\u001b[0m\u001b[37m\u001b[0m \u001b[1m8s\u001b[0m 3ms/step - accuracy: 0.8240 - loss: 0.5034 - val_accuracy: 0.8464 - val_loss: 0.4338\n",
      "Epoch 110/125\n",
      "\u001b[1m2813/2813\u001b[0m \u001b[32m━━━━━━━━━━━━━━━━━━━━\u001b[0m\u001b[37m\u001b[0m \u001b[1m8s\u001b[0m 3ms/step - accuracy: 0.8243 - loss: 0.5010 - val_accuracy: 0.8393 - val_loss: 0.4489\n",
      "Epoch 111/125\n",
      "\u001b[1m2813/2813\u001b[0m \u001b[32m━━━━━━━━━━━━━━━━━━━━\u001b[0m\u001b[37m\u001b[0m \u001b[1m8s\u001b[0m 3ms/step - accuracy: 0.8241 - loss: 0.4996 - val_accuracy: 0.8456 - val_loss: 0.4408\n",
      "Epoch 112/125\n",
      "\u001b[1m2813/2813\u001b[0m \u001b[32m━━━━━━━━━━━━━━━━━━━━\u001b[0m\u001b[37m\u001b[0m \u001b[1m8s\u001b[0m 3ms/step - accuracy: 0.8244 - loss: 0.5047 - val_accuracy: 0.8431 - val_loss: 0.4393\n",
      "Epoch 113/125\n",
      "\u001b[1m2813/2813\u001b[0m \u001b[32m━━━━━━━━━━━━━━━━━━━━\u001b[0m\u001b[37m\u001b[0m \u001b[1m8s\u001b[0m 3ms/step - accuracy: 0.8247 - loss: 0.5021 - val_accuracy: 0.8437 - val_loss: 0.4431\n",
      "Epoch 114/125\n",
      "\u001b[1m2813/2813\u001b[0m \u001b[32m━━━━━━━━━━━━━━━━━━━━\u001b[0m\u001b[37m\u001b[0m \u001b[1m8s\u001b[0m 3ms/step - accuracy: 0.8240 - loss: 0.5045 - val_accuracy: 0.8423 - val_loss: 0.4449\n",
      "Epoch 115/125\n",
      "\u001b[1m2813/2813\u001b[0m \u001b[32m━━━━━━━━━━━━━━━━━━━━\u001b[0m\u001b[37m\u001b[0m \u001b[1m8s\u001b[0m 3ms/step - accuracy: 0.8240 - loss: 0.5037 - val_accuracy: 0.8462 - val_loss: 0.4324\n",
      "Epoch 116/125\n",
      "\u001b[1m2813/2813\u001b[0m \u001b[32m━━━━━━━━━━━━━━━━━━━━\u001b[0m\u001b[37m\u001b[0m \u001b[1m8s\u001b[0m 3ms/step - accuracy: 0.8236 - loss: 0.5035 - val_accuracy: 0.8443 - val_loss: 0.4405\n",
      "Epoch 117/125\n",
      "\u001b[1m2813/2813\u001b[0m \u001b[32m━━━━━━━━━━━━━━━━━━━━\u001b[0m\u001b[37m\u001b[0m \u001b[1m8s\u001b[0m 3ms/step - accuracy: 0.8242 - loss: 0.5040 - val_accuracy: 0.8429 - val_loss: 0.4412\n",
      "Epoch 118/125\n",
      "\u001b[1m2813/2813\u001b[0m \u001b[32m━━━━━━━━━━━━━━━━━━━━\u001b[0m\u001b[37m\u001b[0m \u001b[1m8s\u001b[0m 3ms/step - accuracy: 0.8241 - loss: 0.5020 - val_accuracy: 0.8452 - val_loss: 0.4376\n",
      "Epoch 119/125\n",
      "\u001b[1m2813/2813\u001b[0m \u001b[32m━━━━━━━━━━━━━━━━━━━━\u001b[0m\u001b[37m\u001b[0m \u001b[1m8s\u001b[0m 3ms/step - accuracy: 0.8229 - loss: 0.5057 - val_accuracy: 0.8437 - val_loss: 0.4431\n",
      "Epoch 120/125\n",
      "\u001b[1m2813/2813\u001b[0m \u001b[32m━━━━━━━━━━━━━━━━━━━━\u001b[0m\u001b[37m\u001b[0m \u001b[1m8s\u001b[0m 3ms/step - accuracy: 0.8253 - loss: 0.5022 - val_accuracy: 0.8442 - val_loss: 0.4396\n",
      "Epoch 121/125\n",
      "\u001b[1m2813/2813\u001b[0m \u001b[32m━━━━━━━━━━━━━━━━━━━━\u001b[0m\u001b[37m\u001b[0m \u001b[1m8s\u001b[0m 3ms/step - accuracy: 0.8250 - loss: 0.4998 - val_accuracy: 0.8432 - val_loss: 0.4443\n",
      "Epoch 122/125\n",
      "\u001b[1m2813/2813\u001b[0m \u001b[32m━━━━━━━━━━━━━━━━━━━━\u001b[0m\u001b[37m\u001b[0m \u001b[1m8s\u001b[0m 3ms/step - accuracy: 0.8234 - loss: 0.5029 - val_accuracy: 0.8434 - val_loss: 0.4430\n",
      "Epoch 123/125\n",
      "\u001b[1m2813/2813\u001b[0m \u001b[32m━━━━━━━━━━━━━━━━━━━━\u001b[0m\u001b[37m\u001b[0m \u001b[1m8s\u001b[0m 3ms/step - accuracy: 0.8242 - loss: 0.5028 - val_accuracy: 0.8435 - val_loss: 0.4459\n",
      "Epoch 124/125\n",
      "\u001b[1m2813/2813\u001b[0m \u001b[32m━━━━━━━━━━━━━━━━━━━━\u001b[0m\u001b[37m\u001b[0m \u001b[1m8s\u001b[0m 3ms/step - accuracy: 0.8235 - loss: 0.5076 - val_accuracy: 0.8422 - val_loss: 0.4466\n",
      "Epoch 125/125\n",
      "\u001b[1m2813/2813\u001b[0m \u001b[32m━━━━━━━━━━━━━━━━━━━━\u001b[0m\u001b[37m\u001b[0m \u001b[1m8s\u001b[0m 3ms/step - accuracy: 0.8251 - loss: 0.5002 - val_accuracy: 0.8417 - val_loss: 0.4427\n",
      "[1] ====================\n",
      "\u001b[1m3750/3750\u001b[0m \u001b[32m━━━━━━━━━━━━━━━━━━━━\u001b[0m\u001b[37m\u001b[0m \u001b[1m4s\u001b[0m 1ms/step - accuracy: 0.8424 - loss: 0.4447\n",
      "[1] * evaluation [10000, 20000]:20000-20/125 -- [0.4415258765220642, 0.8413833379745483]\n",
      "[1] ====================\n"
     ]
    },
    {
     "data": {
      "image/png": "[encoded data removed]",
      "text/plain": [
       "<Figure size 640x480 with 1 Axes>"
      ]
     },
     "metadata": {},
     "output_type": "display_data"
    },
    {
     "data": {
      "image/png": "[encoded data removed]",
      "text/plain": [
       "<Figure size 640x480 with 1 Axes>"
      ]
     },
     "metadata": {},
     "output_type": "display_data"
    }
   ],
   "source": [
    "x_train = None\n",
    "y_train = None\n",
    "x_validate = None\n",
    "y_validate = None\n",
    "x_test = None\n",
    "y_test = None\n",
    "for stage in range(stage_count):\n",
    "  (s_x_train, s_x_validate, s_x_test) = stage_x_dps[stage]\n",
    "  (s_y_train, s_y_validate, s_y_test) = stage_y_dps[stage]\n",
    "  if stage == 0:\n",
    "    x_train = s_x_train\n",
    "    y_train = s_y_train\n",
    "    x_validate = s_x_validate\n",
    "    y_validate = s_y_validate\n",
    "    x_test = s_x_test\n",
    "    y_test = s_y_test\n",
    "  else:\n",
    "    x_train = np.concatenate((x_train, s_x_train), axis=0)\n",
    "    y_train = np.concatenate((y_train, s_y_train), axis=0)\n",
    "    x_validate = np.concatenate((x_validate, s_x_validate), axis=0)     \n",
    "    y_validate = np.concatenate((y_validate, s_y_validate), axis=0)\n",
    "    x_test = np.concatenate((x_test, s_x_test), axis=0)\n",
    "    y_test = np.concatenate((y_test, s_y_test), axis=0)\n",
    "\n",
    "history = model.fit(x_train, y_train, batch_size=batch_size, epochs=epoch_count, verbose=1, validation_data=(x_validate, y_validate))\n",
    "\n",
    "print(f\"[{stage}] ====================\")\n",
    "evaluation = model.evaluate(x_test, y_test)\n",
    "print(f\"[{stage}] * evaluation {stage_round_counts}:{round_count}-{stage_step_count}/{epoch_count} -- {evaluation}\")\n",
    "print(f\"[{stage}] ====================\")\n",
    "\n",
    "loss = history.history['loss']\n",
    "val_loss = history.history['val_loss']\n",
    "\n",
    "epochs = range(1, len(loss) + 1)\n",
    "\n",
    "plt.plot(epochs, loss, 'r.', label='Training loss')\n",
    "plt.plot(epochs, val_loss, 'b', label='Validation loss')\n",
    "plt.title(f'[{stage}] Training and validation loss')\n",
    "plt.xlabel('Epochs')\n",
    "plt.ylabel('Loss')\n",
    "plt.legend()\n",
    "plt.show()\n",
    "\n",
    "accuracy = history.history['accuracy']\n",
    "val_accuracy = history.history['val_accuracy']\n",
    "epochs = range(1, len(accuracy) + 1)\n",
    "plt.plot(epochs, accuracy, 'r.', label='Training accuracy')\n",
    "plt.plot(epochs, val_accuracy, 'b', label='Validation accuracy')\n",
    "plt.title(f'[{stage}] Training and validation accuracy')\n",
    "plt.xlabel('Epochs')\n",
    "plt.ylabel('Accuracy')\n",
    "plt.legend()\n",
    "plt.show()\n"
   ]
  },
  {
   "cell_type": "code",
   "execution_count": 7,
   "metadata": {},
   "outputs": [
    {
     "name": "stdout",
     "output_type": "stream",
     "text": [
      "[0] $$$$$$$$$$$$$$$$$$$$\n",
      "\u001b[1m1250/1250\u001b[0m \u001b[32m━━━━━━━━━━━━━━━━━━━━\u001b[0m\u001b[37m\u001b[0m \u001b[1m1s\u001b[0m 1ms/step - accuracy: 0.8432 - loss: 0.4478\n",
      "[0] * evaluation [10000, 20000]:10000-20/125 -- [0.4478358328342438, 0.8437749743461609]\n",
      "[0] $$$$$$$$$$$$$$$$$$$$\n",
      "[1] $$$$$$$$$$$$$$$$$$$$\n",
      "\u001b[1m2500/2500\u001b[0m \u001b[32m━━━━━━━━━━━━━━━━━━━━\u001b[0m\u001b[37m\u001b[0m \u001b[1m3s\u001b[0m 1ms/step - accuracy: 0.8413 - loss: 0.4337\n",
      "[1] * evaluation [10000, 20000]:20000-20/125 -- [0.43836987018585205, 0.8401874899864197]\n",
      "[1] $$$$$$$$$$$$$$$$$$$$\n"
     ]
    }
   ],
   "source": [
    "for stage in range(stage_count):\n",
    "  round_count = stage_round_counts[stage]\n",
    "  (x_train, x_validate, x_test) = stage_x_dps[stage]\n",
    "  (y_train, y_validate, y_test) = stage_y_dps[stage]\n",
    "  print(f\"[{stage}] $$$$$$$$$$$$$$$$$$$$\")\n",
    "  evaluation = model.evaluate(x_test, y_test)\n",
    "  print(f\"[{stage}] * evaluation {stage_round_counts}:{round_count}-{stage_step_count}/{epoch_count} -- {evaluation}\")\n",
    "  print(f\"[{stage}] $$$$$$$$$$$$$$$$$$$$\")\n"
   ]
  },
  {
   "cell_type": "code",
   "execution_count": 8,
   "metadata": {},
   "outputs": [
    {
     "name": "stdout",
     "output_type": "stream",
     "text": [
      "---------------------\n",
      "|  1 |  0 |  2 |  3 |\n",
      "|  4 |  5 |  6 |  7 |\n",
      "|  8 |  9 | 10 | 11 |\n",
      "| 12 | 13 | 14 | 15 |\n",
      "---------------------\n",
      "\u001b[1m1/1\u001b[0m \u001b[32m━━━━━━━━━━━━━━━━━━━━\u001b[0m\u001b[37m\u001b[0m \u001b[1m0s\u001b[0m 50ms/step\n",
      "[0] * move [0] -- [9.8703092e-01 3.6981797e-03 5.7609927e-08 9.2666307e-03 3.8167875e-07\n",
      " 3.5831217e-06 7.8973703e-12 3.1314468e-07]\n",
      "---------------------\n",
      "|  1 |  0 |  2 |  3 |\n",
      "|  4 |  5 |  6 |  7 |\n",
      "|  8 |  9 | 10 | 11 |\n",
      "| 12 | 13 | 14 | 15 |\n",
      "---------------------\n",
      "\u001b[1m1/1\u001b[0m \u001b[32m━━━━━━━━━━━━━━━━━━━━\u001b[0m\u001b[37m\u001b[0m \u001b[1m0s\u001b[0m 28ms/step\n",
      "[1] * move [0] -- [9.8703092e-01 3.6981797e-03 5.7609927e-08 9.2666307e-03 3.8167875e-07\n",
      " 3.5831217e-06 7.8973703e-12 3.1314468e-07]\n"
     ]
    }
   ],
   "source": [
    "for stage in range(stage_count):\n",
    "  board_manager = BoardManager(tile_count)\n",
    "  board_manager.randomize_board_step()\n",
    "  board_manager.show_board()\n",
    "  x = np.array([board_manager.board_tiles]).astype('float32') / (tile_count * tile_count)\n",
    "  prediction = model.predict(x)[0]\n",
    "  ans = argmax(prediction)\n",
    "  print(f\"[{stage}] * move [{ans}] -- {prediction}\")"
   ]
  },
  {
   "cell_type": "code",
   "execution_count": 9,
   "metadata": {},
   "outputs": [
    {
     "name": "stderr",
     "output_type": "stream",
     "text": [
      "A subdirectory or file output already exists.\n"
     ]
    },
    {
     "name": "stdout",
     "output_type": "stream",
     "text": [
      "INFO:tensorflow:Assets written to: C:\\Users\\TREVOR~1\\AppData\\Local\\Temp\\tmpdlqtl_jw\\assets\n"
     ]
    },
    {
     "name": "stderr",
     "output_type": "stream",
     "text": [
      "INFO:tensorflow:Assets written to: C:\\Users\\TREVOR~1\\AppData\\Local\\Temp\\tmpdlqtl_jw\\assets\n"
     ]
    },
    {
     "name": "stdout",
     "output_type": "stream",
     "text": [
      "Saved artifact at 'C:\\Users\\TREVOR~1\\AppData\\Local\\Temp\\tmpdlqtl_jw'. The following endpoints are available:\n",
      "\n",
      "* Endpoint 'serve'\n",
      "  args_0 (POSITIONAL_ONLY): TensorSpec(shape=(None, 16), dtype=tf.float32, name='keras_tensor')\n",
      "Output Type:\n",
      "  TensorSpec(shape=(None, 8), dtype=tf.float32, name=None)\n",
      "Captures:\n",
      "  2502915786528: TensorSpec(shape=(), dtype=tf.resource, name=None)\n",
      "  2502915861488: TensorSpec(shape=(), dtype=tf.resource, name=None)\n",
      "  2502916065936: TensorSpec(shape=(), dtype=tf.resource, name=None)\n",
      "  2502916065584: TensorSpec(shape=(), dtype=tf.resource, name=None)\n",
      "  2502916118656: TensorSpec(shape=(), dtype=tf.resource, name=None)\n",
      "  2502916118480: TensorSpec(shape=(), dtype=tf.resource, name=None)\n",
      "\n",
      "***** sp_staged_model_4_2.h is generated *****\n"
     ]
    }
   ],
   "source": [
    "!mkdir output\n",
    "converter = tf.lite.TFLiteConverter.from_keras_model(model)\n",
    "tflite_model = converter.convert()\n",
    "\n",
    "header_name = f\"sp_staged_model_{tile_count}_{stage_count}\"\n",
    "write_model_as_c_header_file(tflite_model, f\"src/esp32_sliding_puzzle/{header_name}.h\", \"sp_model\")\n",
    "\n",
    "print()\n",
    "print(f\"***** {header_name}.h is generated *****\")\n"
   ]
  }
 ],
 "metadata": {
  "kernelspec": {
   "display_name": ".venv",
   "language": "python",
   "name": "python3"
  },
  "language_info": {
   "codemirror_mode": {
    "name": "ipython",
    "version": 3
   },
   "file_extension": ".py",
   "mimetype": "text/x-python",
   "name": "python",
   "nbconvert_exporter": "python",
   "pygments_lexer": "ipython3",
   "version": "3.9.10"
  }
 },
 "nbformat": 4,
 "nbformat_minor": 2
}
