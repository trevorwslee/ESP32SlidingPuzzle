{
 "cells": [
  {
   "cell_type": "code",
   "execution_count": 1,
   "metadata": {},
   "outputs": [],
   "source": [
    "#\n",
    "# import necessary packages\n",
    "#\n",
    "\n",
    "import keras\n",
    "import tensorflow as tf\n",
    "import numpy as np\n",
    "import matplotlib.pyplot as plt\n",
    "import textwrap\n",
    "from numpy import argmax\n",
    "from random import randint\n",
    "from tqdm import tqdm\n",
    "from board_manager import BoardManager, write_model_as_c_header_file"
   ]
  },
  {
   "cell_type": "code",
   "execution_count": 2,
   "metadata": {},
   "outputs": [
    {
     "name": "stderr",
     "output_type": "stream",
     "text": [
      "100%|██████████| 10000/10000 [11:24<00:00, 14.60it/s]\n"
     ]
    }
   ],
   "source": [
    "#\n",
    "# create randomized boards for training\n",
    "#\n",
    "\n",
    "# tile_count is the number of horizontal / vertical tiles ... a tile_count of 4 means a 4x4 board\n",
    "tile_count = 4\n",
    "\n",
    "# number of \"last moves\" to remember\n",
    "remember_last_move_count = 1\n",
    "\n",
    "# round_count is the number of rounds of random boards to generate\n",
    "round_count = 10000\n",
    "\n",
    "# random_step_count is the number of random moves from \"solved orientation\" to \"randomized orientation\"\n",
    "# . each move will generate a board for training with move\n",
    "# . that move is the move that brings the border from previous \"less randomized\" orientation to the \"more randomized\" orientation\n",
    "random_step_count = 20\n",
    "\n",
    "# show_values is a flag to show the board values as they are generated\n",
    "show_values = round_count <= 2\n",
    "\n",
    "# boards captures the \"input\" board orientations\n",
    "# .  0  1  2  3\n",
    "# .  4  5  6  7\n",
    "# .  8  9 10 11\n",
    "# . 12 13 14 15\n",
    "boards = np.empty((0, tile_count * tile_count), int)\n",
    "# moves captures the \"label\" moves -- 0: from left; 1: from right; 2: from top; 3: from bottom)\n",
    "moves = np.empty(0, int)\n",
    "\n",
    "for round in tqdm(range(round_count)):\n",
    "  board_manager = BoardManager(tile_count)\n",
    "  if show_values:\n",
    "    print(f\"[{round}] - ---\")\n",
    "    board_manager.show_board()\n",
    "  for _ in range(random_step_count):\n",
    "    move = board_manager.randomize_board_step()\n",
    "    if show_values:\n",
    "      print(f\"[{round}] - move: {move}\")\n",
    "      board_manager.show_board()\n",
    "    boards = np.append(boards, [board_manager.board_tiles], axis=0)\n",
    "    moves = np.append(moves, move)\n",
    "\n"
   ]
  },
  {
   "cell_type": "code",
   "execution_count": 3,
   "metadata": {},
   "outputs": [
    {
     "name": "stdout",
     "output_type": "stream",
     "text": [
      "* x_values shape: (200000, 17)\n",
      "* y_values shape: (200000, 4)\n"
     ]
    }
   ],
   "source": [
    "#\n",
    "# turn the boards and moves into training, validation, and test sets\n",
    "#\n",
    "\n",
    "x_values = boards.astype('float32') / (tile_count * tile_count)\n",
    "y_values = keras.utils.to_categorical(moves, 4)\n",
    "\n",
    "# if has \"last moves\", extend the x_values with the last moves, by sifting \"last move\" by 1; 0 means don't care \n",
    "if remember_last_move_count > 0:\n",
    "  last_moves = moves[:]\n",
    "  for i in range(remember_last_move_count):\n",
    "    from_moves = np.append(last_moves[1:], (i + 1) * [-1])               # -1 means don't care\n",
    "    if show_values:\n",
    "      print(f\"* from_moves: {last_moves} ==> {from_moves}\")\n",
    "    from_move_values = (1 + from_moves.astype('float32')) / (4 + 1)      # normalize; make sure non-negative\n",
    "    x_values = np.column_stack((x_values, from_move_values))\n",
    "    last_moves = last_moves[1:]\n",
    "\n",
    "print(f\"* x_values shape: {x_values.shape}\")\n",
    "if show_values:\n",
    "  print(f\"* x_values:\")\n",
    "  print(textwrap.indent(str(x_values), \"    \"))\n",
    "\n",
    "print(f\"* y_values shape: {y_values.shape}\")\n",
    "if show_values:\n",
    "  print(f\"* y_values:\")\n",
    "  print(textwrap.indent(str(y_values), \"    \"))\n",
    "\n",
    "# randomize the order of the INPUT-OUTPUT pairs\n",
    "indices = np.random.permutation(x_values.shape[0])\n",
    "x_values = x_values[indices]\n",
    "y_values = y_values[indices]\n"
   ]
  },
  {
   "cell_type": "code",
   "execution_count": 4,
   "metadata": {},
   "outputs": [
    {
     "name": "stdout",
     "output_type": "stream",
     "text": [
      "* x_train shape: (120000, 17)\n",
      "* x_validate shape: (40000, 17)\n",
      "* x_test shape: (40000, 17)\n",
      "* y_train shape: (120000, 4)\n",
      "* y_validate shape: (40000, 4)\n",
      "* y_text shape: (40000, 4)\n"
     ]
    }
   ],
   "source": [
    "#\n",
    "# turn the INPUT/OUTPUT into training, validation, and test sets\n",
    "#\n",
    "\n",
    "total_sample_count = round_count * random_step_count\n",
    "\n",
    "TRAIN_SPLIT =  int(0.6 * total_sample_count)\n",
    "TEST_SPLIT = int(0.2 * total_sample_count + TRAIN_SPLIT)\n",
    "\n",
    "x_train, x_validate, x_test = np.split(x_values, [TRAIN_SPLIT, TEST_SPLIT])\n",
    "y_train, y_validate, y_test = np.split(y_values, [TRAIN_SPLIT, TEST_SPLIT])\n",
    "\n",
    "print(f\"* x_train shape: {x_train.shape}\")\n",
    "print(f\"* x_validate shape: {x_validate.shape}\")\n",
    "print(f\"* x_test shape: {x_test.shape}\")\n",
    "\n",
    "print(f\"* y_train shape: {y_train.shape}\")\n",
    "print(f\"* y_validate shape: {y_validate.shape}\")\n",
    "print(f\"* y_text shape: {y_test.shape}\")"
   ]
  },
  {
   "cell_type": "code",
   "execution_count": 5,
   "metadata": {},
   "outputs": [
    {
     "name": "stderr",
     "output_type": "stream",
     "text": [
      "c:\\Users\\trevorlee\\Documents\\MyProjects\\Git\\ESP32SlidingPuzzle\\.venv\\lib\\site-packages\\keras\\src\\layers\\core\\dense.py:87: UserWarning: Do not pass an `input_shape`/`input_dim` argument to a layer. When using Sequential models, prefer using an `Input(shape)` object as the first layer in the model instead.\n",
      "  super().__init__(activity_regularizer=activity_regularizer, **kwargs)\n"
     ]
    },
    {
     "data": {
      "text/html": [
       "<pre style=\"white-space:pre;overflow-x:auto;line-height:normal;font-family:Menlo,'DejaVu Sans Mono',consolas,'Courier New',monospace\"><span style=\"font-weight: bold\">Model: \"sequential\"</span>\n",
       "</pre>\n"
      ],
      "text/plain": [
       "\u001b[1mModel: \"sequential\"\u001b[0m\n"
      ]
     },
     "metadata": {},
     "output_type": "display_data"
    },
    {
     "data": {
      "text/html": [
       "<pre style=\"white-space:pre;overflow-x:auto;line-height:normal;font-family:Menlo,'DejaVu Sans Mono',consolas,'Courier New',monospace\">┏━━━━━━━━━━━━━━━━━━━━━━━━━━━━━━━━━┳━━━━━━━━━━━━━━━━━━━━━━━━┳━━━━━━━━━━━━━━━┓\n",
       "┃<span style=\"font-weight: bold\"> Layer (type)                    </span>┃<span style=\"font-weight: bold\"> Output Shape           </span>┃<span style=\"font-weight: bold\">       Param # </span>┃\n",
       "┡━━━━━━━━━━━━━━━━━━━━━━━━━━━━━━━━━╇━━━━━━━━━━━━━━━━━━━━━━━━╇━━━━━━━━━━━━━━━┩\n",
       "│ dense (<span style=\"color: #0087ff; text-decoration-color: #0087ff\">Dense</span>)                   │ (<span style=\"color: #00d7ff; text-decoration-color: #00d7ff\">None</span>, <span style=\"color: #00af00; text-decoration-color: #00af00\">256</span>)            │         <span style=\"color: #00af00; text-decoration-color: #00af00\">4,608</span> │\n",
       "├─────────────────────────────────┼────────────────────────┼───────────────┤\n",
       "│ dropout (<span style=\"color: #0087ff; text-decoration-color: #0087ff\">Dropout</span>)               │ (<span style=\"color: #00d7ff; text-decoration-color: #00d7ff\">None</span>, <span style=\"color: #00af00; text-decoration-color: #00af00\">256</span>)            │             <span style=\"color: #00af00; text-decoration-color: #00af00\">0</span> │\n",
       "├─────────────────────────────────┼────────────────────────┼───────────────┤\n",
       "│ dense_1 (<span style=\"color: #0087ff; text-decoration-color: #0087ff\">Dense</span>)                 │ (<span style=\"color: #00d7ff; text-decoration-color: #00d7ff\">None</span>, <span style=\"color: #00af00; text-decoration-color: #00af00\">256</span>)            │        <span style=\"color: #00af00; text-decoration-color: #00af00\">65,792</span> │\n",
       "├─────────────────────────────────┼────────────────────────┼───────────────┤\n",
       "│ dense_2 (<span style=\"color: #0087ff; text-decoration-color: #0087ff\">Dense</span>)                 │ (<span style=\"color: #00d7ff; text-decoration-color: #00d7ff\">None</span>, <span style=\"color: #00af00; text-decoration-color: #00af00\">4</span>)              │         <span style=\"color: #00af00; text-decoration-color: #00af00\">1,028</span> │\n",
       "└─────────────────────────────────┴────────────────────────┴───────────────┘\n",
       "</pre>\n"
      ],
      "text/plain": [
       "┏━━━━━━━━━━━━━━━━━━━━━━━━━━━━━━━━━┳━━━━━━━━━━━━━━━━━━━━━━━━┳━━━━━━━━━━━━━━━┓\n",
       "┃\u001b[1m \u001b[0m\u001b[1mLayer (type)                   \u001b[0m\u001b[1m \u001b[0m┃\u001b[1m \u001b[0m\u001b[1mOutput Shape          \u001b[0m\u001b[1m \u001b[0m┃\u001b[1m \u001b[0m\u001b[1m      Param #\u001b[0m\u001b[1m \u001b[0m┃\n",
       "┡━━━━━━━━━━━━━━━━━━━━━━━━━━━━━━━━━╇━━━━━━━━━━━━━━━━━━━━━━━━╇━━━━━━━━━━━━━━━┩\n",
       "│ dense (\u001b[38;5;33mDense\u001b[0m)                   │ (\u001b[38;5;45mNone\u001b[0m, \u001b[38;5;34m256\u001b[0m)            │         \u001b[38;5;34m4,608\u001b[0m │\n",
       "├─────────────────────────────────┼────────────────────────┼───────────────┤\n",
       "│ dropout (\u001b[38;5;33mDropout\u001b[0m)               │ (\u001b[38;5;45mNone\u001b[0m, \u001b[38;5;34m256\u001b[0m)            │             \u001b[38;5;34m0\u001b[0m │\n",
       "├─────────────────────────────────┼────────────────────────┼───────────────┤\n",
       "│ dense_1 (\u001b[38;5;33mDense\u001b[0m)                 │ (\u001b[38;5;45mNone\u001b[0m, \u001b[38;5;34m256\u001b[0m)            │        \u001b[38;5;34m65,792\u001b[0m │\n",
       "├─────────────────────────────────┼────────────────────────┼───────────────┤\n",
       "│ dense_2 (\u001b[38;5;33mDense\u001b[0m)                 │ (\u001b[38;5;45mNone\u001b[0m, \u001b[38;5;34m4\u001b[0m)              │         \u001b[38;5;34m1,028\u001b[0m │\n",
       "└─────────────────────────────────┴────────────────────────┴───────────────┘\n"
      ]
     },
     "metadata": {},
     "output_type": "display_data"
    },
    {
     "data": {
      "text/html": [
       "<pre style=\"white-space:pre;overflow-x:auto;line-height:normal;font-family:Menlo,'DejaVu Sans Mono',consolas,'Courier New',monospace\"><span style=\"font-weight: bold\"> Total params: </span><span style=\"color: #00af00; text-decoration-color: #00af00\">71,428</span> (279.02 KB)\n",
       "</pre>\n"
      ],
      "text/plain": [
       "\u001b[1m Total params: \u001b[0m\u001b[38;5;34m71,428\u001b[0m (279.02 KB)\n"
      ]
     },
     "metadata": {},
     "output_type": "display_data"
    },
    {
     "data": {
      "text/html": [
       "<pre style=\"white-space:pre;overflow-x:auto;line-height:normal;font-family:Menlo,'DejaVu Sans Mono',consolas,'Courier New',monospace\"><span style=\"font-weight: bold\"> Trainable params: </span><span style=\"color: #00af00; text-decoration-color: #00af00\">71,428</span> (279.02 KB)\n",
       "</pre>\n"
      ],
      "text/plain": [
       "\u001b[1m Trainable params: \u001b[0m\u001b[38;5;34m71,428\u001b[0m (279.02 KB)\n"
      ]
     },
     "metadata": {},
     "output_type": "display_data"
    },
    {
     "data": {
      "text/html": [
       "<pre style=\"white-space:pre;overflow-x:auto;line-height:normal;font-family:Menlo,'DejaVu Sans Mono',consolas,'Courier New',monospace\"><span style=\"font-weight: bold\"> Non-trainable params: </span><span style=\"color: #00af00; text-decoration-color: #00af00\">0</span> (0.00 B)\n",
       "</pre>\n"
      ],
      "text/plain": [
       "\u001b[1m Non-trainable params: \u001b[0m\u001b[38;5;34m0\u001b[0m (0.00 B)\n"
      ]
     },
     "metadata": {},
     "output_type": "display_data"
    }
   ],
   "source": [
    "#\n",
    "# build a DL model to train on the boards and moves\n",
    "#\n",
    "\n",
    "batch_size = 128\n",
    "epochs = 100\n",
    "\n",
    "model = keras.models.Sequential()\n",
    "model.add(keras.layers.Dense(256, activation='relu', input_shape=(tile_count * tile_count + remember_last_move_count,)))\n",
    "model.add(keras.layers.Dropout(0.3))\n",
    "model.add(keras.layers.Dense(256, activation='relu'))\n",
    "model.add(keras.layers.Dense(4, activation='softmax'))\n",
    "\n",
    "model.summary()"
   ]
  },
  {
   "cell_type": "code",
   "execution_count": 6,
   "metadata": {},
   "outputs": [
    {
     "name": "stdout",
     "output_type": "stream",
     "text": [
      "Epoch 1/100\n",
      "\u001b[1m938/938\u001b[0m \u001b[32m━━━━━━━━━━━━━━━━━━━━\u001b[0m\u001b[37m\u001b[0m \u001b[1m3s\u001b[0m 3ms/step - accuracy: 0.5037 - loss: 1.1332 - val_accuracy: 0.7244 - val_loss: 0.7169\n",
      "Epoch 2/100\n",
      "\u001b[1m938/938\u001b[0m \u001b[32m━━━━━━━━━━━━━━━━━━━━\u001b[0m\u001b[37m\u001b[0m \u001b[1m2s\u001b[0m 2ms/step - accuracy: 0.7094 - loss: 0.7407 - val_accuracy: 0.7769 - val_loss: 0.5882\n",
      "Epoch 3/100\n",
      "\u001b[1m938/938\u001b[0m \u001b[32m━━━━━━━━━━━━━━━━━━━━\u001b[0m\u001b[37m\u001b[0m \u001b[1m2s\u001b[0m 2ms/step - accuracy: 0.7634 - loss: 0.6135 - val_accuracy: 0.8170 - val_loss: 0.4998\n",
      "Epoch 4/100\n",
      "\u001b[1m938/938\u001b[0m \u001b[32m━━━━━━━━━━━━━━━━━━━━\u001b[0m\u001b[37m\u001b[0m \u001b[1m2s\u001b[0m 2ms/step - accuracy: 0.7901 - loss: 0.5414 - val_accuracy: 0.8239 - val_loss: 0.4698\n",
      "Epoch 5/100\n",
      "\u001b[1m938/938\u001b[0m \u001b[32m━━━━━━━━━━━━━━━━━━━━\u001b[0m\u001b[37m\u001b[0m \u001b[1m2s\u001b[0m 2ms/step - accuracy: 0.8091 - loss: 0.4988 - val_accuracy: 0.8476 - val_loss: 0.4104\n",
      "Epoch 6/100\n",
      "\u001b[1m938/938\u001b[0m \u001b[32m━━━━━━━━━━━━━━━━━━━━\u001b[0m\u001b[37m\u001b[0m \u001b[1m2s\u001b[0m 2ms/step - accuracy: 0.8265 - loss: 0.4588 - val_accuracy: 0.8573 - val_loss: 0.3794\n",
      "Epoch 7/100\n",
      "\u001b[1m938/938\u001b[0m \u001b[32m━━━━━━━━━━━━━━━━━━━━\u001b[0m\u001b[37m\u001b[0m \u001b[1m2s\u001b[0m 2ms/step - accuracy: 0.8371 - loss: 0.4325 - val_accuracy: 0.8646 - val_loss: 0.3656\n",
      "Epoch 8/100\n",
      "\u001b[1m938/938\u001b[0m \u001b[32m━━━━━━━━━━━━━━━━━━━━\u001b[0m\u001b[37m\u001b[0m \u001b[1m2s\u001b[0m 3ms/step - accuracy: 0.8464 - loss: 0.4096 - val_accuracy: 0.8727 - val_loss: 0.3448\n",
      "Epoch 9/100\n",
      "\u001b[1m938/938\u001b[0m \u001b[32m━━━━━━━━━━━━━━━━━━━━\u001b[0m\u001b[37m\u001b[0m \u001b[1m2s\u001b[0m 3ms/step - accuracy: 0.8509 - loss: 0.3940 - val_accuracy: 0.8788 - val_loss: 0.3313\n",
      "Epoch 10/100\n",
      "\u001b[1m938/938\u001b[0m \u001b[32m━━━━━━━━━━━━━━━━━━━━\u001b[0m\u001b[37m\u001b[0m \u001b[1m2s\u001b[0m 3ms/step - accuracy: 0.8573 - loss: 0.3824 - val_accuracy: 0.8732 - val_loss: 0.3356\n",
      "Epoch 11/100\n",
      "\u001b[1m938/938\u001b[0m \u001b[32m━━━━━━━━━━━━━━━━━━━━\u001b[0m\u001b[37m\u001b[0m \u001b[1m2s\u001b[0m 2ms/step - accuracy: 0.8603 - loss: 0.3748 - val_accuracy: 0.8805 - val_loss: 0.3272\n",
      "Epoch 12/100\n",
      "\u001b[1m938/938\u001b[0m \u001b[32m━━━━━━━━━━━━━━━━━━━━\u001b[0m\u001b[37m\u001b[0m \u001b[1m2s\u001b[0m 2ms/step - accuracy: 0.8653 - loss: 0.3642 - val_accuracy: 0.8853 - val_loss: 0.3170\n",
      "Epoch 13/100\n",
      "\u001b[1m938/938\u001b[0m \u001b[32m━━━━━━━━━━━━━━━━━━━━\u001b[0m\u001b[37m\u001b[0m \u001b[1m3s\u001b[0m 3ms/step - accuracy: 0.8700 - loss: 0.3527 - val_accuracy: 0.8870 - val_loss: 0.3059\n",
      "Epoch 14/100\n",
      "\u001b[1m938/938\u001b[0m \u001b[32m━━━━━━━━━━━━━━━━━━━━\u001b[0m\u001b[37m\u001b[0m \u001b[1m2s\u001b[0m 2ms/step - accuracy: 0.8675 - loss: 0.3514 - val_accuracy: 0.8874 - val_loss: 0.3047\n",
      "Epoch 15/100\n",
      "\u001b[1m938/938\u001b[0m \u001b[32m━━━━━━━━━━━━━━━━━━━━\u001b[0m\u001b[37m\u001b[0m \u001b[1m3s\u001b[0m 3ms/step - accuracy: 0.8709 - loss: 0.3467 - val_accuracy: 0.8875 - val_loss: 0.3047\n",
      "Epoch 16/100\n",
      "\u001b[1m938/938\u001b[0m \u001b[32m━━━━━━━━━━━━━━━━━━━━\u001b[0m\u001b[37m\u001b[0m \u001b[1m2s\u001b[0m 3ms/step - accuracy: 0.8730 - loss: 0.3430 - val_accuracy: 0.8872 - val_loss: 0.3058\n",
      "Epoch 17/100\n",
      "\u001b[1m938/938\u001b[0m \u001b[32m━━━━━━━━━━━━━━━━━━━━\u001b[0m\u001b[37m\u001b[0m \u001b[1m2s\u001b[0m 3ms/step - accuracy: 0.8749 - loss: 0.3385 - val_accuracy: 0.8927 - val_loss: 0.2945\n",
      "Epoch 18/100\n",
      "\u001b[1m938/938\u001b[0m \u001b[32m━━━━━━━━━━━━━━━━━━━━\u001b[0m\u001b[37m\u001b[0m \u001b[1m2s\u001b[0m 2ms/step - accuracy: 0.8762 - loss: 0.3316 - val_accuracy: 0.8909 - val_loss: 0.2985\n",
      "Epoch 19/100\n",
      "\u001b[1m938/938\u001b[0m \u001b[32m━━━━━━━━━━━━━━━━━━━━\u001b[0m\u001b[37m\u001b[0m \u001b[1m2s\u001b[0m 3ms/step - accuracy: 0.8784 - loss: 0.3312 - val_accuracy: 0.8860 - val_loss: 0.3192\n",
      "Epoch 20/100\n",
      "\u001b[1m938/938\u001b[0m \u001b[32m━━━━━━━━━━━━━━━━━━━━\u001b[0m\u001b[37m\u001b[0m \u001b[1m2s\u001b[0m 2ms/step - accuracy: 0.8782 - loss: 0.3287 - val_accuracy: 0.8946 - val_loss: 0.2861\n",
      "Epoch 21/100\n",
      "\u001b[1m938/938\u001b[0m \u001b[32m━━━━━━━━━━━━━━━━━━━━\u001b[0m\u001b[37m\u001b[0m \u001b[1m2s\u001b[0m 2ms/step - accuracy: 0.8818 - loss: 0.3227 - val_accuracy: 0.8930 - val_loss: 0.2871\n",
      "Epoch 22/100\n",
      "\u001b[1m938/938\u001b[0m \u001b[32m━━━━━━━━━━━━━━━━━━━━\u001b[0m\u001b[37m\u001b[0m \u001b[1m2s\u001b[0m 2ms/step - accuracy: 0.8796 - loss: 0.3266 - val_accuracy: 0.8961 - val_loss: 0.2822\n",
      "Epoch 23/100\n",
      "\u001b[1m938/938\u001b[0m \u001b[32m━━━━━━━━━━━━━━━━━━━━\u001b[0m\u001b[37m\u001b[0m \u001b[1m2s\u001b[0m 2ms/step - accuracy: 0.8828 - loss: 0.3189 - val_accuracy: 0.8928 - val_loss: 0.2921\n",
      "Epoch 24/100\n",
      "\u001b[1m938/938\u001b[0m \u001b[32m━━━━━━━━━━━━━━━━━━━━\u001b[0m\u001b[37m\u001b[0m \u001b[1m3s\u001b[0m 3ms/step - accuracy: 0.8836 - loss: 0.3161 - val_accuracy: 0.8956 - val_loss: 0.2815\n",
      "Epoch 25/100\n",
      "\u001b[1m938/938\u001b[0m \u001b[32m━━━━━━━━━━━━━━━━━━━━\u001b[0m\u001b[37m\u001b[0m \u001b[1m2s\u001b[0m 2ms/step - accuracy: 0.8840 - loss: 0.3176 - val_accuracy: 0.8950 - val_loss: 0.2920\n",
      "Epoch 26/100\n",
      "\u001b[1m938/938\u001b[0m \u001b[32m━━━━━━━━━━━━━━━━━━━━\u001b[0m\u001b[37m\u001b[0m \u001b[1m2s\u001b[0m 2ms/step - accuracy: 0.8863 - loss: 0.3134 - val_accuracy: 0.8962 - val_loss: 0.2823\n",
      "Epoch 27/100\n",
      "\u001b[1m938/938\u001b[0m \u001b[32m━━━━━━━━━━━━━━━━━━━━\u001b[0m\u001b[37m\u001b[0m \u001b[1m2s\u001b[0m 2ms/step - accuracy: 0.8856 - loss: 0.3134 - val_accuracy: 0.8976 - val_loss: 0.2804\n",
      "Epoch 28/100\n",
      "\u001b[1m938/938\u001b[0m \u001b[32m━━━━━━━━━━━━━━━━━━━━\u001b[0m\u001b[37m\u001b[0m \u001b[1m2s\u001b[0m 2ms/step - accuracy: 0.8850 - loss: 0.3102 - val_accuracy: 0.8964 - val_loss: 0.2815\n",
      "Epoch 29/100\n",
      "\u001b[1m938/938\u001b[0m \u001b[32m━━━━━━━━━━━━━━━━━━━━\u001b[0m\u001b[37m\u001b[0m \u001b[1m2s\u001b[0m 2ms/step - accuracy: 0.8855 - loss: 0.3149 - val_accuracy: 0.8994 - val_loss: 0.2754\n",
      "Epoch 30/100\n",
      "\u001b[1m938/938\u001b[0m \u001b[32m━━━━━━━━━━━━━━━━━━━━\u001b[0m\u001b[37m\u001b[0m \u001b[1m2s\u001b[0m 2ms/step - accuracy: 0.8877 - loss: 0.3098 - val_accuracy: 0.9001 - val_loss: 0.2762\n",
      "Epoch 31/100\n",
      "\u001b[1m938/938\u001b[0m \u001b[32m━━━━━━━━━━━━━━━━━━━━\u001b[0m\u001b[37m\u001b[0m \u001b[1m2s\u001b[0m 3ms/step - accuracy: 0.8862 - loss: 0.3112 - val_accuracy: 0.8999 - val_loss: 0.2789\n",
      "Epoch 32/100\n",
      "\u001b[1m938/938\u001b[0m \u001b[32m━━━━━━━━━━━━━━━━━━━━\u001b[0m\u001b[37m\u001b[0m \u001b[1m3s\u001b[0m 3ms/step - accuracy: 0.8884 - loss: 0.3034 - val_accuracy: 0.8982 - val_loss: 0.2794\n",
      "Epoch 33/100\n",
      "\u001b[1m938/938\u001b[0m \u001b[32m━━━━━━━━━━━━━━━━━━━━\u001b[0m\u001b[37m\u001b[0m \u001b[1m2s\u001b[0m 2ms/step - accuracy: 0.8893 - loss: 0.3070 - val_accuracy: 0.8985 - val_loss: 0.2786\n",
      "Epoch 34/100\n",
      "\u001b[1m938/938\u001b[0m \u001b[32m━━━━━━━━━━━━━━━━━━━━\u001b[0m\u001b[37m\u001b[0m \u001b[1m2s\u001b[0m 2ms/step - accuracy: 0.8875 - loss: 0.3088 - val_accuracy: 0.8981 - val_loss: 0.2783\n",
      "Epoch 35/100\n",
      "\u001b[1m938/938\u001b[0m \u001b[32m━━━━━━━━━━━━━━━━━━━━\u001b[0m\u001b[37m\u001b[0m \u001b[1m2s\u001b[0m 2ms/step - accuracy: 0.8898 - loss: 0.3012 - val_accuracy: 0.8992 - val_loss: 0.2745\n",
      "Epoch 36/100\n",
      "\u001b[1m938/938\u001b[0m \u001b[32m━━━━━━━━━━━━━━━━━━━━\u001b[0m\u001b[37m\u001b[0m \u001b[1m2s\u001b[0m 2ms/step - accuracy: 0.8906 - loss: 0.3004 - val_accuracy: 0.8993 - val_loss: 0.2743\n",
      "Epoch 37/100\n",
      "\u001b[1m938/938\u001b[0m \u001b[32m━━━━━━━━━━━━━━━━━━━━\u001b[0m\u001b[37m\u001b[0m \u001b[1m2s\u001b[0m 2ms/step - accuracy: 0.8885 - loss: 0.3047 - val_accuracy: 0.9018 - val_loss: 0.2697\n",
      "Epoch 38/100\n",
      "\u001b[1m938/938\u001b[0m \u001b[32m━━━━━━━━━━━━━━━━━━━━\u001b[0m\u001b[37m\u001b[0m \u001b[1m2s\u001b[0m 2ms/step - accuracy: 0.8893 - loss: 0.3013 - val_accuracy: 0.9000 - val_loss: 0.2752\n",
      "Epoch 39/100\n",
      "\u001b[1m938/938\u001b[0m \u001b[32m━━━━━━━━━━━━━━━━━━━━\u001b[0m\u001b[37m\u001b[0m \u001b[1m2s\u001b[0m 2ms/step - accuracy: 0.8897 - loss: 0.3013 - val_accuracy: 0.8989 - val_loss: 0.2792\n",
      "Epoch 40/100\n",
      "\u001b[1m938/938\u001b[0m \u001b[32m━━━━━━━━━━━━━━━━━━━━\u001b[0m\u001b[37m\u001b[0m \u001b[1m2s\u001b[0m 2ms/step - accuracy: 0.8907 - loss: 0.2993 - val_accuracy: 0.9006 - val_loss: 0.2741\n",
      "Epoch 41/100\n",
      "\u001b[1m938/938\u001b[0m \u001b[32m━━━━━━━━━━━━━━━━━━━━\u001b[0m\u001b[37m\u001b[0m \u001b[1m2s\u001b[0m 2ms/step - accuracy: 0.8908 - loss: 0.2982 - val_accuracy: 0.9027 - val_loss: 0.2680\n",
      "Epoch 42/100\n",
      "\u001b[1m938/938\u001b[0m \u001b[32m━━━━━━━━━━━━━━━━━━━━\u001b[0m\u001b[37m\u001b[0m \u001b[1m2s\u001b[0m 2ms/step - accuracy: 0.8932 - loss: 0.2945 - val_accuracy: 0.9013 - val_loss: 0.2739\n",
      "Epoch 43/100\n",
      "\u001b[1m938/938\u001b[0m \u001b[32m━━━━━━━━━━━━━━━━━━━━\u001b[0m\u001b[37m\u001b[0m \u001b[1m2s\u001b[0m 2ms/step - accuracy: 0.8899 - loss: 0.2988 - val_accuracy: 0.9018 - val_loss: 0.2676\n",
      "Epoch 44/100\n",
      "\u001b[1m938/938\u001b[0m \u001b[32m━━━━━━━━━━━━━━━━━━━━\u001b[0m\u001b[37m\u001b[0m \u001b[1m2s\u001b[0m 2ms/step - accuracy: 0.8921 - loss: 0.2947 - val_accuracy: 0.9000 - val_loss: 0.2715\n",
      "Epoch 45/100\n",
      "\u001b[1m938/938\u001b[0m \u001b[32m━━━━━━━━━━━━━━━━━━━━\u001b[0m\u001b[37m\u001b[0m \u001b[1m2s\u001b[0m 2ms/step - accuracy: 0.8918 - loss: 0.2939 - val_accuracy: 0.9020 - val_loss: 0.2733\n",
      "Epoch 46/100\n",
      "\u001b[1m938/938\u001b[0m \u001b[32m━━━━━━━━━━━━━━━━━━━━\u001b[0m\u001b[37m\u001b[0m \u001b[1m2s\u001b[0m 2ms/step - accuracy: 0.8947 - loss: 0.2924 - val_accuracy: 0.8989 - val_loss: 0.2791\n",
      "Epoch 47/100\n",
      "\u001b[1m938/938\u001b[0m \u001b[32m━━━━━━━━━━━━━━━━━━━━\u001b[0m\u001b[37m\u001b[0m \u001b[1m2s\u001b[0m 2ms/step - accuracy: 0.8927 - loss: 0.2943 - val_accuracy: 0.9017 - val_loss: 0.2708\n",
      "Epoch 48/100\n",
      "\u001b[1m938/938\u001b[0m \u001b[32m━━━━━━━━━━━━━━━━━━━━\u001b[0m\u001b[37m\u001b[0m \u001b[1m2s\u001b[0m 2ms/step - accuracy: 0.8935 - loss: 0.2925 - val_accuracy: 0.9013 - val_loss: 0.2692\n",
      "Epoch 49/100\n",
      "\u001b[1m938/938\u001b[0m \u001b[32m━━━━━━━━━━━━━━━━━━━━\u001b[0m\u001b[37m\u001b[0m \u001b[1m2s\u001b[0m 2ms/step - accuracy: 0.8926 - loss: 0.2919 - val_accuracy: 0.9028 - val_loss: 0.2695\n",
      "Epoch 50/100\n",
      "\u001b[1m938/938\u001b[0m \u001b[32m━━━━━━━━━━━━━━━━━━━━\u001b[0m\u001b[37m\u001b[0m \u001b[1m3s\u001b[0m 3ms/step - accuracy: 0.8938 - loss: 0.2926 - val_accuracy: 0.9039 - val_loss: 0.2661\n",
      "Epoch 51/100\n",
      "\u001b[1m938/938\u001b[0m \u001b[32m━━━━━━━━━━━━━━━━━━━━\u001b[0m\u001b[37m\u001b[0m \u001b[1m3s\u001b[0m 3ms/step - accuracy: 0.8935 - loss: 0.2936 - val_accuracy: 0.9020 - val_loss: 0.2689\n",
      "Epoch 52/100\n",
      "\u001b[1m938/938\u001b[0m \u001b[32m━━━━━━━━━━━━━━━━━━━━\u001b[0m\u001b[37m\u001b[0m \u001b[1m3s\u001b[0m 3ms/step - accuracy: 0.8939 - loss: 0.2921 - val_accuracy: 0.9012 - val_loss: 0.2717\n",
      "Epoch 53/100\n",
      "\u001b[1m938/938\u001b[0m \u001b[32m━━━━━━━━━━━━━━━━━━━━\u001b[0m\u001b[37m\u001b[0m \u001b[1m2s\u001b[0m 3ms/step - accuracy: 0.8929 - loss: 0.2926 - val_accuracy: 0.9024 - val_loss: 0.2702\n",
      "Epoch 54/100\n",
      "\u001b[1m938/938\u001b[0m \u001b[32m━━━━━━━━━━━━━━━━━━━━\u001b[0m\u001b[37m\u001b[0m \u001b[1m2s\u001b[0m 2ms/step - accuracy: 0.8939 - loss: 0.2915 - val_accuracy: 0.9049 - val_loss: 0.2646\n",
      "Epoch 55/100\n",
      "\u001b[1m938/938\u001b[0m \u001b[32m━━━━━━━━━━━━━━━━━━━━\u001b[0m\u001b[37m\u001b[0m \u001b[1m2s\u001b[0m 3ms/step - accuracy: 0.8946 - loss: 0.2891 - val_accuracy: 0.9015 - val_loss: 0.2719\n",
      "Epoch 56/100\n",
      "\u001b[1m938/938\u001b[0m \u001b[32m━━━━━━━━━━━━━━━━━━━━\u001b[0m\u001b[37m\u001b[0m \u001b[1m2s\u001b[0m 3ms/step - accuracy: 0.8972 - loss: 0.2855 - val_accuracy: 0.9002 - val_loss: 0.2691\n",
      "Epoch 57/100\n",
      "\u001b[1m938/938\u001b[0m \u001b[32m━━━━━━━━━━━━━━━━━━━━\u001b[0m\u001b[37m\u001b[0m \u001b[1m2s\u001b[0m 3ms/step - accuracy: 0.8943 - loss: 0.2894 - val_accuracy: 0.9018 - val_loss: 0.2714\n",
      "Epoch 58/100\n",
      "\u001b[1m938/938\u001b[0m \u001b[32m━━━━━━━━━━━━━━━━━━━━\u001b[0m\u001b[37m\u001b[0m \u001b[1m2s\u001b[0m 3ms/step - accuracy: 0.8934 - loss: 0.2914 - val_accuracy: 0.9023 - val_loss: 0.2682\n",
      "Epoch 59/100\n",
      "\u001b[1m938/938\u001b[0m \u001b[32m━━━━━━━━━━━━━━━━━━━━\u001b[0m\u001b[37m\u001b[0m \u001b[1m2s\u001b[0m 3ms/step - accuracy: 0.8945 - loss: 0.2906 - val_accuracy: 0.9045 - val_loss: 0.2630\n",
      "Epoch 60/100\n",
      "\u001b[1m938/938\u001b[0m \u001b[32m━━━━━━━━━━━━━━━━━━━━\u001b[0m\u001b[37m\u001b[0m \u001b[1m2s\u001b[0m 3ms/step - accuracy: 0.8966 - loss: 0.2880 - val_accuracy: 0.9035 - val_loss: 0.2650\n",
      "Epoch 61/100\n",
      "\u001b[1m938/938\u001b[0m \u001b[32m━━━━━━━━━━━━━━━━━━━━\u001b[0m\u001b[37m\u001b[0m \u001b[1m2s\u001b[0m 2ms/step - accuracy: 0.8945 - loss: 0.2895 - val_accuracy: 0.9014 - val_loss: 0.2680\n",
      "Epoch 62/100\n",
      "\u001b[1m938/938\u001b[0m \u001b[32m━━━━━━━━━━━━━━━━━━━━\u001b[0m\u001b[37m\u001b[0m \u001b[1m2s\u001b[0m 3ms/step - accuracy: 0.8953 - loss: 0.2859 - val_accuracy: 0.9045 - val_loss: 0.2635\n",
      "Epoch 63/100\n",
      "\u001b[1m938/938\u001b[0m \u001b[32m━━━━━━━━━━━━━━━━━━━━\u001b[0m\u001b[37m\u001b[0m \u001b[1m2s\u001b[0m 3ms/step - accuracy: 0.8962 - loss: 0.2849 - val_accuracy: 0.9029 - val_loss: 0.2662\n",
      "Epoch 64/100\n",
      "\u001b[1m938/938\u001b[0m \u001b[32m━━━━━━━━━━━━━━━━━━━━\u001b[0m\u001b[37m\u001b[0m \u001b[1m3s\u001b[0m 3ms/step - accuracy: 0.8965 - loss: 0.2868 - val_accuracy: 0.9030 - val_loss: 0.2679\n",
      "Epoch 65/100\n",
      "\u001b[1m938/938\u001b[0m \u001b[32m━━━━━━━━━━━━━━━━━━━━\u001b[0m\u001b[37m\u001b[0m \u001b[1m2s\u001b[0m 3ms/step - accuracy: 0.8980 - loss: 0.2823 - val_accuracy: 0.9026 - val_loss: 0.2685\n",
      "Epoch 66/100\n",
      "\u001b[1m938/938\u001b[0m \u001b[32m━━━━━━━━━━━━━━━━━━━━\u001b[0m\u001b[37m\u001b[0m \u001b[1m2s\u001b[0m 3ms/step - accuracy: 0.8951 - loss: 0.2893 - val_accuracy: 0.9037 - val_loss: 0.2662\n",
      "Epoch 67/100\n",
      "\u001b[1m938/938\u001b[0m \u001b[32m━━━━━━━━━━━━━━━━━━━━\u001b[0m\u001b[37m\u001b[0m \u001b[1m2s\u001b[0m 3ms/step - accuracy: 0.8927 - loss: 0.2903 - val_accuracy: 0.8999 - val_loss: 0.2737\n",
      "Epoch 68/100\n",
      "\u001b[1m938/938\u001b[0m \u001b[32m━━━━━━━━━━━━━━━━━━━━\u001b[0m\u001b[37m\u001b[0m \u001b[1m2s\u001b[0m 3ms/step - accuracy: 0.8970 - loss: 0.2840 - val_accuracy: 0.9036 - val_loss: 0.2622\n",
      "Epoch 69/100\n",
      "\u001b[1m938/938\u001b[0m \u001b[32m━━━━━━━━━━━━━━━━━━━━\u001b[0m\u001b[37m\u001b[0m \u001b[1m3s\u001b[0m 3ms/step - accuracy: 0.8975 - loss: 0.2806 - val_accuracy: 0.9028 - val_loss: 0.2665\n",
      "Epoch 70/100\n",
      "\u001b[1m938/938\u001b[0m \u001b[32m━━━━━━━━━━━━━━━━━━━━\u001b[0m\u001b[37m\u001b[0m \u001b[1m2s\u001b[0m 3ms/step - accuracy: 0.8957 - loss: 0.2848 - val_accuracy: 0.9042 - val_loss: 0.2633\n",
      "Epoch 71/100\n",
      "\u001b[1m938/938\u001b[0m \u001b[32m━━━━━━━━━━━━━━━━━━━━\u001b[0m\u001b[37m\u001b[0m \u001b[1m2s\u001b[0m 3ms/step - accuracy: 0.8973 - loss: 0.2827 - val_accuracy: 0.9033 - val_loss: 0.2637\n",
      "Epoch 72/100\n",
      "\u001b[1m938/938\u001b[0m \u001b[32m━━━━━━━━━━━━━━━━━━━━\u001b[0m\u001b[37m\u001b[0m \u001b[1m2s\u001b[0m 3ms/step - accuracy: 0.8975 - loss: 0.2825 - val_accuracy: 0.9034 - val_loss: 0.2682\n",
      "Epoch 73/100\n",
      "\u001b[1m938/938\u001b[0m \u001b[32m━━━━━━━━━━━━━━━━━━━━\u001b[0m\u001b[37m\u001b[0m \u001b[1m2s\u001b[0m 3ms/step - accuracy: 0.8981 - loss: 0.2843 - val_accuracy: 0.9046 - val_loss: 0.2643\n",
      "Epoch 74/100\n",
      "\u001b[1m938/938\u001b[0m \u001b[32m━━━━━━━━━━━━━━━━━━━━\u001b[0m\u001b[37m\u001b[0m \u001b[1m2s\u001b[0m 3ms/step - accuracy: 0.8974 - loss: 0.2821 - val_accuracy: 0.9041 - val_loss: 0.2632\n",
      "Epoch 75/100\n",
      "\u001b[1m938/938\u001b[0m \u001b[32m━━━━━━━━━━━━━━━━━━━━\u001b[0m\u001b[37m\u001b[0m \u001b[1m2s\u001b[0m 3ms/step - accuracy: 0.8965 - loss: 0.2847 - val_accuracy: 0.9014 - val_loss: 0.2680\n",
      "Epoch 76/100\n",
      "\u001b[1m938/938\u001b[0m \u001b[32m━━━━━━━━━━━━━━━━━━━━\u001b[0m\u001b[37m\u001b[0m \u001b[1m3s\u001b[0m 3ms/step - accuracy: 0.8977 - loss: 0.2798 - val_accuracy: 0.9029 - val_loss: 0.2689\n",
      "Epoch 77/100\n",
      "\u001b[1m938/938\u001b[0m \u001b[32m━━━━━━━━━━━━━━━━━━━━\u001b[0m\u001b[37m\u001b[0m \u001b[1m2s\u001b[0m 3ms/step - accuracy: 0.8983 - loss: 0.2795 - val_accuracy: 0.9024 - val_loss: 0.2686\n",
      "Epoch 78/100\n",
      "\u001b[1m938/938\u001b[0m \u001b[32m━━━━━━━━━━━━━━━━━━━━\u001b[0m\u001b[37m\u001b[0m \u001b[1m2s\u001b[0m 3ms/step - accuracy: 0.8984 - loss: 0.2818 - val_accuracy: 0.9033 - val_loss: 0.2684\n",
      "Epoch 79/100\n",
      "\u001b[1m938/938\u001b[0m \u001b[32m━━━━━━━━━━━━━━━━━━━━\u001b[0m\u001b[37m\u001b[0m \u001b[1m2s\u001b[0m 3ms/step - accuracy: 0.8986 - loss: 0.2806 - val_accuracy: 0.9033 - val_loss: 0.2680\n",
      "Epoch 80/100\n",
      "\u001b[1m938/938\u001b[0m \u001b[32m━━━━━━━━━━━━━━━━━━━━\u001b[0m\u001b[37m\u001b[0m \u001b[1m2s\u001b[0m 3ms/step - accuracy: 0.8997 - loss: 0.2773 - val_accuracy: 0.9042 - val_loss: 0.2623\n",
      "Epoch 81/100\n",
      "\u001b[1m938/938\u001b[0m \u001b[32m━━━━━━━━━━━━━━━━━━━━\u001b[0m\u001b[37m\u001b[0m \u001b[1m2s\u001b[0m 3ms/step - accuracy: 0.8989 - loss: 0.2788 - val_accuracy: 0.9042 - val_loss: 0.2647\n",
      "Epoch 82/100\n",
      "\u001b[1m938/938\u001b[0m \u001b[32m━━━━━━━━━━━━━━━━━━━━\u001b[0m\u001b[37m\u001b[0m \u001b[1m2s\u001b[0m 3ms/step - accuracy: 0.8985 - loss: 0.2816 - val_accuracy: 0.9052 - val_loss: 0.2647\n",
      "Epoch 83/100\n",
      "\u001b[1m938/938\u001b[0m \u001b[32m━━━━━━━━━━━━━━━━━━━━\u001b[0m\u001b[37m\u001b[0m \u001b[1m2s\u001b[0m 3ms/step - accuracy: 0.8997 - loss: 0.2793 - val_accuracy: 0.9025 - val_loss: 0.2672\n",
      "Epoch 84/100\n",
      "\u001b[1m938/938\u001b[0m \u001b[32m━━━━━━━━━━━━━━━━━━━━\u001b[0m\u001b[37m\u001b[0m \u001b[1m2s\u001b[0m 3ms/step - accuracy: 0.8991 - loss: 0.2790 - val_accuracy: 0.9018 - val_loss: 0.2723\n",
      "Epoch 85/100\n",
      "\u001b[1m938/938\u001b[0m \u001b[32m━━━━━━━━━━━━━━━━━━━━\u001b[0m\u001b[37m\u001b[0m \u001b[1m2s\u001b[0m 3ms/step - accuracy: 0.9000 - loss: 0.2811 - val_accuracy: 0.9044 - val_loss: 0.2665\n",
      "Epoch 86/100\n",
      "\u001b[1m938/938\u001b[0m \u001b[32m━━━━━━━━━━━━━━━━━━━━\u001b[0m\u001b[37m\u001b[0m \u001b[1m2s\u001b[0m 3ms/step - accuracy: 0.8977 - loss: 0.2793 - val_accuracy: 0.9014 - val_loss: 0.2705\n",
      "Epoch 87/100\n",
      "\u001b[1m938/938\u001b[0m \u001b[32m━━━━━━━━━━━━━━━━━━━━\u001b[0m\u001b[37m\u001b[0m \u001b[1m2s\u001b[0m 3ms/step - accuracy: 0.8989 - loss: 0.2780 - val_accuracy: 0.9041 - val_loss: 0.2640\n",
      "Epoch 88/100\n",
      "\u001b[1m938/938\u001b[0m \u001b[32m━━━━━━━━━━━━━━━━━━━━\u001b[0m\u001b[37m\u001b[0m \u001b[1m2s\u001b[0m 3ms/step - accuracy: 0.8976 - loss: 0.2787 - val_accuracy: 0.9025 - val_loss: 0.2704\n",
      "Epoch 89/100\n",
      "\u001b[1m938/938\u001b[0m \u001b[32m━━━━━━━━━━━━━━━━━━━━\u001b[0m\u001b[37m\u001b[0m \u001b[1m3s\u001b[0m 3ms/step - accuracy: 0.8976 - loss: 0.2805 - val_accuracy: 0.9046 - val_loss: 0.2679\n",
      "Epoch 90/100\n",
      "\u001b[1m938/938\u001b[0m \u001b[32m━━━━━━━━━━━━━━━━━━━━\u001b[0m\u001b[37m\u001b[0m \u001b[1m2s\u001b[0m 3ms/step - accuracy: 0.9006 - loss: 0.2756 - val_accuracy: 0.9042 - val_loss: 0.2672\n",
      "Epoch 91/100\n",
      "\u001b[1m938/938\u001b[0m \u001b[32m━━━━━━━━━━━━━━━━━━━━\u001b[0m\u001b[37m\u001b[0m \u001b[1m3s\u001b[0m 3ms/step - accuracy: 0.8998 - loss: 0.2767 - val_accuracy: 0.9026 - val_loss: 0.2698\n",
      "Epoch 92/100\n",
      "\u001b[1m938/938\u001b[0m \u001b[32m━━━━━━━━━━━━━━━━━━━━\u001b[0m\u001b[37m\u001b[0m \u001b[1m2s\u001b[0m 3ms/step - accuracy: 0.8973 - loss: 0.2813 - val_accuracy: 0.9032 - val_loss: 0.2666\n",
      "Epoch 93/100\n",
      "\u001b[1m938/938\u001b[0m \u001b[32m━━━━━━━━━━━━━━━━━━━━\u001b[0m\u001b[37m\u001b[0m \u001b[1m2s\u001b[0m 3ms/step - accuracy: 0.8994 - loss: 0.2782 - val_accuracy: 0.9043 - val_loss: 0.2618\n",
      "Epoch 94/100\n",
      "\u001b[1m938/938\u001b[0m \u001b[32m━━━━━━━━━━━━━━━━━━━━\u001b[0m\u001b[37m\u001b[0m \u001b[1m3s\u001b[0m 3ms/step - accuracy: 0.8999 - loss: 0.2761 - val_accuracy: 0.9058 - val_loss: 0.2617\n",
      "Epoch 95/100\n",
      "\u001b[1m938/938\u001b[0m \u001b[32m━━━━━━━━━━━━━━━━━━━━\u001b[0m\u001b[37m\u001b[0m \u001b[1m2s\u001b[0m 3ms/step - accuracy: 0.8999 - loss: 0.2755 - val_accuracy: 0.9015 - val_loss: 0.2706\n",
      "Epoch 96/100\n",
      "\u001b[1m938/938\u001b[0m \u001b[32m━━━━━━━━━━━━━━━━━━━━\u001b[0m\u001b[37m\u001b[0m \u001b[1m2s\u001b[0m 3ms/step - accuracy: 0.8989 - loss: 0.2777 - val_accuracy: 0.9043 - val_loss: 0.2614\n",
      "Epoch 97/100\n",
      "\u001b[1m938/938\u001b[0m \u001b[32m━━━━━━━━━━━━━━━━━━━━\u001b[0m\u001b[37m\u001b[0m \u001b[1m3s\u001b[0m 3ms/step - accuracy: 0.8999 - loss: 0.2766 - val_accuracy: 0.9038 - val_loss: 0.2641\n",
      "Epoch 98/100\n",
      "\u001b[1m938/938\u001b[0m \u001b[32m━━━━━━━━━━━━━━━━━━━━\u001b[0m\u001b[37m\u001b[0m \u001b[1m2s\u001b[0m 3ms/step - accuracy: 0.8987 - loss: 0.2764 - val_accuracy: 0.9034 - val_loss: 0.2655\n",
      "Epoch 99/100\n",
      "\u001b[1m938/938\u001b[0m \u001b[32m━━━━━━━━━━━━━━━━━━━━\u001b[0m\u001b[37m\u001b[0m \u001b[1m2s\u001b[0m 3ms/step - accuracy: 0.8968 - loss: 0.2806 - val_accuracy: 0.9046 - val_loss: 0.2618\n",
      "Epoch 100/100\n",
      "\u001b[1m938/938\u001b[0m \u001b[32m━━━━━━━━━━━━━━━━━━━━\u001b[0m\u001b[37m\u001b[0m \u001b[1m2s\u001b[0m 3ms/step - accuracy: 0.9008 - loss: 0.2745 - val_accuracy: 0.9044 - val_loss: 0.2641\n",
      "====================\n",
      "\u001b[1m1250/1250\u001b[0m \u001b[32m━━━━━━━━━━━━━━━━━━━━\u001b[0m\u001b[37m\u001b[0m \u001b[1m1s\u001b[0m 1ms/step - accuracy: 0.9103 - loss: 0.2523\n",
      "* evaluation -- 10000/20/1-4/128/100: [0.26010388135910034, 0.9069499969482422]\n",
      "====================\n"
     ]
    }
   ],
   "source": [
    "#\n",
    "# train the model\n",
    "#\n",
    "\n",
    "model.compile(loss='categorical_crossentropy', optimizer=keras.optimizers.RMSprop(), metrics=['accuracy'])\n",
    "history = model.fit(x_train, y_train, batch_size=batch_size, epochs=epochs, verbose=1, validation_data=(x_validate, y_validate))\n",
    "\n",
    "print(\"====================\")\n",
    "evaluation = model.evaluate(x_test, y_test)\n",
    "print(f\"* evaluation -- {round_count}/{random_step_count}/{remember_last_move_count}-{tile_count}/{batch_size}/{epochs}: {evaluation}\")\n",
    "print(\"====================\")\n"
   ]
  },
  {
   "cell_type": "code",
   "execution_count": 7,
   "metadata": {},
   "outputs": [
    {
     "data": {
      "image/png": "[encoded data removed]",
      "text/plain": [
       "<Figure size 640x480 with 1 Axes>"
      ]
     },
     "metadata": {},
     "output_type": "display_data"
    },
    {
     "data": {
      "image/png": "[encoded data removed]",
      "text/plain": [
       "<Figure size 640x480 with 1 Axes>"
      ]
     },
     "metadata": {},
     "output_type": "display_data"
    }
   ],
   "source": [
    "#\n",
    "# show the training loss and accuracy\n",
    "#\n",
    "\n",
    "loss = history.history['loss']\n",
    "val_loss = history.history['val_loss']\n",
    "\n",
    "epochs = range(1, len(loss) + 1)\n",
    "\n",
    "plt.plot(epochs, loss, 'r.', label='Training loss')\n",
    "plt.plot(epochs, val_loss, 'b', label='Validation loss')\n",
    "plt.title('Training and validation loss')\n",
    "plt.xlabel('Epochs')\n",
    "plt.ylabel('Loss')\n",
    "plt.legend()\n",
    "plt.show()\n",
    "\n",
    "accuracy = history.history['accuracy']\n",
    "val_accuracy = history.history['val_accuracy']\n",
    "epochs = range(1, len(accuracy) + 1)\n",
    "plt.plot(epochs, accuracy, 'r.', label='Training accuracy')\n",
    "plt.plot(epochs, val_accuracy, 'b', label='Validation accuracy')\n",
    "plt.title('Training and validation accuracy')\n",
    "plt.xlabel('Epochs')\n",
    "plt.ylabel('Accuracy')\n",
    "plt.legend()\n",
    "plt.show()\n"
   ]
  },
  {
   "cell_type": "code",
   "execution_count": 8,
   "metadata": {},
   "outputs": [
    {
     "name": "stdout",
     "output_type": "stream",
     "text": [
      "---------------------\n",
      "|  4 |  1 |  2 |  3 |\n",
      "|  0 |  5 |  6 |  7 |\n",
      "|  8 |  9 | 10 | 11 |\n",
      "| 12 | 13 | 14 | 15 |\n",
      "---------------------\n",
      "* x shape: (1, 17)\n",
      "* x:\n",
      "    [[0.25   0.0625 0.125  0.1875 0.     0.3125 0.375  0.4375 0.5    0.5625\n",
      "      0.625  0.6875 0.75   0.8125 0.875  0.9375 0.    ]]\n",
      "\u001b[1m1/1\u001b[0m \u001b[32m━━━━━━━━━━━━━━━━━━━━\u001b[0m\u001b[37m\u001b[0m \u001b[1m0s\u001b[0m 49ms/step\n",
      "*  [8.6870372e-10 7.1991291e-10 9.9996221e-01 3.7775964e-05] ==> 2\n"
     ]
    }
   ],
   "source": [
    "#\n",
    "# test the model with a board randomized with a single step\n",
    "#\n",
    "\n",
    "board_manager = BoardManager(tile_count)\n",
    "board_manager.randomize_board_step()\n",
    "board_manager.show_board()\n",
    "\n",
    "x = np.array([board_manager.board_tiles]).astype('float32') / (tile_count * tile_count)\n",
    "\n",
    "if remember_last_move_count > 0:\n",
    "  for i in range(remember_last_move_count):\n",
    "    x = np.column_stack((x, 0))\n",
    "  print(f\"* x shape: {x.shape}\")\n",
    "  if True:\n",
    "    print(f\"* x:\")\n",
    "    print(textwrap.indent(str(x), \"    \"))\n",
    "\n",
    "prediction = model.predict(x)[0]\n",
    "ans = argmax(prediction)\n",
    "print(f\"*  {prediction} ==> {ans}\")"
   ]
  },
  {
   "cell_type": "code",
   "execution_count": 9,
   "metadata": {},
   "outputs": [
    {
     "name": "stderr",
     "output_type": "stream",
     "text": [
      "A subdirectory or file output already exists.\n"
     ]
    },
    {
     "name": "stdout",
     "output_type": "stream",
     "text": [
      "INFO:tensorflow:Assets written to: C:\\Users\\TREVOR~1\\AppData\\Local\\Temp\\tmpg31guh7w\\assets\n"
     ]
    },
    {
     "name": "stderr",
     "output_type": "stream",
     "text": [
      "INFO:tensorflow:Assets written to: C:\\Users\\TREVOR~1\\AppData\\Local\\Temp\\tmpg31guh7w\\assets\n"
     ]
    },
    {
     "name": "stdout",
     "output_type": "stream",
     "text": [
      "Saved artifact at 'C:\\Users\\TREVOR~1\\AppData\\Local\\Temp\\tmpg31guh7w'. The following endpoints are available:\n",
      "\n",
      "* Endpoint 'serve'\n",
      "  args_0 (POSITIONAL_ONLY): TensorSpec(shape=(None, 17), dtype=tf.float32, name='keras_tensor')\n",
      "Output Type:\n",
      "  TensorSpec(shape=(None, 4), dtype=tf.float32, name=None)\n",
      "Captures:\n",
      "  1942786111264: TensorSpec(shape=(), dtype=tf.resource, name=None)\n",
      "  1942786182304: TensorSpec(shape=(), dtype=tf.resource, name=None)\n",
      "  1942786394768: TensorSpec(shape=(), dtype=tf.resource, name=None)\n",
      "  1942786394416: TensorSpec(shape=(), dtype=tf.resource, name=None)\n",
      "  1942786443392: TensorSpec(shape=(), dtype=tf.resource, name=None)\n",
      "  1942786443216: TensorSpec(shape=(), dtype=tf.resource, name=None)\n",
      "\n",
      "***** sp_lm_model_4_1.h is generated *****\n"
     ]
    }
   ],
   "source": [
    "#\n",
    "# generate the tflite model and convert it to C header file\n",
    "#\n",
    "\n",
    "!mkdir output\n",
    "converter = tf.lite.TFLiteConverter.from_keras_model(model)\n",
    "tflite_model = converter.convert()\n",
    "\n",
    "header_name = f\"sp_lm_model_{tile_count}_{remember_last_move_count}\"\n",
    "write_model_as_c_header_file(tflite_model, f\"src/esp32_sliding_puzzle/{header_name}.h\", \"sp_model\")\n",
    "\n",
    "print()\n",
    "print(f\"***** {header_name}.h is generated *****\")\n"
   ]
  }
 ],
 "metadata": {
  "kernelspec": {
   "display_name": ".venv",
   "language": "python",
   "name": "python3"
  },
  "language_info": {
   "codemirror_mode": {
    "name": "ipython",
    "version": 3
   },
   "file_extension": ".py",
   "mimetype": "text/x-python",
   "name": "python",
   "nbconvert_exporter": "python",
   "pygments_lexer": "ipython3",
   "version": "3.9.10"
  }
 },
 "nbformat": 4,
 "nbformat_minor": 2
}
